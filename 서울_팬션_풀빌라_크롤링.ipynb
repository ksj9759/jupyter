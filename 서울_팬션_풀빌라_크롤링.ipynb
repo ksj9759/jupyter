{
 "cells": [
  {
   "cell_type": "code",
   "execution_count": 7,
   "id": "f9274573",
   "metadata": {},
   "outputs": [],
   "source": [
    "import requests\n",
    "from bs4 import BeautifulSoup\n",
    "from selenium import webdriver\n",
    "from selenium.webdriver.common.keys import Keys\n",
    "from selenium.webdriver.common.by import By\n",
    "from selenium.webdriver.chrome.service import Service\n",
    "import time\n",
    "import pandas as pd\n",
    "import random\n",
    "from tqdm import tqdm"
   ]
  },
  {
   "cell_type": "code",
   "execution_count": 8,
   "id": "99d2e5c6",
   "metadata": {},
   "outputs": [],
   "source": [
    "import time\n",
    "import pandas as pd\n",
    "from selenium import webdriver\n",
    "import random\n",
    "from tqdm import tqdm"
   ]
  },
  {
   "cell_type": "code",
   "execution_count": 9,
   "id": "4978a728",
   "metadata": {},
   "outputs": [],
   "source": [
    "base = 'https://www.yanolja.com'\n",
    "url = base + '/pension/r-900270?advert=AREA&topAdvertiseMore=1'\n",
    "driver = webdriver.Chrome()\n",
    "driver.get(url)  #페이지열기"
   ]
  },
  {
   "cell_type": "code",
   "execution_count": 10,
   "id": "a0790d45",
   "metadata": {},
   "outputs": [],
   "source": [
    "soup = BeautifulSoup(driver.page_source,'html.parser')"
   ]
  },
  {
   "cell_type": "code",
   "execution_count": 11,
   "id": "32b96ea0",
   "metadata": {},
   "outputs": [],
   "source": [
    "lis = soup.find_all('div',attrs={'class':'PlaceListItemText_container__fUIgA text-unit'})"
   ]
  },
  {
   "cell_type": "code",
   "execution_count": 12,
   "id": "21762995",
   "metadata": {},
   "outputs": [
    {
     "data": {
      "text/plain": [
       "[<div class=\"PlaceListItemText_container__fUIgA text-unit\"><a class=\"common_clearfix__M6urU\" href=\"/pension/10043042\" title=\"서울 명동루프탑호스텔\"><div class=\"PlaceListItemText_area__3l67D\"><div class=\"PlaceListItemText_image__2mlnK place-image\"><div class=\"PlaceListImage_container__t-mGF\"><div class=\"PlaceListImage_imageTextPlaceholder__1A9kl\" style='background-image: url(\"//yaimg.yanolja.com/joy/sunny/static/images/logo-yanolja-white.svg\");'></div><div class=\"PlaceListImage_imageText__2XEMn\" style='background-image: url(\"https://yaimg.yanolja.com/v5/2022/11/11/16/1280/636e7194a1b3a7.88946404.jpg\");'></div></div><div class=\"PlaceListDistance_containerText__2ODf3\"><i></i><span>9km</span></div></div><div class=\"PlaceListItemText_contents__2GR73 place-content PlaceListItemText_singlePrice__1aj9I\"><div class=\"PlaceListTitle_container__qe7XH\"><strong class=\"PlaceListTitle_text__2511B small\">서울 명동루프탑호스텔</strong></div><div class=\"PlaceListItemText_extraInfos__3Bp2B\"><div class=\"PlaceListScore_container__2-JXJ PlaceListItemText_score__1O-nW\"><span class=\"PlaceListScore_rating__3Glxf\"><span class=\"PlaceListScore_ratingStars__1IKyk\"><i class=\"PlaceListScore_stars__2qfg3\" style=\"width: 88%;\"></i></span>4.4</span><span class=\"PlaceListScore_reviewInfo__3QSCU\">(11)</span></div></div><div class=\"PlaceListItemText_prices__2_1nN\"><div class=\"PlaceListItemText_price__2pF1C\"><div class=\"PlacePriceInfo_priceInfo__H0DLi\"><span class=\"PlacePriceInfo_priceLabel__24Eu7\">숙박</span><span class=\"PlacePriceInfo_extraInfoText__1bCwu\">15:00부터</span><span class=\"PlacePriceInfo_salePrice__28VZD\"><span class=\"PlacePriceInfo_priceSoldout__LYUhp\">예약마감</span></span></div></div></div></div></div></a></div>,\n",
       " <div class=\"PlaceListItemText_container__fUIgA text-unit\"><a class=\"common_clearfix__M6urU\" href=\"/pension/1000116136\" title=\"서울 아산숙소힐하우스펜션\"><div class=\"PlaceListItemText_area__3l67D\"><div class=\"PlaceListItemText_image__2mlnK place-image\"><div class=\"PlaceListImage_container__t-mGF\"><div class=\"PlaceListImage_imageTextPlaceholder__1A9kl\" style='background-image: url(\"//yaimg.yanolja.com/joy/sunny/static/images/logo-yanolja-white.svg\");'></div><div class=\"PlaceListImage_imageText__2XEMn\" style='background-image: url(\"https://yaimg.yanolja.com/v5/2023/04/22/22/1280/644462f8855a95.02675966.jpg\");'></div></div><div class=\"PlaceListDistance_containerText__2ODf3\"><i></i><span>4.9km</span></div></div><div class=\"PlaceListItemText_contents__2GR73 place-content PlaceListItemText_singlePrice__1aj9I\"><div class=\"PlaceListTitle_container__qe7XH\"><strong class=\"PlaceListTitle_text__2511B small\">서울 아산숙소힐하우스펜션</strong></div><div class=\"PlaceListItemText_extraInfos__3Bp2B\"><div class=\"PlaceListScore_container__2-JXJ PlaceListItemText_score__1O-nW\"><span class=\"PlaceListScore_rating__3Glxf\"><span class=\"PlaceListScore_ratingStars__1IKyk\"><i class=\"PlaceListScore_stars__2qfg3\" style=\"width: 92%;\"></i></span>4.6</span><span class=\"PlaceListScore_reviewInfo__3QSCU\">(28)</span></div></div><div class=\"PlaceListItemText_prices__2_1nN\"><div class=\"PlaceListItemText_price__2pF1C\"><div class=\"PlacePriceInfo_priceInfo__H0DLi\"><span class=\"PlacePriceInfo_priceLabel__24Eu7\">숙박</span><span class=\"PlacePriceInfo_extraInfoText__1bCwu\">14:00부터</span><span class=\"PlacePriceInfo_salePrice__28VZD\"><span class=\"PlacePriceInfo_priceSoldout__LYUhp\">예약마감</span></span></div></div></div></div></div></a></div>,\n",
       " <div class=\"PlaceListItemText_container__fUIgA text-unit\"><a class=\"common_clearfix__M6urU\" href=\"/pension/1000112853\" title=\"서울 신촌위고인호스텔\"><div class=\"PlaceListItemText_area__3l67D\"><div class=\"PlaceListItemText_image__2mlnK place-image\"><div class=\"PlaceListImage_container__t-mGF\"><div class=\"PlaceListImage_imageTextPlaceholder__1A9kl\" style='background-image: url(\"//yaimg.yanolja.com/joy/sunny/static/images/logo-yanolja-white.svg\");'></div><div class=\"PlaceListImage_imageText__2XEMn\" style='background-image: url(\"https://yaimg.yanolja.com/v5/2023/04/23/07/1280/6444e372315099.66112484.jpg\");'></div></div><div class=\"PlaceListDistance_containerText__2ODf3\"><i></i><span>12.3km</span></div></div><div class=\"PlaceListItemText_contents__2GR73 place-content PlaceListItemText_singlePrice__1aj9I\"><div class=\"PlaceListTitle_container__qe7XH\"><strong class=\"PlaceListTitle_text__2511B small\">서울 신촌위고인호스텔</strong></div><div class=\"PlaceListItemText_extraInfos__3Bp2B\"><div class=\"PlaceListScore_container__2-JXJ PlaceListItemText_score__1O-nW\"><span class=\"PlaceListScore_rating__3Glxf\"><span class=\"PlaceListScore_ratingStars__1IKyk\"><i class=\"PlaceListScore_stars__2qfg3\" style=\"width: 94%;\"></i></span>4.7</span><span class=\"PlaceListScore_reviewInfo__3QSCU\">(25)</span></div></div><div class=\"PlaceListItemText_prices__2_1nN\"><div class=\"PlaceListItemText_price__2pF1C\"><div class=\"PlacePriceInfo_priceInfo__H0DLi\"><span class=\"PlacePriceInfo_priceLabel__24Eu7\">숙박</span><span class=\"PlacePriceInfo_extraInfoText__1bCwu\">16:00부터</span><span class=\"PlacePriceInfo_salePrice__28VZD\"><span class=\"PlacePriceInfo_priceSoldout__LYUhp\">예약마감</span></span></div></div></div></div></div></a></div>,\n",
       " <div class=\"PlaceListItemText_container__fUIgA text-unit\"><a class=\"common_clearfix__M6urU\" href=\"/pension/10042223\" title=\"명동 더로드펜션\"><div class=\"PlaceListItemText_area__3l67D\"><div class=\"PlaceListItemText_image__2mlnK place-image\"><div class=\"PlaceListImage_container__t-mGF\"><div class=\"PlaceListImage_imageTextPlaceholder__1A9kl\" style='background-image: url(\"//yaimg.yanolja.com/joy/sunny/static/images/logo-yanolja-white.svg\");'></div><div class=\"PlaceListImage_imageText__2XEMn\" style='background-image: url(\"https://yaimg.yanolja.com/v5/2021/12/31/17/1280/61cf40858027b6.79648994.jpg\");'></div></div><div class=\"PlaceListDistance_containerText__2ODf3\"><i></i><span>9.2km</span></div></div><div class=\"PlaceListItemText_contents__2GR73 place-content PlaceListItemText_singlePrice__1aj9I\"><div class=\"PlaceListTitle_container__qe7XH\"><strong class=\"PlaceListTitle_text__2511B small\">명동 더로드펜션</strong></div><div class=\"PlaceListItemText_extraInfos__3Bp2B\"><div class=\"PlaceListScore_container__2-JXJ PlaceListItemText_score__1O-nW\"><span class=\"PlaceListScore_rating__3Glxf\"><span class=\"PlaceListScore_ratingStars__1IKyk\"><i class=\"PlaceListScore_stars__2qfg3\" style=\"width: 100%;\"></i></span>5.0</span><span class=\"PlaceListScore_reviewInfo__3QSCU\">(2)</span></div></div><div class=\"PlaceListItemText_prices__2_1nN\"><div class=\"PlaceListItemText_price__2pF1C\"><div class=\"PlacePriceInfo_extraInfo__3xwp8\"><span></span></div><div class=\"PlacePriceInfo_priceInfo__H0DLi\"><span class=\"PlacePriceInfo_priceLabel__24Eu7\">숙박</span><span class=\"PlacePriceInfo_extraInfoText__1bCwu\">15:00부터</span><span class=\"PlacePriceInfo_salePrice__28VZD\">70,000<small>원</small></span></div></div></div></div></div></a></div>,\n",
       " <div class=\"PlaceListItemText_container__fUIgA text-unit\"><a class=\"common_clearfix__M6urU\" href=\"/pension/1000122070\" title=\"서울 남산스토리나인호스텔\"><div class=\"PlaceListItemText_area__3l67D\"><div class=\"PlaceListItemText_image__2mlnK place-image\"><div class=\"PlaceListImage_container__t-mGF\"><div class=\"PlaceListImage_imageTextPlaceholder__1A9kl\" style='background-image: url(\"//yaimg.yanolja.com/joy/sunny/static/images/logo-yanolja-white.svg\");'></div><div class=\"PlaceListImage_imageText__2XEMn\" style='background-image: url(\"https://yaimg.yanolja.com/v5/2023/04/23/09/1280/6444f691335982.39516060.jpg\");'></div></div><div class=\"PlaceListDistance_containerText__2ODf3\"><i></i><span>9.3km</span></div></div><div class=\"PlaceListItemText_contents__2GR73 place-content PlaceListItemText_singlePrice__1aj9I\"><div class=\"PlaceListTitle_container__qe7XH\"><strong class=\"PlaceListTitle_text__2511B small\">서울 남산스토리나인호스텔</strong></div><div class=\"PlaceListItemText_extraInfos__3Bp2B\"><div class=\"PlaceListScore_container__2-JXJ PlaceListItemText_score__1O-nW\"><span class=\"PlaceListScore_rating__3Glxf\"><span class=\"PlaceListScore_ratingStars__1IKyk\"><i class=\"PlaceListScore_stars__2qfg3\" style=\"width: 100%;\"></i></span>5.0</span><span class=\"PlaceListScore_reviewInfo__3QSCU\">(5)</span></div></div><div class=\"PlaceListItemText_prices__2_1nN\"><div class=\"PlaceListItemText_price__2pF1C\"><div class=\"PlacePriceInfo_extraInfo__3xwp8\"><span></span></div><div class=\"PlacePriceInfo_priceInfo__H0DLi\"><span class=\"PlacePriceInfo_priceLabel__24Eu7\">숙박</span><span class=\"PlacePriceInfo_extraInfoText__1bCwu\">15:00부터</span><span class=\"PlacePriceInfo_salePrice__28VZD\">104,000<small>원</small></span></div></div></div></div></div></a></div>,\n",
       " <div class=\"PlaceListItemText_container__fUIgA text-unit\"><a class=\"common_clearfix__M6urU\" href=\"/pension/1000117234\" title=\"종로 락고재서울북촌한옥마을펜션\"><div class=\"PlaceListItemText_area__3l67D\"><div class=\"PlaceListItemText_image__2mlnK place-image\"><div class=\"PlaceListImage_container__t-mGF\"><div class=\"PlaceListImage_imageTextPlaceholder__1A9kl\" style='background-image: url(\"//yaimg.yanolja.com/joy/sunny/static/images/logo-yanolja-white.svg\");'></div><div class=\"PlaceListImage_imageText__2XEMn\" style='background-image: url(\"https://yaimg.yanolja.com/v5/2022/10/24/18/1280/6356d3e1637678.93794627.jpg\");'></div></div><div class=\"PlaceListDistance_containerText__2ODf3\"><i></i><span>10.7km</span></div></div><div class=\"PlaceListItemText_contents__2GR73 place-content PlaceListItemText_singlePrice__1aj9I\"><div class=\"PlaceListTitle_container__qe7XH\"><strong class=\"PlaceListTitle_text__2511B small\">종로 락고재서울북촌한옥마을펜션</strong></div><div class=\"PlaceListItemText_extraInfos__3Bp2B\"><div class=\"PlaceListScore_container__2-JXJ PlaceListItemText_score__1O-nW\"><span class=\"PlaceListScore_rating__3Glxf\"><span class=\"PlaceListScore_ratingStars__1IKyk\"><i class=\"PlaceListScore_stars__2qfg3\" style=\"width: 100%;\"></i></span>5.0</span><span class=\"PlaceListScore_reviewInfo__3QSCU\">(10)</span></div></div><div class=\"PlaceListItemText_prices__2_1nN\"><div class=\"PlaceListItemText_price__2pF1C\"><div class=\"PlacePriceInfo_extraInfo__3xwp8\"><span></span></div><div class=\"PlacePriceInfo_priceInfo__H0DLi\"><span class=\"PlacePriceInfo_priceLabel__24Eu7\">숙박</span><span class=\"PlacePriceInfo_extraInfoText__1bCwu\">15:00부터</span><span class=\"PlacePriceInfo_salePrice__28VZD\">390,000<small>원</small></span></div></div></div></div></div></a></div>,\n",
       " <div class=\"PlaceListItemText_container__fUIgA text-unit\"><a class=\"common_clearfix__M6urU\" href=\"/pension/10042924\" title=\"서울 오요호스텔동대문1\"><div class=\"PlaceListItemText_area__3l67D\"><div class=\"PlaceListItemText_image__2mlnK place-image\"><div class=\"PlaceListImage_container__t-mGF\"><div class=\"PlaceListImage_imageTextPlaceholder__1A9kl\" style='background-image: url(\"//yaimg.yanolja.com/joy/sunny/static/images/logo-yanolja-white.svg\");'></div><div class=\"PlaceListImage_imageText__2XEMn\" style='background-image: url(\"https://yaimg.yanolja.com/v5/2022/11/11/16/1280/636e73e027b699.72353033.jpg\");'></div></div><div class=\"PlaceListDistance_containerText__2ODf3\"><i></i><span>9km</span></div></div><div class=\"PlaceListItemText_contents__2GR73 place-content PlaceListItemText_singlePrice__1aj9I\"><div class=\"PlaceListTitle_container__qe7XH\"><strong class=\"PlaceListTitle_text__2511B small\">서울 오요호스텔동대문1</strong></div><div class=\"PlaceListItemText_extraInfos__3Bp2B\"><div class=\"PlaceListScore_container__2-JXJ PlaceListItemText_score__1O-nW\"><span class=\"PlaceListScore_rating__3Glxf\"><span class=\"PlaceListScore_ratingStars__1IKyk\"><i class=\"PlaceListScore_stars__2qfg3\" style=\"width: 60%;\"></i></span>3.0</span><span class=\"PlaceListScore_reviewInfo__3QSCU\">(3)</span></div></div><div class=\"PlaceListItemText_prices__2_1nN\"><div class=\"PlaceListItemText_price__2pF1C\"><div class=\"PlacePriceInfo_priceInfo__H0DLi\"><span class=\"PlacePriceInfo_priceLabel__24Eu7\">숙박</span><span class=\"PlacePriceInfo_extraInfoText__1bCwu\">15:00부터</span><span class=\"PlacePriceInfo_salePrice__28VZD\"><span class=\"PlacePriceInfo_priceSoldout__LYUhp\">예약마감</span></span></div></div></div></div></div></a></div>,\n",
       " <div class=\"PlaceListItemText_container__fUIgA text-unit\"><a class=\"common_clearfix__M6urU\" href=\"/pension/10042914\" title=\"서울 오요호스텔명동3\"><div class=\"PlaceListItemText_area__3l67D\"><div class=\"PlaceListItemText_image__2mlnK place-image\"><div class=\"PlaceListImage_container__t-mGF\"><div class=\"PlaceListImage_imageTextPlaceholder__1A9kl\" style='background-image: url(\"//yaimg.yanolja.com/joy/sunny/static/images/logo-yanolja-white.svg\");'></div><div class=\"PlaceListImage_imageText__2XEMn\" style='background-image: url(\"https://yaimg.yanolja.com/v5/2022/11/11/16/1280/636e7674916c39.28302968.jpg\");'></div></div><div class=\"PlaceListDistance_containerText__2ODf3\"><i></i><span>9.4km</span></div></div><div class=\"PlaceListItemText_contents__2GR73 place-content PlaceListItemText_singlePrice__1aj9I\"><div class=\"PlaceListTitle_container__qe7XH\"><strong class=\"PlaceListTitle_text__2511B small\">서울 오요호스텔명동3</strong></div><div class=\"PlaceListItemText_extraInfos__3Bp2B\"><div class=\"PlaceListScore_container__2-JXJ PlaceListItemText_score__1O-nW\"><span class=\"PlaceListScore_rating__3Glxf\"><span class=\"PlaceListScore_ratingStars__1IKyk\"><i class=\"PlaceListScore_stars__2qfg3\" style=\"width: 80%;\"></i></span>4.0</span><span class=\"PlaceListScore_reviewInfo__3QSCU\">(1)</span></div></div><div class=\"PlaceListItemText_prices__2_1nN\"><div class=\"PlaceListItemText_price__2pF1C\"><div class=\"PlacePriceInfo_priceInfo__H0DLi\"><span class=\"PlacePriceInfo_priceLabel__24Eu7\">숙박</span><span class=\"PlacePriceInfo_extraInfoText__1bCwu\">15:00부터</span><span class=\"PlacePriceInfo_salePrice__28VZD\"><span class=\"PlacePriceInfo_priceSoldout__LYUhp\">예약마감</span></span></div></div></div></div></div></a></div>,\n",
       " <div class=\"PlaceListItemText_container__fUIgA text-unit\"><a class=\"common_clearfix__M6urU\" href=\"/pension/10042163\" title=\"영등포 캡슐M펜션\"><div class=\"PlaceListItemText_area__3l67D\"><div class=\"PlaceListItemText_image__2mlnK place-image\"><div class=\"PlaceListImage_container__t-mGF\"><div class=\"PlaceListImage_imageTextPlaceholder__1A9kl\" style='background-image: url(\"//yaimg.yanolja.com/joy/sunny/static/images/logo-yanolja-white.svg\");'></div><div class=\"PlaceListImage_imageText__2XEMn\" style='background-image: url(\"https://yaimg.yanolja.com/v5/2021/12/10/14/1280/61b36405933f98.57547455.jpg\");'></div></div><div class=\"PlaceListDistance_containerText__2ODf3\"><i></i><span>14.2km</span></div></div><div class=\"PlaceListItemText_contents__2GR73 place-content PlaceListItemText_singlePrice__1aj9I\"><div class=\"PlaceListTitle_container__qe7XH\"><strong class=\"PlaceListTitle_text__2511B small\">영등포 캡슐M펜션</strong></div><div class=\"PlaceListItemText_extraInfos__3Bp2B\"><div class=\"PlaceListScore_container__2-JXJ PlaceListItemText_score__1O-nW\"><span class=\"PlaceListScore_rating__3Glxf\"><span class=\"PlaceListScore_ratingStars__1IKyk\"><i class=\"PlaceListScore_stars__2qfg3\" style=\"width: 20%;\"></i></span>1.0</span><span class=\"PlaceListScore_reviewInfo__3QSCU\">(2)</span></div></div><div class=\"PlaceListItemText_prices__2_1nN\"><div class=\"PlaceListItemText_price__2pF1C\"><div class=\"PlacePriceInfo_extraInfo__3xwp8\"><span></span></div><div class=\"PlacePriceInfo_priceInfo__H0DLi\"><span class=\"PlacePriceInfo_priceLabel__24Eu7\">숙박</span><span class=\"PlacePriceInfo_extraInfoText__1bCwu\">14:00부터</span><span class=\"PlacePriceInfo_salePrice__28VZD\">65,000<small>원</small></span></div></div></div></div></div></a></div>,\n",
       " <div class=\"PlaceListItemText_container__fUIgA text-unit\"><a class=\"common_clearfix__M6urU\" href=\"/pension/1000123983\" title=\"서울 홍대필로소퍼호스텔\"><div class=\"PlaceListItemText_area__3l67D\"><div class=\"PlaceListItemText_image__2mlnK place-image\"><div class=\"PlaceListImage_container__t-mGF\"><div class=\"PlaceListImage_imageTextPlaceholder__1A9kl\" style='background-image: url(\"//yaimg.yanolja.com/joy/sunny/static/images/logo-yanolja-white.svg\");'></div><div class=\"PlaceListImage_imageText__2XEMn\" style='background-image: url(\"https://yaimg.yanolja.com/v5/2023/04/21/17/1280/6442c796f0ac08.48401842.jpg\");'></div></div><div class=\"PlaceListDistance_containerText__2ODf3\"><i></i><span>13.9km</span></div></div><div class=\"PlaceListItemText_contents__2GR73 place-content PlaceListItemText_singlePrice__1aj9I\"><div class=\"PlaceListTitle_container__qe7XH\"><strong class=\"PlaceListTitle_text__2511B small\">서울 홍대필로소퍼호스텔</strong></div><div class=\"PlaceListItemText_extraInfos__3Bp2B\"><div class=\"PlaceListScore_container__2-JXJ PlaceListItemText_score__1O-nW\"><span class=\"PlaceListScore_rating__3Glxf\"><span class=\"PlaceListScore_ratingStars__1IKyk\"><i class=\"PlaceListScore_stars__2qfg3\" style=\"width: 72%;\"></i></span>3.6</span><span class=\"PlaceListScore_reviewInfo__3QSCU\">(5)</span></div></div><div class=\"PlaceListItemText_prices__2_1nN\"><div class=\"PlaceListItemText_price__2pF1C\"><div class=\"PlacePriceInfo_priceInfo__H0DLi\"><span class=\"PlacePriceInfo_priceLabel__24Eu7\">숙박</span><span class=\"PlacePriceInfo_extraInfoText__1bCwu\">16:00부터</span><span class=\"PlacePriceInfo_salePrice__28VZD\"><span class=\"PlacePriceInfo_priceSoldout__LYUhp\">예약마감</span></span></div></div></div></div></div></a></div>,\n",
       " <div class=\"PlaceListItemText_container__fUIgA text-unit\"><a class=\"common_clearfix__M6urU\" href=\"/pension/10043037\" title=\"서울 오요호스텔명동1\"><div class=\"PlaceListItemText_area__3l67D\"><div class=\"PlaceListItemText_image__2mlnK place-image\"><div class=\"PlaceListImage_container__t-mGF\"><div class=\"PlaceListImage_imageTextPlaceholder__1A9kl\" style='background-image: url(\"//yaimg.yanolja.com/joy/sunny/static/images/logo-yanolja-white.svg\");'></div><div class=\"PlaceListImage_imageText__2XEMn\" style='background-image: url(\"https://yaimg.yanolja.com/v5/2022/05/25/16/1280/628e5daebb1713.06716630.jpg\");'></div></div><div class=\"PlaceListDistance_containerText__2ODf3\"><i></i><span>9.4km</span></div></div><div class=\"PlaceListItemText_contents__2GR73 place-content PlaceListItemText_singlePrice__1aj9I\"><div class=\"PlaceListTitle_container__qe7XH\"><strong class=\"PlaceListTitle_text__2511B small\">서울 오요호스텔명동1</strong></div><div class=\"PlaceListItemText_extraInfos__3Bp2B\"><div class=\"PlaceListScore_container__2-JXJ PlaceListItemText_score__1O-nW\"><span class=\"PlaceListScore_rating__3Glxf\"><span class=\"PlaceListScore_ratingStars__1IKyk\"><i class=\"PlaceListScore_stars__2qfg3\" style=\"width: 60%;\"></i></span>3.0</span><span class=\"PlaceListScore_reviewInfo__3QSCU\">(1)</span></div></div><div class=\"PlaceListItemText_prices__2_1nN\"><div class=\"PlaceListItemText_price__2pF1C\"><div class=\"PlacePriceInfo_priceInfo__H0DLi\"><span class=\"PlacePriceInfo_priceLabel__24Eu7\">숙박</span><span class=\"PlacePriceInfo_extraInfoText__1bCwu\">15:00부터</span><span class=\"PlacePriceInfo_salePrice__28VZD\"><span class=\"PlacePriceInfo_priceSoldout__LYUhp\">예약마감</span></span></div></div></div></div></div></a></div>,\n",
       " <div class=\"PlaceListItemText_container__fUIgA text-unit\"><a class=\"common_clearfix__M6urU\" href=\"/pension/1000109606\" title=\"서울 아트래블홈게스트하우스\"><div class=\"PlaceListItemText_area__3l67D\"><div class=\"PlaceListItemText_image__2mlnK place-image\"><div class=\"PlaceListImage_container__t-mGF\"><div class=\"PlaceListImage_imageTextPlaceholder__1A9kl\" style='background-image: url(\"//yaimg.yanolja.com/joy/sunny/static/images/logo-yanolja-white.svg\");'></div><div class=\"PlaceListImage_imageText__2XEMn\" style='background-image: url(\"https://yaimg.yanolja.com/v5/2023/04/23/06/1280/6444cd800bb9c8.03936187.jpg\");'></div></div><div class=\"PlaceListDistance_containerText__2ODf3\"><i></i><span>9.4km</span></div></div><div class=\"PlaceListItemText_contents__2GR73 place-content PlaceListItemText_singlePrice__1aj9I\"><div class=\"PlaceListTitle_container__qe7XH\"><strong class=\"PlaceListTitle_text__2511B small\">서울 아트래블홈게스트하우스</strong></div><div class=\"PlaceListItemText_extraInfos__3Bp2B\"><div class=\"PlaceListScore_container__2-JXJ PlaceListItemText_score__1O-nW\"><span class=\"PlaceListScore_rating__3Glxf\"><span class=\"PlaceListScore_ratingStars__1IKyk\"><i class=\"PlaceListScore_stars__2qfg3\" style=\"width: 100%;\"></i></span>5.0</span><span class=\"PlaceListScore_reviewInfo__3QSCU\">(6)</span></div></div><div class=\"PlaceListItemText_prices__2_1nN\"><div class=\"PlaceListItemText_price__2pF1C\"><div class=\"PlacePriceInfo_priceInfo__H0DLi\"><span class=\"PlacePriceInfo_priceLabel__24Eu7\">숙박</span><span class=\"PlacePriceInfo_extraInfoText__1bCwu\">16:00부터</span><span class=\"PlacePriceInfo_salePrice__28VZD\"><span class=\"PlacePriceInfo_priceSoldout__LYUhp\">예약마감</span></span></div></div></div></div></div></a></div>,\n",
       " <div class=\"PlaceListItemText_container__fUIgA text-unit\"><a class=\"common_clearfix__M6urU\" href=\"/pension/1000109103\" title=\"서울 벙크게스트하우스\"><div class=\"PlaceListItemText_area__3l67D\"><div class=\"PlaceListItemText_image__2mlnK place-image\"><div class=\"PlaceListImage_container__t-mGF\"><div class=\"PlaceListImage_imageTextPlaceholder__1A9kl\" style='background-image: url(\"//yaimg.yanolja.com/joy/sunny/static/images/logo-yanolja-white.svg\");'></div><div class=\"PlaceListImage_imageText__2XEMn\" style='background-image: url(\"https://yaimg.yanolja.com/v5/2023/03/27/18/1280/6421e1e13e0924.08890651.jpg\");'></div></div><div class=\"PlaceListDistance_containerText__2ODf3\"><i></i><span>13.4km</span></div></div><div class=\"PlaceListItemText_contents__2GR73 place-content PlaceListItemText_singlePrice__1aj9I\"><div class=\"PlaceListTitle_container__qe7XH\"><strong class=\"PlaceListTitle_text__2511B small\">서울 벙크게스트하우스</strong></div><div class=\"PlaceListItemText_extraInfos__3Bp2B\"><div class=\"PlaceListScore_container__2-JXJ PlaceListItemText_score__1O-nW\"><span class=\"PlaceListScore_rating__3Glxf\"><span class=\"PlaceListScore_ratingStars__1IKyk\"><i class=\"PlaceListScore_stars__2qfg3\" style=\"width: 88%;\"></i></span>4.4</span><span class=\"PlaceListScore_reviewInfo__3QSCU\">(9)</span></div></div><div class=\"PlaceListItemText_prices__2_1nN\"><div class=\"PlaceListItemText_price__2pF1C\"><div class=\"PlacePriceInfo_priceInfo__H0DLi\"><span class=\"PlacePriceInfo_priceLabel__24Eu7\">숙박</span><span class=\"PlacePriceInfo_extraInfoText__1bCwu\">15:00부터</span><span class=\"PlacePriceInfo_salePrice__28VZD\"><span class=\"PlacePriceInfo_priceSoldout__LYUhp\">예약마감</span></span></div></div></div></div></div></a></div>,\n",
       " <div class=\"PlaceListItemText_container__fUIgA text-unit\"><a class=\"common_clearfix__M6urU\" href=\"/pension/1000109062\" title=\"서울 인사동알게스트하우스\"><div class=\"PlaceListItemText_area__3l67D\"><div class=\"PlaceListItemText_image__2mlnK place-image\"><div class=\"PlaceListImage_container__t-mGF\"><div class=\"PlaceListImage_imageTextPlaceholder__1A9kl\" style='background-image: url(\"//yaimg.yanolja.com/joy/sunny/static/images/logo-yanolja-white.svg\");'></div><div class=\"PlaceListImage_imageText__2XEMn\" style='background-image: url(\"https://yaimg.yanolja.com/v5/2022/12/16/14/1280/639c81832e51d1.25868774.jpg\");'></div></div><div class=\"PlaceListDistance_containerText__2ODf3\"><i></i><span>10km</span></div></div><div class=\"PlaceListItemText_contents__2GR73 place-content PlaceListItemText_singlePrice__1aj9I\"><div class=\"PlaceListTitle_container__qe7XH\"><strong class=\"PlaceListTitle_text__2511B small\">서울 인사동알게스트하우스</strong></div><div class=\"PlaceListItemText_extraInfos__3Bp2B\"><div class=\"PlaceListScore_container__2-JXJ PlaceListItemText_score__1O-nW\"><span class=\"PlaceListScore_rating__3Glxf\"><span class=\"PlaceListScore_ratingStars__1IKyk\"><i class=\"PlaceListScore_stars__2qfg3\" style=\"width: 96%;\"></i></span>4.8</span><span class=\"PlaceListScore_reviewInfo__3QSCU\">(4)</span></div></div><div class=\"PlaceListItemText_prices__2_1nN\"><div class=\"PlaceListItemText_price__2pF1C\"><div class=\"PlacePriceInfo_extraInfo__3xwp8\"><span></span></div><div class=\"PlacePriceInfo_priceInfo__H0DLi\"><span class=\"PlacePriceInfo_priceLabel__24Eu7\">숙박</span><span class=\"PlacePriceInfo_extraInfoText__1bCwu\">16:00부터</span><span class=\"PlacePriceInfo_salePrice__28VZD\">60,000<small>원</small></span></div></div></div></div></div></a></div>,\n",
       " <div class=\"PlaceListItemText_container__fUIgA text-unit\"><a class=\"common_clearfix__M6urU\" href=\"/pension/1000111021\" title=\"서울 룩스게스트하우스\"><div class=\"PlaceListItemText_area__3l67D\"><div class=\"PlaceListItemText_image__2mlnK place-image\"><div class=\"PlaceListImage_container__t-mGF\"><div class=\"PlaceListImage_imageTextPlaceholder__1A9kl\" style='background-image: url(\"//yaimg.yanolja.com/joy/sunny/static/images/logo-yanolja-white.svg\");'></div><div class=\"PlaceListImage_imageText__2XEMn\" style='background-image: url(\"https://yaimg.yanolja.com/v5/2023/04/23/03/1280/6444a68f7e3f22.95726156.jpg\");'></div></div><div class=\"PlaceListDistance_containerText__2ODf3\"><i></i><span>13.1km</span></div></div><div class=\"PlaceListItemText_contents__2GR73 place-content PlaceListItemText_singlePrice__1aj9I\"><div class=\"PlaceListTitle_container__qe7XH\"><strong class=\"PlaceListTitle_text__2511B small\">서울 룩스게스트하우스</strong></div><div class=\"PlaceListItemText_extraInfos__3Bp2B\"><div class=\"PlaceListScore_container__2-JXJ PlaceListItemText_score__1O-nW\"><span class=\"PlaceListScore_rating__3Glxf\"><span class=\"PlaceListScore_ratingStars__1IKyk\"><i class=\"PlaceListScore_stars__2qfg3\" style=\"width: 72%;\"></i></span>3.6</span><span class=\"PlaceListScore_reviewInfo__3QSCU\">(13)</span></div></div><div class=\"PlaceListItemText_prices__2_1nN\"><div class=\"PlaceListItemText_price__2pF1C\"><div class=\"PlacePriceInfo_priceInfo__H0DLi\"><span class=\"PlacePriceInfo_priceLabel__24Eu7\">숙박</span><span class=\"PlacePriceInfo_extraInfoText__1bCwu\">15:00부터</span><span class=\"PlacePriceInfo_salePrice__28VZD\"><span class=\"PlacePriceInfo_priceSoldout__LYUhp\">예약마감</span></span></div></div></div></div></div></a></div>,\n",
       " <div class=\"PlaceListItemText_container__fUIgA text-unit\"><a class=\"common_clearfix__M6urU\" href=\"/pension/1000108596\" title=\"서울 Bottlehouse펜션\"><div class=\"PlaceListItemText_area__3l67D\"><div class=\"PlaceListItemText_image__2mlnK place-image\"><div class=\"PlaceListImage_container__t-mGF\"><div class=\"PlaceListImage_imageTextPlaceholder__1A9kl\" style='background-image: url(\"//yaimg.yanolja.com/joy/sunny/static/images/logo-yanolja-white.svg\");'></div><div class=\"PlaceListImage_imageText__2XEMn\" style='background-image: url(\"https://yaimg.yanolja.com/v5/2023/04/21/15/1280/6442b01cac0666.71156955.jpg\");'></div></div><div class=\"PlaceListDistance_containerText__2ODf3\"><i></i><span>19.6km</span></div></div><div class=\"PlaceListItemText_contents__2GR73 place-content PlaceListItemText_singlePrice__1aj9I\"><div class=\"PlaceListTitle_container__qe7XH\"><strong class=\"PlaceListTitle_text__2511B small\">서울 Bottlehouse펜션</strong></div><div class=\"PlaceListItemText_extraInfos__3Bp2B\"><div class=\"PlaceListScore_container__2-JXJ PlaceListItemText_score__1O-nW\"><span class=\"PlaceListScore_rating__3Glxf\"><span class=\"PlaceListScore_ratingStars__1IKyk\"><i class=\"PlaceListScore_stars__2qfg3\" style=\"width: 80%;\"></i></span>4.0</span><span class=\"PlaceListScore_reviewInfo__3QSCU\">(3)</span></div></div><div class=\"PlaceListItemText_prices__2_1nN\"><div class=\"PlaceListItemText_price__2pF1C\"><div class=\"PlacePriceInfo_priceInfo__H0DLi\"><span class=\"PlacePriceInfo_priceLabel__24Eu7\">숙박</span><span class=\"PlacePriceInfo_extraInfoText__1bCwu\">15:00부터</span><span class=\"PlacePriceInfo_salePrice__28VZD\"><span class=\"PlacePriceInfo_priceSoldout__LYUhp\">예약마감</span></span></div></div></div></div></div></a></div>,\n",
       " <div class=\"PlaceListItemText_container__fUIgA text-unit\"><a class=\"common_clearfix__M6urU\" href=\"/pension/1000123986\" title=\"서울 종로준오호텔펜션\"><div class=\"PlaceListItemText_area__3l67D\"><div class=\"PlaceListItemText_image__2mlnK place-image\"><div class=\"PlaceListImage_container__t-mGF\"><div class=\"PlaceListImage_imageTextPlaceholder__1A9kl\" style='background-image: url(\"//yaimg.yanolja.com/joy/sunny/static/images/logo-yanolja-white.svg\");'></div><div class=\"PlaceListImage_imageText__2XEMn\" style='background-image: url(\"https://yaimg.yanolja.com/v5/2023/04/21/17/1280/6442c506a275d8.41646577.jpg\");'></div></div><div class=\"PlaceListDistance_containerText__2ODf3\"><i></i><span>10.4km</span></div></div><div class=\"PlaceListItemText_contents__2GR73 place-content PlaceListItemText_singlePrice__1aj9I\"><div class=\"PlaceListTitle_container__qe7XH\"><strong class=\"PlaceListTitle_text__2511B small\">서울 종로준오호텔펜션</strong></div><div class=\"PlaceListItemText_extraInfos__3Bp2B\"><div class=\"PlaceListScore_container__2-JXJ PlaceListItemText_score__1O-nW\"><span class=\"PlaceListScore_rating__3Glxf\"><span class=\"PlaceListScore_ratingStars__1IKyk\"><i class=\"PlaceListScore_stars__2qfg3\" style=\"width: 100%;\"></i></span>5.0</span><span class=\"PlaceListScore_reviewInfo__3QSCU\">(1)</span></div></div><div class=\"PlaceListItemText_prices__2_1nN\"><div class=\"PlaceListItemText_price__2pF1C\"><div class=\"PlacePriceInfo_extraInfo__3xwp8\"><span></span></div><div class=\"PlacePriceInfo_priceInfo__H0DLi\"><span class=\"PlacePriceInfo_priceLabel__24Eu7\">숙박</span><span class=\"PlacePriceInfo_extraInfoText__1bCwu\">15:00부터</span><span class=\"PlacePriceInfo_salePrice__28VZD\">90,000<small>원</small></span></div></div></div></div></div></a></div>,\n",
       " <div class=\"PlaceListItemText_container__fUIgA text-unit\"><a class=\"common_clearfix__M6urU\" href=\"/pension/1000124018\" title=\"서울 홍대하얀집몽하우스펜션\"><div class=\"PlaceListItemText_area__3l67D\"><div class=\"PlaceListItemText_image__2mlnK place-image\"><div class=\"PlaceListImage_container__t-mGF\"><div class=\"PlaceListImage_imageTextPlaceholder__1A9kl\" style='background-image: url(\"//yaimg.yanolja.com/joy/sunny/static/images/logo-yanolja-white.svg\");'></div><div class=\"PlaceListImage_imageText__2XEMn\" style='background-image: url(\"https://yaimg.yanolja.com/v5/2023/04/21/17/1280/6442c9649b5356.82226466.jpg\");'></div></div><div class=\"PlaceListDistance_containerText__2ODf3\"><i></i><span>13.1km</span></div></div><div class=\"PlaceListItemText_contents__2GR73 place-content PlaceListItemText_singlePrice__1aj9I\"><div class=\"PlaceListTitle_container__qe7XH\"><strong class=\"PlaceListTitle_text__2511B small\">서울 홍대하얀집몽하우스펜션</strong></div><div class=\"PlaceListItemText_extraInfos__3Bp2B\"><div class=\"PlaceListScore_container__2-JXJ PlaceListItemText_score__1O-nW\"><span class=\"PlaceListScore_rating__3Glxf\"><span class=\"PlaceListScore_ratingStars__1IKyk\"><i class=\"PlaceListScore_stars__2qfg3\" style=\"width: 20%;\"></i></span>1.0</span><span class=\"PlaceListScore_reviewInfo__3QSCU\">(1)</span></div></div><div class=\"PlaceListItemText_prices__2_1nN\"><div class=\"PlaceListItemText_price__2pF1C\"><div class=\"PlacePriceInfo_extraInfo__3xwp8\"><span></span></div><div class=\"PlacePriceInfo_priceInfo__H0DLi\"><span class=\"PlacePriceInfo_priceLabel__24Eu7\">숙박</span><span class=\"PlacePriceInfo_extraInfoText__1bCwu\">15:00부터</span><span class=\"PlacePriceInfo_salePrice__28VZD\">119,000<small>원</small></span></div></div></div></div></div></a></div>,\n",
       " <div class=\"PlaceListItemText_container__fUIgA text-unit\"><a class=\"common_clearfix__M6urU\" href=\"/pension/1000126700\" title=\"서울 홈즈남산펜션\"><div class=\"PlaceListItemText_area__3l67D\"><div class=\"PlaceListItemText_image__2mlnK place-image\"><div class=\"PlaceListImage_container__t-mGF\"><div class=\"PlaceListImage_imageTextPlaceholder__1A9kl\" style='background-image: url(\"//yaimg.yanolja.com/joy/sunny/static/images/logo-yanolja-white.svg\");'></div><div class=\"PlaceListImage_imageText__2XEMn\" style='background-image: url(\"https://yaimg.yanolja.com/v5/2023/04/28/15/1280/644be300869814.17615816.jpg\");'></div></div><div class=\"PlaceListDistance_containerText__2ODf3\"><i></i><span>8.8km</span></div></div><div class=\"PlaceListItemText_contents__2GR73 place-content PlaceListItemText_singlePrice__1aj9I\"><div class=\"PlaceListTitle_container__qe7XH\"><strong class=\"PlaceListTitle_text__2511B small\">서울 홈즈남산펜션</strong></div><div class=\"PlaceListItemText_extraInfos__3Bp2B\"><span class=\"PlaceListNewBadge_newIcon__3tHX5\"><span class=\"PlaceListNewBadge_text__3J86O\">신규</span></span></div><div class=\"PlaceListItemText_prices__2_1nN\"><div class=\"PlaceListItemText_price__2pF1C\"><div class=\"PlacePriceInfo_extraInfo__3xwp8\"><span></span></div><div class=\"PlacePriceInfo_priceInfo__H0DLi\"><span class=\"PlacePriceInfo_priceLabel__24Eu7\">숙박</span><span class=\"PlacePriceInfo_extraInfoText__1bCwu\">15:00부터</span><span class=\"PlacePriceInfo_salePrice__28VZD\">135,000<small>원</small></span></div></div></div></div></div></a></div>,\n",
       " <div class=\"PlaceListItemText_container__fUIgA text-unit\"><a class=\"common_clearfix__M6urU\" href=\"/pension/10049444\" title=\"삼각지 하우재 게스트하우스\"><div class=\"PlaceListItemText_area__3l67D\"><div class=\"PlaceListItemText_image__2mlnK place-image\"><div class=\"PlaceListImage_container__t-mGF\"><div class=\"PlaceListImage_imageTextPlaceholder__1A9kl\" style='background-image: url(\"//yaimg.yanolja.com/joy/sunny/static/images/logo-yanolja-white.svg\");'></div><div class=\"PlaceListImage_imageText__2XEMn\" style='background-image: url(\"https://yaimg.yanolja.com/v5/2023/04/19/23/1280/644076c38f3292.67313434.jpg\");'></div></div><div class=\"PlaceListDistance_containerText__2ODf3\"><i></i><span>8.6km</span></div></div><div class=\"PlaceListItemText_contents__2GR73 place-content PlaceListItemText_singlePrice__1aj9I\"><div class=\"PlaceListTitle_container__qe7XH\"><strong class=\"PlaceListTitle_text__2511B small\">삼각지 하우재 게스트하우스</strong></div><div class=\"PlaceListItemText_extraInfos__3Bp2B\"><span class=\"PlaceListNewBadge_newIcon__3tHX5\"><span class=\"PlaceListNewBadge_text__3J86O\">신규</span></span></div><div class=\"PlaceListItemText_prices__2_1nN\"><div class=\"PlaceListItemText_price__2pF1C\"><div class=\"PlacePriceInfo_priceInfo__H0DLi\"><span class=\"PlacePriceInfo_priceLabel__24Eu7\">숙박</span><span class=\"PlacePriceInfo_extraInfoText__1bCwu\">15:00부터</span><span class=\"PlacePriceInfo_salePrice__28VZD\"><span class=\"PlacePriceInfo_priceSoldout__LYUhp\">예약마감</span></span></div></div></div></div></div></a></div>]"
      ]
     },
     "execution_count": 12,
     "metadata": {},
     "output_type": "execute_result"
    }
   ],
   "source": [
    "lis"
   ]
  },
  {
   "cell_type": "code",
   "execution_count": 13,
   "id": "fd7378e3",
   "metadata": {},
   "outputs": [],
   "source": [
    "li = lis[0]"
   ]
  },
  {
   "cell_type": "code",
   "execution_count": 14,
   "id": "78689ec8",
   "metadata": {},
   "outputs": [
    {
     "data": {
      "text/plain": [
       "'예약마감'"
      ]
     },
     "execution_count": 14,
     "metadata": {},
     "output_type": "execute_result"
    }
   ],
   "source": [
    "li.find('span',attrs={'class':'PlacePriceInfo_salePrice__28VZD'}).text.replace('원','').replace(',','') #평점"
   ]
  },
  {
   "cell_type": "code",
   "execution_count": 15,
   "id": "42f98202",
   "metadata": {},
   "outputs": [],
   "source": [
    "href = li.find('a')['href']"
   ]
  },
  {
   "cell_type": "code",
   "execution_count": 16,
   "id": "5004ae69",
   "metadata": {},
   "outputs": [],
   "source": [
    "sub_url = base+href\n",
    "driver.get(sub_url)\n",
    "sub_soup = BeautifulSoup(driver.page_source,'html.parser')"
   ]
  },
  {
   "cell_type": "code",
   "execution_count": 17,
   "id": "3ceb87ee",
   "metadata": {},
   "outputs": [
    {
     "data": {
      "text/plain": [
       "<html><head><link href=\"//yaimg.yanolja.com\" rel=\"dns-prefetch\"/><link href=\"https://yaimg.yanolja.com\" rel=\"preconnect\"/><link href=\"//yaimg.yanolja.com/joy/sunny/static/images/favicon/favicon_16x16.png\" rel=\"shortcut icon\"/><link href=\"//yaimg.yanolja.com/joy/sunny/static/images/favicon/favicon_16x16.png\" rel=\"icon\"/><link href=\"//yaimg.yanolja.com/joy/sunny/static/images/favicon/favicon_16x16.png\" rel=\"icon\" sizes=\"16x16\"/><link href=\"//yaimg.yanolja.com/joy/sunny/static/images/favicon/favicon_32x32.png\" rel=\"icon\" sizes=\"32x32\"/><link href=\"//yaimg.yanolja.com/joy/sunny/static/images/favicon/favicon_57x57.png\" rel=\"icon\" sizes=\"57x57\"/><link href=\"//yaimg.yanolja.com/joy/sunny/static/images/favicon/favicon_72x72.png\" rel=\"icon\" sizes=\"72x72\"/><link href=\"//yaimg.yanolja.com/joy/sunny/static/images/favicon/favicon_96x96.png\" rel=\"icon\" sizes=\"96x96\"/><link href=\"//yaimg.yanolja.com/joy/sunny/static/images/favicon/favicon_120x120.png\" rel=\"icon\" sizes=\"120x120\"/><link href=\"//yaimg.yanolja.com/joy/sunny/static/images/favicon/favicon_128x128.png\" rel=\"icon\" sizes=\"128x128\"/><link href=\"//yaimg.yanolja.com/joy/sunny/static/images/favicon/favicon_144x144.png\" rel=\"icon\" sizes=\"144x144\"/><link href=\"//yaimg.yanolja.com/joy/sunny/static/images/favicon/favicon_152x152.png\" rel=\"icon\" sizes=\"152x152\"/><link href=\"//yaimg.yanolja.com/joy/sunny/static/images/favicon/favicon_195x195.png\" rel=\"icon\" sizes=\"195x195\"/><link href=\"//yaimg.yanolja.com/joy/sunny/static/images/favicon/favicon_228x228.png\" rel=\"icon\" sizes=\"228x228\"/><script async=\"\" src=\"https://www.google-analytics.com/analytics.js\" type=\"text/javascript\"></script><script async=\"\" src=\"https://connect.facebook.net/signals/config/408076496057547?v=2.9.104&amp;r=stable\"></script><script async=\"\" src=\"https://connect.facebook.net/en_US/fbevents.js\"></script><script></script><script defer=\"\" src=\"//yaimg.yanolja.com/joy/sunny/static/images/kakao.min.js\" type=\"text/javascript\"></script><script type=\"application/ld+json\">{\"@context\":\"http://schema.org\",\"@type\":\"Organization\",\"url\":\"https://www.yanolja.com/\",\"logo\":\"https://yaimg.yanolja.com/public/icon/yanolja.svg\"}</script><script type=\"application/ld+json\">{\"@context\":\"http://schema.org\",\"@type\":\"Person\",\"name\":\"야놀자 : 초특가 숙박 예약\",\"url\":\"https://www.yanolja.com/\",\"sameAs\":[\"https://www.facebook.com/yanolja/\",\"https://www.instagram.com/yanolja.official/\",\"https://www.youtube.com/user/yanoljamedia\",\"http://tv.naver.com/yanolja\",\"http://post.naver.com/my.nhn?memberNo=2768780\",\"http://blog.naver.com/yanolog\",\"https://play.google.com/store/apps/details?id=com.cultsotry.yanolja.nativeapp\",\"https://itunes.apple.com/kr/app/%EC%95%BC%EB%86%80%EC%9E%90/id436731843?mt=8\",\"https://yanolja.github.io/\",\"https://start.yanolja.com\"]}</script><script type=\"text/javascript\">\n",
       "                !function(f,b,e,v,n,t,s)\n",
       "                {if(f.fbq)return;n=f.fbq=function(){n.callMethod?\n",
       "                n.callMethod.apply(n,arguments):n.queue.push(arguments)};\n",
       "                if(!f._fbq)f._fbq=n;n.push=n;n.loaded=!0;n.version='2.0';\n",
       "                n.queue=[];t=b.createElement(e);t.async=!0;\n",
       "                t.src=v;s=b.getElementsByTagName(e)[0];\n",
       "                s.parentNode.insertBefore(t,s)}(window, document,'script',\n",
       "                'https://connect.facebook.net/en_US/fbevents.js');\n",
       "                fbq('init', '408076496057547');\n",
       "                fbq('track', 'PageView');\n",
       "              </script><style>body {overflow-x: hidden;} </style><meta charset=\"utf-8\"/><meta content=\"initial-scale=1, maximum-scale=1, width=device-width, shrink-to-fit=no, user-scalable=no, viewport-fit=cover\" name=\"viewport\"/><title>서울 명동루프탑호스텔 사진, 가격, 위치소개 | 야놀자</title><meta content=\"펜션, 풀빌라도 야놀자에서 초특가검색, 바로예약! 서울 명동루프탑호스텔 서울특별시 중구 퇴계로20길 47 2층\" name=\"description\"/><meta content=\"서울 명동루프탑호스텔 할인, 서울 명동루프탑호스텔 예약, 서울 명동루프탑호스텔 가격, 서울 명동루프탑호스텔 위치, 야놀자, 펜션예약\" name=\"keywords\"/><meta content=\"서울 명동루프탑호스텔 사진, 가격, 위치소개 | 야놀자\" property=\"og:title\"/><meta content=\"펜션, 풀빌라도 야놀자에서 초특가검색, 바로예약! 서울 명동루프탑호스텔 서울특별시 중구 퇴계로20길 47 2층\" property=\"og:description\"/><meta content=\"https://yaimg.yanolja.com/v5/2022/11/11/16/636e7194a1b3a7.88946404.jpg\" property=\"og:image\"/><meta content=\"website\" property=\"og:type\"/><meta content=\"summary\" name=\"twitter:card\"/><meta content=\"서울 명동루프탑호스텔 사진, 가격, 위치소개 | 야놀자\" name=\"twitter:title\"/><meta content=\"펜션, 풀빌라도 야놀자에서 초특가검색, 바로예약! 서울 명동루프탑호스텔 서울특별시 중구 퇴계로20길 47 2층\" name=\"twitter:description\"/><link href=\"https://place-site.yanolja.com/places/10043042\" rel=\"canonical\"/><script type=\"application/ld+json\">{\"@context\":\"http://schema.org\",\"@type\":\"Resort\",\"name\":\"서울 명동루프탑호스텔\",\"description\":\"안녕하세요. 서울 명동루프탑호스텔입니다.\",\"image\":\"https://yaimg.yanolja.com/v5/2022/11/11/16/636e7194a1b3a7.88946404.jpg\",\"telephone\":\"050350592660\",\"address\":{\"@type\":\"PostalAddress\",\"addressLocality\":\"서울특별시 중구 퇴계로20길 47 2층\"},\"aggregateRating\":{\"@type\":\"AggregateRating\",\"worstRating\":1,\"bestRating\":5,\"ratingValue\":4.4444,\"reviewCount\":11},\"priceRange\":\"숙박 : 50,000원 ~ 160,000원\",\"geo\":{\"@type\":\"GeoCoordinates\",\"latitude\":37.5582586943492,\"longitude\":126.986576343145},\"amenityFeature\":[{\"@type\":\"LocationFeatureSpecification\",\"name\":\"흡연구역\",\"value\":\"True\"},{\"@type\":\"LocationFeatureSpecification\",\"name\":\"객실금연\",\"value\":\"True\"}],\"petsAllowed\":\"\",\"keywords\":\"서울 명동루프탑호스텔 할인, 서울 명동루프탑호스텔 예약, 서울 명동루프탑호스텔 가격, 서울 명동루프탑호스텔 위치, 야놀자, 펜션예약\"}</script><link as=\"image\" href=\"https://yaimg.yanolja.com/v5/2022/11/11/16/640/636e7194a1b3a7.88946404.jpg\" rel=\"preload\"/><meta content=\"15\" name=\"next-head-count\"/><link as=\"style\" crossorigin=\"anonymous\" href=\"https://assets.yanolja.com/fbf460493090a17fa0c32461a55fc890a6a3b3fc/202305111352/_next/static/css/36ebbd827594f556.css\" rel=\"preload\"/><link crossorigin=\"anonymous\" data-n-g=\"\" href=\"https://assets.yanolja.com/fbf460493090a17fa0c32461a55fc890a6a3b3fc/202305111352/_next/static/css/36ebbd827594f556.css\" rel=\"stylesheet\"/><link as=\"style\" crossorigin=\"anonymous\" href=\"https://assets.yanolja.com/fbf460493090a17fa0c32461a55fc890a6a3b3fc/202305111352/_next/static/css/dd19a6863df21303.css\" rel=\"preload\"/><link crossorigin=\"anonymous\" data-n-p=\"\" href=\"https://assets.yanolja.com/fbf460493090a17fa0c32461a55fc890a6a3b3fc/202305111352/_next/static/css/dd19a6863df21303.css\" rel=\"stylesheet\"/><noscript data-n-css=\"\"></noscript><script crossorigin=\"anonymous\" defer=\"\" nomodule=\"\" src=\"https://assets.yanolja.com/fbf460493090a17fa0c32461a55fc890a6a3b3fc/202305111352/_next/static/chunks/polyfills-5cd94c89d3acac5f.js\"></script><script crossorigin=\"anonymous\" defer=\"\" src=\"https://assets.yanolja.com/fbf460493090a17fa0c32461a55fc890a6a3b3fc/202305111352/_next/static/chunks/709.a5734148a8948f69.js\"></script><script crossorigin=\"anonymous\" defer=\"\" src=\"https://assets.yanolja.com/fbf460493090a17fa0c32461a55fc890a6a3b3fc/202305111352/_next/static/chunks/webpack-b31e4509a388c46a.js\"></script><script crossorigin=\"anonymous\" defer=\"\" src=\"https://assets.yanolja.com/fbf460493090a17fa0c32461a55fc890a6a3b3fc/202305111352/_next/static/chunks/framework-fda7fa95de900d79.js\"></script><script crossorigin=\"anonymous\" defer=\"\" src=\"https://assets.yanolja.com/fbf460493090a17fa0c32461a55fc890a6a3b3fc/202305111352/_next/static/chunks/main-ea3ed81e2e95f067.js\"></script><script crossorigin=\"anonymous\" defer=\"\" src=\"https://assets.yanolja.com/fbf460493090a17fa0c32461a55fc890a6a3b3fc/202305111352/_next/static/chunks/pages/_app-8ce450f1de94da1b.js\"></script><script crossorigin=\"anonymous\" defer=\"\" src=\"https://assets.yanolja.com/fbf460493090a17fa0c32461a55fc890a6a3b3fc/202305111352/_next/static/chunks/0a301732-2244cf7c6f26abc2.js\"></script><script crossorigin=\"anonymous\" defer=\"\" src=\"https://assets.yanolja.com/fbf460493090a17fa0c32461a55fc890a6a3b3fc/202305111352/_next/static/chunks/1a93a35e-af7659a62adff727.js\"></script><script crossorigin=\"anonymous\" defer=\"\" src=\"https://assets.yanolja.com/fbf460493090a17fa0c32461a55fc890a6a3b3fc/202305111352/_next/static/chunks/41-120f4836696d77b2.js\"></script><script crossorigin=\"anonymous\" defer=\"\" src=\"https://assets.yanolja.com/fbf460493090a17fa0c32461a55fc890a6a3b3fc/202305111352/_next/static/chunks/861-9d341a0ee18a7af7.js\"></script><script crossorigin=\"anonymous\" defer=\"\" src=\"https://assets.yanolja.com/fbf460493090a17fa0c32461a55fc890a6a3b3fc/202305111352/_next/static/chunks/209-88b2b08db5b4da8b.js\"></script><script crossorigin=\"anonymous\" defer=\"\" src=\"https://assets.yanolja.com/fbf460493090a17fa0c32461a55fc890a6a3b3fc/202305111352/_next/static/chunks/78-6157f6247a00c50d.js\"></script><script crossorigin=\"anonymous\" defer=\"\" src=\"https://assets.yanolja.com/fbf460493090a17fa0c32461a55fc890a6a3b3fc/202305111352/_next/static/chunks/994-ad2c7b95b42782fe.js\"></script><script crossorigin=\"anonymous\" defer=\"\" src=\"https://assets.yanolja.com/fbf460493090a17fa0c32461a55fc890a6a3b3fc/202305111352/_next/static/chunks/135-398cca89adae20d2.js\"></script><script crossorigin=\"anonymous\" defer=\"\" src=\"https://assets.yanolja.com/fbf460493090a17fa0c32461a55fc890a6a3b3fc/202305111352/_next/static/chunks/511-1fdb84391f56a9f5.js\"></script><script crossorigin=\"anonymous\" defer=\"\" src=\"https://assets.yanolja.com/fbf460493090a17fa0c32461a55fc890a6a3b3fc/202305111352/_next/static/chunks/512-d4c9d85afbe664e8.js\"></script><script crossorigin=\"anonymous\" defer=\"\" src=\"https://assets.yanolja.com/fbf460493090a17fa0c32461a55fc890a6a3b3fc/202305111352/_next/static/chunks/pages/places/%5Bplace_no%5D-6ad4c5a72a2584da.js\"></script><script crossorigin=\"anonymous\" defer=\"\" src=\"https://assets.yanolja.com/fbf460493090a17fa0c32461a55fc890a6a3b3fc/202305111352/_next/static/ZvQE45uBcgEvRMUxm6fGB/_buildManifest.js\"></script><script crossorigin=\"anonymous\" defer=\"\" src=\"https://assets.yanolja.com/fbf460493090a17fa0c32461a55fc890a6a3b3fc/202305111352/_next/static/ZvQE45uBcgEvRMUxm6fGB/_ssgManifest.js\"></script><script crossorigin=\"anonymous\" defer=\"\" src=\"https://assets.yanolja.com/fbf460493090a17fa0c32461a55fc890a6a3b3fc/202305111352/_next/static/ZvQE45uBcgEvRMUxm6fGB/_middlewareManifest.js\"></script><style type=\"text/css\">.indiana-scroll-container {\n",
       "  overflow: auto; }\n",
       "  .indiana-scroll-container--dragging {\n",
       "    scroll-behavior: auto !important; }\n",
       "    .indiana-scroll-container--dragging > * {\n",
       "      pointer-events: none;\n",
       "      cursor: -webkit-grab;\n",
       "      cursor: grab; }\n",
       "  .indiana-scroll-container--hide-scrollbars {\n",
       "    overflow: hidden;\n",
       "    overflow: -moz-scrollbars-none;\n",
       "    -ms-overflow-style: none;\n",
       "    scrollbar-width: none; }\n",
       "    .indiana-scroll-container--hide-scrollbars::-webkit-scrollbar {\n",
       "      display: none !important;\n",
       "      height: 0 !important;\n",
       "      width: 0 !important;\n",
       "      background: transparent !important;\n",
       "      -webkit-appearance: none !important; }\n",
       "  .indiana-scroll-container--native-scroll {\n",
       "    overflow: auto; }\n",
       "\n",
       ".indiana-dragging {\n",
       "  cursor: -webkit-grab;\n",
       "  cursor: grab; }\n",
       "</style><style data-emotion=\"css wk08mo\" data-s=\"\">.css-wk08mo{width:100vw;background:#f2f2f2;height:100%;}</style><style data-emotion=\"css fwupcd\" data-s=\"\">.css-fwupcd{max-width:768px;margin:0 auto;min-width:320px;z-index:0;padding-top:env(safe-area-inset-top);}</style><style data-emotion=\"css hqn261\" data-s=\"\">.css-hqn261{padding-top:48px;width:100%;min-height:100%;height:100%;overflow-x:hidden;background:#ffffff;position:relative;}</style><style data-emotion=\"css gs34ha\" data-s=\"\">.css-gs34ha{border-bottom:0.8rem solid #f2f2f2;}</style><style data-emotion=\"css 106e3on\" data-s=\"\">.css-106e3on{width:100%;cursor:pointer;position:relative;overflow:hidden;height:calc(min(66.7vw, 50.7rem));max-height:calc(min(66.7vw, 50.7rem));z-index:0;background-color:#f2f2f2;-webkit-user-select:none;-moz-user-select:none;-ms-user-select:none;user-select:none;-webkit-transform:translateZ(0);-moz-transform:translateZ(0);-ms-transform:translateZ(0);transform:translateZ(0);will-change:transform;}@media screen and (min-width: 768px){.css-106e3on{height:50.7rem;}.css-106e3on .photoSwipeItem{height:50.7rem;}}</style><style data-emotion=\"css of933b\" data-s=\"\">.css-of933b{cursor:not-allowed;pointer-events:auto!important;top:50%;position:absolute;z-index:1;left:2rem;-webkit-transform:translateY(-50%);-moz-transform:translateY(-50%);-ms-transform:translateY(-50%);transform:translateY(-50%);width:4.6rem!important;height:7.4rem!important;}.css-of933b:before{content:'';width:100%;height:100%;display:inline-block;background-image:url('data:image/svg+xml;base64,PHN2ZyB3aWR0aD0iNDYiIGhlaWdodD0iNzQiIHhtbG5zPSJodHRwOi8vd3d3LnczLm9yZy8yMDAwL3N2ZyI+PGcgZmlsbD0ibm9uZSIgZmlsbC1ydWxlPSJldmVub2RkIj48cmVjdCBmaWxsPSIjMDAwIiBvcGFjaXR5PSIuMyIgd2lkdGg9IjQ2IiBoZWlnaHQ9Ijc0IiByeD0iNCIvPjxwYXRoIGQ9Ik0zNSA2MmgtMi40TDggMzdsMjQuNi0yNUgzNUwxMC40IDM3eiIgZmlsbD0iI0ZGRiIgb3BhY2l0eT0iLjIiLz48L2c+PC9zdmc+');background-repeat:no-repeat;-webkit-background-position:right;background-position:right;-webkit-background-size:contain;background-size:contain;}</style><style data-emotion=\"css ur11hq\" data-s=\"\">.css-ur11hq{background:#f2f2f2;position:relative;width:100%;height:66.7vw;max-height:50.7rem;margin:0;display:inline-block;}</style><style data-emotion=\"css sr2c7j\" data-s=\"\">.css-sr2c7j{object-fit:cover;height:100%;}</style><style data-emotion=\"css 1xxykgc\" data-s=\"\">.css-1xxykgc{cursor:not-allowed;pointer-events:auto!important;top:50%;position:absolute;z-index:1;right:2rem;-webkit-transform:translateY(-50%);-moz-transform:translateY(-50%);-ms-transform:translateY(-50%);transform:translateY(-50%);width:4.6rem!important;height:7.4rem!important;}.css-1xxykgc:before{content:'';width:100%;height:100%;display:inline-block;background-image:url('data:image/svg+xml;base64,PHN2ZyB3aWR0aD0iNDYiIGhlaWdodD0iNzQiIHhtbG5zPSJodHRwOi8vd3d3LnczLm9yZy8yMDAwL3N2ZyI+PGcgZmlsbD0ibm9uZSIgZmlsbC1ydWxlPSJldmVub2RkIj48cmVjdCBmaWxsPSIjMDAwIiBvcGFjaXR5PSIuMyIgd2lkdGg9IjQ2IiBoZWlnaHQ9Ijc0IiByeD0iNCIvPjxwYXRoIGQ9Ik0xMSA2MmgyLjRMMzggMzcgMTMuNCAxMkgxMWwyNC42IDI1eiIgZmlsbD0iI0ZGRiIgb3BhY2l0eT0iLjIiLz48L2c+PC9zdmc+');background-repeat:no-repeat;-webkit-background-position:right;background-position:right;-webkit-background-size:contain;background-size:contain;}</style><style data-emotion=\"css 1a7sfmi\" data-s=\"\">.css-1a7sfmi{width:100%;position:absolute;left:0;bottom:0;-webkit-user-select:none;-moz-user-select:none;-ms-user-select:none;user-select:none;}</style><style data-emotion=\"css 40tgm5\" data-s=\"\">.css-40tgm5{padding:1.6rem 0 0.8rem;}</style><style data-emotion=\"css 17wo4sw\" data-s=\"\">.css-17wo4sw{padding:0 2rem;cursor:default;}.css-17wo4sw >span{margin-bottom:0.4rem;}</style><style data-emotion=\"css 1huuymp\" data-s=\"\">.css-1huuymp{padding:0 2rem;display:-webkit-box;display:-webkit-flex;display:-ms-flexbox;display:flex;-webkit-align-items:center;-webkit-box-align:center;-ms-flex-align:center;align-items:center;}</style><style data-emotion=\"css jyf8pg\" data-s=\"\">.css-jyf8pg{display:-webkit-box;display:-webkit-flex;display:-ms-flexbox;display:flex;margin-top:0.4rem;padding:0 2rem;}</style><style data-emotion=\"css fie5xt\" data-s=\"\">.css-fie5xt{-webkit-flex:1;-ms-flex:1;flex:1;font-size:2rem;font-weight:bold;max-width:calc(100% - 4.8rem);color:#1a1a1a;line-height:1.1;max-height:2.1em;text-align:left;position:relative;text-overflow:ellipsis;padding:0!important;word-break:break-word;display:-webkit-box;-webkit-line-clamp:2;-webkit-box-orient:vertical;overflow:hidden;}</style><style data-emotion=\"css 69d871\" data-s=\"\">.css-69d871{display:-webkit-box;display:-webkit-flex;display:-ms-flexbox;display:flex;-webkit-box-pack:justify;-webkit-justify-content:space-between;justify-content:space-between;-webkit-align-items:flex-start;-webkit-box-align:flex-start;-ms-flex-align:flex-start;align-items:flex-start;margin-left:1.2rem;}.css-69d871 >div{margin:0;}.css-69d871 >div:before{margin-left:1.2rem;width:2rem;height:2rem;}</style><style data-emotion=\"css 1btrnfr\" data-s=\"\">.css-1btrnfr{display:-webkit-box;display:-webkit-flex;display:-ms-flexbox;display:flex;-webkit-align-items:center;-webkit-box-align:center;-ms-flex-align:center;align-items:center;margin:0.2rem;cursor:pointer;}.css-1btrnfr:before{display:inline-block;content:'';width:2rem;height:2rem;background-image:url('data:image/svg+xml;base64,PHN2ZyB3aWR0aD0iMTYiIGhlaWdodD0iMTUiIHhtbG5zPSJodHRwOi8vd3d3LnczLm9yZy8yMDAwL3N2ZyI+PHBhdGggZD0iTTEyIDEwLjA1Yy0uNTA3IDAtLjk2LjE4OC0xLjMwNy40ODFMNS45NCA3LjkzN0M1Ljk3MyA3Ljc5NSA2IDcuNjUgNiA3LjVjMC0uMTUtLjAyNy0uMjk0LS4wNi0uNDM4bDQuNy0yLjU2OEMxMSA0LjgwNiAxMS40NzMgNSAxMiA1YzEuMTA3IDAgMi0uODM4IDItMS44NzUgMC0xLjAzOC0uODkzLTEuODc1LTItMS44NzVzLTIgLjgzNy0yIDEuODc1YzAgLjE1LjAyNy4yOTQuMDYuNDM4TDUuMzYgNi4xM0EyLjA2NSAyLjA2NSAwIDAwNCA1LjYyNWMtMS4xMDcgMC0yIC44MzgtMiAxLjg3NXMuODkzIDEuODc1IDIgMS44NzVjLjUyNyAwIDEtLjE5NCAxLjM2LS41MDZsNC43NDcgMi42YTEuNjU5IDEuNjU5IDAgMDAtLjA1NC40MDZjMCAxLjAwNi44NzQgMS44MjUgMS45NDcgMS44MjVzMS45NDctLjgxOSAxLjk0Ny0xLjgyNVMxMy4wNzMgMTAuMDUgMTIgMTAuMDV6bTAtNy41NWMuMzY3IDAgLjY2Ny4yODEuNjY3LjYyNXMtLjMuNjI1LS42NjcuNjI1Yy0uMzY3IDAtLjY2Ny0uMjgxLS42NjctLjYyNXMuMy0uNjI1LjY2Ny0uNjI1ek00IDguMTI1Yy0uMzY3IDAtLjY2Ny0uMjgxLS42NjctLjYyNXMuMy0uNjI1LjY2Ny0uNjI1Yy4zNjcgMCAuNjY3LjI4MS42NjcuNjI1cy0uMy42MjUtLjY2Ny42MjV6bTggNC4zODdjLS4zNjcgMC0uNjY3LS4yOC0uNjY3LS42MjUgMC0uMzQzLjMtLjYyNS42NjctLjYyNS4zNjcgMCAuNjY3LjI4Mi42NjcuNjI1IDAgLjM0NC0uMy42MjUtLjY2Ny42MjV6IiBmaWxsLXJ1bGU9ImV2ZW5vZGQiLz48L3N2Zz4=');background-repeat:no-repeat;-webkit-background-size:contain;background-size:contain;}</style><style data-emotion=\"css hhaq4l\" data-s=\"\">.css-hhaq4l{display:-webkit-box;display:-webkit-flex;display:-ms-flexbox;display:flex;-webkit-align-items:center;-webkit-box-align:center;-ms-flex-align:center;align-items:center;margin:0.2rem;cursor:pointer;}.css-hhaq4l:before{display:inline-block;content:'';width:2.4rem;height:2.4rem;background-image:url('data:image/svg+xml;base64,PHN2ZyB3aWR0aD0iMTYiIGhlaWdodD0iMTYiIHhtbG5zPSJodHRwOi8vd3d3LnczLm9yZy8yMDAwL3N2ZyI+PHBhdGggZD0iTTExIDJjLTEuMTYgMC0yLjI3My41NC0zIDEuMzkzQTMuOTkyIDMuOTkyIDAgMDA1IDJhMy42MzEgMy42MzEgMCAwMC0zLjY2NyAzLjY2N2MwIDIuNTIgMi4yNjcgNC41NzMgNS43IDcuNjkzbC45NjcuODczLjk2Ny0uODhjMy40MzMtMy4xMTMgNS43LTUuMTY2IDUuNy03LjY4NkEzLjYzMSAzLjYzMSAwIDAwMTEgMnpNOC4wNjcgMTIuMzY3TDggMTIuNDMzbC0uMDY3LS4wNjZjLTMuMTczLTIuODc0LTUuMjY2LTQuNzc0LTUuMjY2LTYuNyAwLTEuMzM0IDEtMi4zMzQgMi4zMzMtMi4zMzQgMS4wMjcgMCAyLjAyNy42NiAyLjM4IDEuNTc0aDEuMjQ3QzguOTczIDMuOTkzIDkuOTczIDMuMzMzIDExIDMuMzMzYzEuMzMzIDAgMi4zMzMgMSAyLjMzMyAyLjMzNCAwIDEuOTI2LTIuMDkzIDMuODI2LTUuMjY2IDYuN3oiIGZpbGwtcnVsZT0iZXZlbm9kZCIvPjwvc3ZnPg==');background-repeat:no-repeat;-webkit-background-size:contain;background-size:contain;}</style><style data-emotion=\"css 84qvow\" data-s=\"\">.css-84qvow{font-size:1.2rem;font-weight:bold;font-size:1.4rem;display:-webkit-box;display:-webkit-flex;display:-ms-flexbox;display:flex;-webkit-align-items:center;-webkit-box-align:center;-ms-flex-align:center;align-items:center;margin:1rem 0 0.2rem;padding:0 2rem;color:#1a1a1a;cursor:pointer;}</style><style data-emotion=\"css 1c6fs9p\" data-s=\"\">.css-1c6fs9p{margin-right:0.2rem;}</style><style data-emotion=\"css 1chf7wc\" data-s=\"\">.css-1chf7wc{margin-right:0.1rem;width:1.4rem;height:1.4rem;}</style><style data-emotion=\"css 1m0vwjv\" data-s=\"\">.css-1m0vwjv{margin-right:0.1rem;height:1.8rem;}</style><style data-emotion=\"css id2b0n\" data-s=\"\">.css-id2b0n{font-size:1.2rem;font-weight:normal;font-size:1.4rem;height:1.8rem;}</style><style data-emotion=\"css 1cbigu7\" data-s=\"\">.css-1cbigu7{display:inline-block;height:1.8rem;}.css-1cbigu7:before{display:inline-block;content:'';width:1.4rem;height:1.4rem;background-image:url('data:image/svg+xml;base64,PHN2ZyB3aWR0aD0iMTIiIGhlaWdodD0iMTIiIHhtbG5zPSJodHRwOi8vd3d3LnczLm9yZy8yMDAwL3N2ZyI+PHBhdGggZD0iTTMuMjQ1IDkuOTZsLjg4NS44NTQgNC45NS00Ljc4LTQuOTUtNC43NzktLjg4NS44NTVMNy4zMSA2LjAzNCAzLjI0NSA5Ljk2eiIgZmlsbD0iIzYxNjE2MSIgZmlsbC1ydWxlPSJldmVub2RkIi8+PC9zdmc+');background-repeat:no-repeat;-webkit-background-size:contain;background-size:contain;vertical-align:baseline;}</style><style data-emotion=\"css 1g1iyql\" data-s=\"\">.css-1g1iyql{display:-webkit-box;display:-webkit-flex;display:-ms-flexbox;display:flex;-webkit-align-items:center;-webkit-box-align:center;-ms-flex-align:center;align-items:center;margin:0.4rem 0;padding:0 2rem;height:2.8rem;}</style><style data-emotion=\"css rub8sb\" data-s=\"\">.css-rub8sb{display:-webkit-box;display:-webkit-flex;display:-ms-flexbox;display:flex;-webkit-align-items:center;-webkit-box-align:center;-ms-flex-align:center;align-items:center;width:calc(100% - 7.6rem);}</style><style data-emotion=\"css 1jq3mm7\" data-s=\"\">.css-1jq3mm7{margin-right:0.4rem;}</style><style data-emotion=\"css 1tv2ofu\" data-s=\"\">.css-1tv2ofu{cursor:pointer;font-size:1.2rem;font-weight:normal;color:#0152cc;overflow:hidden;text-overflow:ellipsis;white-space:nowrap;display:-webkit-box;display:-webkit-flex;display:-ms-flexbox;display:flex;-webkit-align-items:center;-webkit-box-align:center;-ms-flex-align:center;align-items:center;height:2.8rem;}</style><style data-emotion=\"css 1gklba7\" data-s=\"\">.css-1gklba7{display:block;margin:0.6rem 2rem;padding:0.6rem 1rem!important;background-color:#f8f8f8;border-radius:0.4rem;}.css-1gklba7 >div{overflow:hidden;text-overflow:ellipsis;display:-webkit-box;-webkit-line-clamp:2;-webkit-box-orient:vertical;}.css-1gklba7 >div >span{font-size:1.2rem;font-weight:normal;color:#616161;line-height:1.8rem;}.css-1gklba7 >div >span.bold{font-size:1.2rem;font-weight:bold;}.css-1gklba7 >div >span:nth-of-type(n + 2):before{content:'・';font-size:1rem;width:0.2rem;margin:0 0.2rem;}</style><style data-emotion=\"css 1jzjw2w\" data-s=\"\">.css-1jzjw2w{margin:0 2rem;border-bottom:0.1rem solid #f2f2f2;border-bottom:none;margin-bottom:0;}.css-1jzjw2w >*:first-of-type{border-top:0.1rem solid #f2f2f2;}.css-1jzjw2w >*:last-of-type{margin-bottom:1.2rem;}.css-1jzjw2w >div:nth-of-type(n + 2) .benefitBanner,.css-1jzjw2w >div:nth-of-type(n + 2) .contentsBanner{margin-top:1.2rem;}</style><style data-emotion=\"css mhtlw\" data-s=\"\">.css-mhtlw{display:-webkit-box;display:-webkit-flex;display:-ms-flexbox;display:flex;-webkit-flex-direction:column;-ms-flex-direction:column;flex-direction:column;}.css-mhtlw:nth-of-type(n + 2){margin-top:1.2rem;}</style><style data-emotion=\"css 1fiblgc\" data-s=\"\">.css-1fiblgc{display:-webkit-box;display:-webkit-flex;display:-ms-flexbox;display:flex;-webkit-flex-direction:column;-ms-flex-direction:column;flex-direction:column;}.css-1fiblgc:link{-webkit-text-decoration:none;text-decoration:none;}.css-1fiblgc:visited{-webkit-text-decoration:none;text-decoration:none;}.css-1fiblgc:hover{-webkit-text-decoration:none;text-decoration:none;}.css-1fiblgc:nth-of-type(n + 2){margin-top:1.2rem;}</style><style data-emotion=\"css ivt1js\" data-s=\"\">.css-ivt1js{width:100%;height:5.3rem;display:block;object-fit:cover;border-radius:0.4rem;}</style><style data-emotion=\"css 11sbcds\" data-s=\"\">.css-11sbcds{padding:0 0 1.6rem;}</style><style data-emotion=\"css 1ju036a\" data-s=\"\">.css-1ju036a{display:-webkit-box;display:-webkit-flex;display:-ms-flexbox;display:flex;-webkit-box-pack:justify;-webkit-justify-content:space-between;justify-content:space-between;-webkit-align-items:center;-webkit-box-align:center;-ms-flex-align:center;align-items:center;margin:1.6rem 2rem;}</style><style data-emotion=\"css 3todla\" data-s=\"\">.css-3todla{font-size:1.6rem;font-weight:bold;color:#1a1a1a;}</style><style data-emotion=\"css pjhe3k\" data-s=\"\">.css-pjhe3k{font-size:1.4rem;font-weight:bold;color:#0152cc;cursor:pointer;-webkit-user-select:none;-moz-user-select:none;-ms-user-select:none;user-select:none;}</style><style data-emotion=\"css 1bx9nyk\" data-s=\"\">@media screen and (min-width: 768px){.css-1bx9nyk{margin-bottom:-1.6rem;}}@media screen and (max-width: 767px){.css-1bx9nyk >ul >div:first-of-type{margin-left:2rem;}.css-1bx9nyk >ul >div:last-of-type{margin-right:2rem;}}@media screen and (min-width: 768px){.css-1bx9nyk >ul{-webkit-box-flex-wrap:wrap;-webkit-flex-wrap:wrap;-ms-flex-wrap:wrap;flex-wrap:wrap;overflow:hidden;max-height:15rem;margin:0 2rem;}.css-1bx9nyk >ul >div{height:7.5rem;}}</style><style data-emotion=\"css 1u38mgg\" data-s=\"\">.css-1u38mgg{width:100%;position:relative;}@media screen and (min-width: 768px){.css-1u38mgg{margin-bottom:-1.6rem;}}@media screen and (max-width: 767px){.css-1u38mgg >ul >div:first-of-type{margin-left:2rem;}.css-1u38mgg >ul >div:last-of-type{margin-right:2rem;}}@media screen and (min-width: 768px){.css-1u38mgg >ul{-webkit-box-flex-wrap:wrap;-webkit-flex-wrap:wrap;-ms-flex-wrap:wrap;flex-wrap:wrap;overflow:hidden;max-height:15rem;margin:0 2rem;}.css-1u38mgg >ul >div{height:7.5rem;}}</style><style data-emotion=\"css 17yp1q4\" data-s=\"\">.css-17yp1q4{display:-webkit-box;display:-webkit-flex;display:-ms-flexbox;display:flex;overflow:scroll;-ms-overflow-style:none;scrollbar-width:none;}.css-17yp1q4::-webkit-scrollbar{display:none;}</style><style data-emotion=\"css 15ps05y\" data-s=\"\">.css-15ps05y{min-width:5.2rem;text-align:center;}.css-15ps05y:not(:last-child){margin-right:0.8rem;}</style><style data-emotion=\"css t9n8kv\" data-s=\"\">.css-t9n8kv{display:-webkit-box;display:-webkit-flex;display:-ms-flexbox;display:flex;-webkit-flex-direction:column;-ms-flex-direction:column;flex-direction:column;-webkit-align-items:center;-webkit-box-align:center;-ms-flex-align:center;align-items:center;-webkit-box-pack:start;-ms-flex-pack:start;-webkit-justify-content:flex-start;justify-content:flex-start;width:5.2rem;height:6.4rem;min-width:5.2rem;text-align:center;}.css-t9n8kv:not(:last-child){margin-right:0.8rem;}</style><style data-emotion=\"css 19xh2rn\" data-s=\"\">.css-19xh2rn{min-width:2.4rem;height:3.1rem;object-fit:contain;-webkit-user-select:none;-moz-user-select:none;-ms-user-select:none;user-select:none;}</style><style data-emotion=\"css 9cehu5\" data-s=\"\">.css-9cehu5{font-size:1rem;font-weight:normal;font-size:1.1rem;margin-top:0.6rem;color:#616161;width:100%;text-align:center!important;line-height:1.4rem;overflow:hidden;display:-webkit-box;-webkit-line-clamp:2;-webkit-box-orient:vertical;-webkit-box-pack:end;}</style><style data-emotion=\"css 1urbzj6\" data-s=\"\">.css-1urbzj6{display:-webkit-box;display:-webkit-flex;display:-ms-flexbox;display:flex;width:100%;overflow-x:auto;border-bottom:1px solid #f2f2f2;-ms-overflow-style:none;scrollbar-width:none;}.css-1urbzj6::-webkit-scrollbar{display:none;}</style><style data-emotion=\"css 1iizn56\" data-s=\"\">.css-1iizn56{display:-webkit-box;display:-webkit-flex;display:-ms-flexbox;display:flex;background-color:white;-webkit-flex-direction:row;-ms-flex-direction:row;flex-direction:row;-webkit-box-flex-wrap:nowrap;-webkit-flex-wrap:nowrap;-ms-flex-wrap:nowrap;flex-wrap:nowrap;left:0;width:100%;min-width:36rem;height:4rem;}</style><style data-emotion=\"css msekco\" data-s=\"\">.css-msekco{display:-webkit-box;display:-webkit-flex;display:-ms-flexbox;display:flex;-webkit-box-pack:center;-ms-flex-pack:center;-webkit-justify-content:center;justify-content:center;-webkit-align-items:center;-webkit-box-align:center;-ms-flex-align:center;align-items:center;border:none;outline:none;background:none;height:100%;padding-bottom:0.2rem;}.css-msekco:first-of-type{margin-left:2rem;}.css-msekco:last-of-type{margin-right:2rem;}.css-msekco >a{font-size:1.2rem;font-weight:normal;font-size:1.4rem;color:#616161;padding:0 0.8rem;white-space:nowrap;-webkit-text-decoration:none;text-decoration:none;}.css-msekco.active{padding-bottom:0;border-bottom:0.2rem solid #0152cc;}.css-msekco.active >a{font-size:1.2rem;font-weight:bold;font-size:1.4rem;color:#0152cc;}</style><style data-emotion=\"css 17c0wg8\" data-s=\"\">.css-17c0wg8{width:100%;display:inline-block;}</style><style data-emotion=\"css 1iyoj2o\" data-s=\"\">.css-1iyoj2o{display:-webkit-box;display:-webkit-flex;display:-ms-flexbox;display:flex;-webkit-flex-direction:column;-ms-flex-direction:column;flex-direction:column;}</style><style data-emotion=\"css 1tka3zs\" data-s=\"\">.css-1tka3zs{display:-webkit-box;display:-webkit-flex;display:-ms-flexbox;display:flex;-webkit-flex-direction:column;-ms-flex-direction:column;flex-direction:column;padding:1.2rem 2rem;}</style><style data-emotion=\"css i3xioc\" data-s=\"\">.css-i3xioc{width:100%;position:relative;display:-webkit-box;display:-webkit-flex;display:-ms-flexbox;display:flex;height:4rem;border:1px solid #cccccc;border-radius:0.4rem;}</style><style data-emotion=\"css shte7\" data-s=\"\">.css-shte7{border-bottom-right-radius:0.4rem;border-top-right-radius:0.4rem;display:-webkit-box;display:-webkit-flex;display:-ms-flexbox;display:flex;-webkit-box-pack:start;-ms-flex-pack:start;-webkit-justify-content:flex-start;justify-content:flex-start;-webkit-align-items:center;-webkit-box-align:center;-ms-flex-align:center;align-items:center;border:none;background:#ffffff;font-size:1.2rem;font-weight:bold;white-space:nowrap;-webkit-flex:0.4;-ms-flex:0.4;flex:0.4;padding:1.4rem 0 1.4rem 1.2rem;border-radius:0.4rem 0 0 0.4rem;border-right:1px solid #cccccc;-webkit-flex:0.6;-ms-flex:0.6;flex:0.6;padding:1.4rem 0 1.4rem 1.6rem!important;}@media screen and (max-width: 375px){.css-shte7{padding:1.4rem 0 1.4rem 1rem;}}@media screen and (min-width: 768px){.css-shte7{-webkit-flex:1 1 50%;-ms-flex:1 1 50%;flex:1 1 50%;padding:1.4rem 0 1.4rem 1.6rem;}}@media (max-width: 320px){.css-shte7{font-size:1rem;}}@media screen and (max-width: 375px){.css-shte7{padding:1.4rem 0 1.4rem 1.4rem!important;}}@media screen and (min-width: 768px){.css-shte7{-webkit-flex:1 1 50%;-ms-flex:1 1 50%;flex:1 1 50%;}}</style><style data-emotion=\"css 1jlrsog\" data-s=\"\">.css-1jlrsog{width:1.6rem;height:1.6rem;margin-right:0.4rem;}@media screen and (max-width: 375px){.css-1jlrsog{margin-right:0.2rem!important;}}</style><style data-emotion=\"css 1cq8r2w\" data-s=\"\">.css-1cq8r2w >.fromNow{color:#de2e5f;}</style><style data-emotion=\"css pjwrcq\" data-s=\"\">.css-pjwrcq{margin:0 0.2rem;}</style><style data-emotion=\"css gskve1\" data-s=\"\">.css-gskve1{border-bottom-right-radius:0.4rem;border-top-right-radius:0.4rem;display:-webkit-box;display:-webkit-flex;display:-ms-flexbox;display:flex;-webkit-box-pack:start;-ms-flex-pack:start;-webkit-justify-content:flex-start;justify-content:flex-start;-webkit-align-items:center;-webkit-box-align:center;-ms-flex-align:center;align-items:center;border:none;background:#ffffff;font-size:1.2rem;font-weight:bold;white-space:nowrap;-webkit-flex:0.4;-ms-flex:0.4;flex:0.4;padding:1.4rem 0 1.4rem 1.2rem;}@media screen and (max-width: 375px){.css-gskve1{padding:1.4rem 0 1.4rem 1rem;}}@media screen and (min-width: 768px){.css-gskve1{-webkit-flex:1 1 50%;-ms-flex:1 1 50%;flex:1 1 50%;padding:1.4rem 0 1.4rem 1.6rem;}}@media (max-width: 320px){.css-gskve1{font-size:1rem;}}</style><style data-emotion=\"css vk38sd\" data-s=\"\">.css-vk38sd{margin:1.2rem 2rem 0;background-color:#fef8f2;padding:0.7rem 0 0.6rem;display:-webkit-box;display:-webkit-flex;display:-ms-flexbox;display:flex;-webkit-flex-direction:column;-ms-flex-direction:column;flex-direction:column;-webkit-align-items:center;-webkit-box-align:center;-ms-flex-align:center;align-items:center;}@media screen and (min-width: 768px){.css-vk38sd{margin-bottom:1.2rem;}}</style><style data-emotion=\"css sxri4m\" data-s=\"\">.css-sxri4m{display:-webkit-box;display:-webkit-flex;display:-ms-flexbox;display:flex;-webkit-align-items:center;-webkit-box-align:center;-ms-flex-align:center;align-items:center;font-size:1.2rem;font-weight:bold;color:#e67000;}.css-sxri4m:nth-of-type(n + 2){margin-top:0.6rem;}.css-sxri4m:before{content:'';display:inline-block;width:1.2rem;height:1.2rem;margin-right:0.4rem;background-image:url('data:image/svg+xml;base64,PHN2ZyB3aWR0aD0iMTIiIGhlaWdodD0iMTIiIHhtbG5zPSJodHRwOi8vd3d3LnczLm9yZy8yMDAwL3N2ZyIgeG1sbnM6eGxpbms9Imh0dHA6Ly93d3cudzMub3JnLzE5OTkveGxpbmsiPjxkZWZzPjxwYXRoIGlkPSJhIiBkPSJNMCAwaDM2MHYxMDM0SDB6Ii8+PC9kZWZzPjxnIGZpbGw9Im5vbmUiIGZpbGwtcnVsZT0iZXZlbm9kZCI+PHBhdGggZmlsbD0iI0Y0RjVGNyIgZD0iTS02MzYtNzM5aDQwODV2NDgwMEgtNjM2eiIvPjxnIHRyYW5zZm9ybT0idHJhbnNsYXRlKC03NiAtMzA2KSI+PG1hc2sgaWQ9ImIiIGZpbGw9IiNmZmYiPjx1c2UgeGxpbms6aHJlZj0iI2EiLz48L21hc2s+PHVzZSBmaWxsPSIjRDhEOEQ4IiB4bGluazpocmVmPSIjYSIvPjxnIG1hc2s9InVybCgjYikiPjxwYXRoIGZpbGw9IiNGRkYiIGQ9Ik0wLTg0MGgzNjB2NDU3NUgweiIvPjxwYXRoIGZpbGw9IiNGRkYiIGQ9Ik0wIDI4NWgzNjB2NjJIMHoiLz48cGF0aCBkPSJNMjUgMjk3aDMxMmE0IDQgMCAwMTQgNHY0MmE0IDQgMCAwMS00IDRIMjVhNCA0IDAgMDEtNC00di00MmE0IDQgMCAwMTQtNHoiIGZpbGw9IiNGRUY4RjIiLz48cGF0aCBkPSJNODIgMzA2YTYgNiAwIDExMCAxMiA2IDYgMCAwMTAtMTJ6bS42NCA3LjQ0OGgtMS4zMTJ2MS4xOTJoMS4zMTJ2LTEuMTkyem0uMTEyLTQuNjcySDgxLjJsLjIwOCAzLjg1NmgxLjE1MmwuMTkyLTMuODU2eiIgZmlsbD0iI0U2NzAwMCIvPjwvZz48L2c+PC9nPjwvc3ZnPg==');background-repeat:no-repeat;}</style><style data-emotion=\"css 1xurgf7\" data-s=\"\">.css-1xurgf7{display:-webkit-box;display:-webkit-flex;display:-ms-flexbox;display:flex;-webkit-flex-direction:column;-ms-flex-direction:column;flex-direction:column;position:relative;-webkit-box-pack:start;-ms-flex-pack:start;-webkit-justify-content:flex-start;justify-content:flex-start;-webkit-align-items:flex-start;-webkit-box-align:flex-start;-ms-flex-align:flex-start;align-items:flex-start;}@media screen and (min-width: 768px){.css-1xurgf7{-webkit-flex-direction:row;-ms-flex-direction:row;flex-direction:row;-webkit-box-flex-wrap:wrap;-webkit-flex-wrap:wrap;-ms-flex-wrap:wrap;flex-wrap:wrap;-webkit-box-pack:start;-ms-flex-pack:start;-webkit-justify-content:flex-start;justify-content:flex-start;-webkit-align-items:stretch;-webkit-box-align:stretch;-ms-flex-align:stretch;align-items:stretch;border-top:1px solid #f2f2f2;}}@media screen and (max-width: 767px){.css-1xurgf7 >:first-of-type{padding-top:0.4rem;}}</style><style data-emotion=\"css 1ge5qy2\" data-s=\"\">.css-1ge5qy2{display:-webkit-box;display:-webkit-flex;display:-ms-flexbox;display:flex;-webkit-flex-direction:column;-ms-flex-direction:column;flex-direction:column;}.css-1ge5qy2 >a{display:-webkit-box;display:-webkit-flex;display:-ms-flexbox;display:flex;-webkit-flex-direction:column;-ms-flex-direction:column;flex-direction:column;-webkit-text-decoration:none;text-decoration:none;}@media screen and (max-width: 767px){.css-1ge5qy2{width:100%;padding:1.6rem 0;}.css-1ge5qy2 >*{margin:0 2rem;}.css-1ge5qy2:nth-of-type(n + 2){border-top:1px solid #e6e6e6;}}@media screen and (min-width: 768px){.css-1ge5qy2{width:50%;margin:0;padding:1.6rem 2rem;}.css-1ge5qy2:nth-of-type(odd){border-right:1px solid #e6e6e6;}.css-1ge5qy2:nth-of-type(n + 3){border-top:1px solid #e6e6e6;}}</style><style data-emotion=\"css 8jspru\" data-s=\"\">.css-8jspru{width:100%;cursor:pointer;position:relative;overflow:hidden;z-index:0;border-radius:0.4rem;background-color:#f2f2f2;height:21.2rem;-webkit-user-select:none;-moz-user-select:none;-ms-user-select:none;user-select:none;}.css-8jspru .photoSwipeItem{height:21.2rem;}@media screen and (min-width: 768px){.css-8jspru{height:22.8rem;}.css-8jspru .photoSwipeItem{height:22.8rem;}}</style><style data-emotion=\"css 29a7gy\" data-s=\"\">.css-29a7gy{width:2.5rem!important;height:4rem!important;left:1rem;}</style><style data-emotion=\"css 1leztm9\" data-s=\"\">.css-1leztm9{cursor:not-allowed;pointer-events:auto!important;top:50%;position:absolute;z-index:1;left:2rem;-webkit-transform:translateY(-50%);-moz-transform:translateY(-50%);-ms-transform:translateY(-50%);transform:translateY(-50%);width:4.6rem!important;height:7.4rem!important;width:2.5rem!important;height:4rem!important;left:1rem;}.css-1leztm9:before{content:'';width:100%;height:100%;display:inline-block;background-image:url('data:image/svg+xml;base64,PHN2ZyB3aWR0aD0iNDYiIGhlaWdodD0iNzQiIHhtbG5zPSJodHRwOi8vd3d3LnczLm9yZy8yMDAwL3N2ZyI+PGcgZmlsbD0ibm9uZSIgZmlsbC1ydWxlPSJldmVub2RkIj48cmVjdCBmaWxsPSIjMDAwIiBvcGFjaXR5PSIuMyIgd2lkdGg9IjQ2IiBoZWlnaHQ9Ijc0IiByeD0iNCIvPjxwYXRoIGQ9Ik0zNSA2MmgtMi40TDggMzdsMjQuNi0yNUgzNUwxMC40IDM3eiIgZmlsbD0iI0ZGRiIgb3BhY2l0eT0iLjIiLz48L2c+PC9zdmc+');background-repeat:no-repeat;-webkit-background-position:right;background-position:right;-webkit-background-size:contain;background-size:contain;}</style><style data-emotion=\"css 5an6yf\" data-s=\"\">.css-5an6yf{width:2.5rem!important;height:4rem!important;right:1rem;}</style><style data-emotion=\"css ava52d\" data-s=\"\">.css-ava52d{cursor:pointer;pointer-events:auto!important;top:50%;position:absolute;z-index:1;right:2rem;-webkit-transform:translateY(-50%);-moz-transform:translateY(-50%);-ms-transform:translateY(-50%);transform:translateY(-50%);width:4.6rem!important;height:7.4rem!important;width:2.5rem!important;height:4rem!important;right:1rem;}.css-ava52d:before{content:'';width:100%;height:100%;display:inline-block;background-image:url('data:image/svg+xml;base64,PHN2ZyB3aWR0aD0iNDYiIGhlaWdodD0iNzQiIHhtbG5zPSJodHRwOi8vd3d3LnczLm9yZy8yMDAwL3N2ZyI+PGcgZmlsbD0ibm9uZSIgZmlsbC1ydWxlPSJldmVub2RkIj48cmVjdCBmaWxsPSIjMDAwIiBvcGFjaXR5PSIuMyIgd2lkdGg9IjQ2IiBoZWlnaHQ9Ijc0IiByeD0iNCIvPjxwYXRoIGQ9Ik0xMSA2MmgyLjRMMzggMzcgMTMuNCAxMkgxMWwyNC42IDI1eiIgZmlsbD0iI0ZGRiIgb3BhY2l0eT0iLjYiLz48L2c+PC9zdmc+');background-repeat:no-repeat;-webkit-background-position:right;background-position:right;-webkit-background-size:contain;background-size:contain;}</style><style data-emotion=\"css 1eldwbg\" data-s=\"\">.css-1eldwbg{position:absolute;bottom:0;right:0;}</style><style data-emotion=\"css 1x7mkfg\" data-s=\"\">.css-1x7mkfg{background:rgba(0, 0, 0, 0.6);font-size:1rem;font-weight:normal;color:#ffffff;padding:0.8rem 1rem;display:-webkit-box;display:-webkit-flex;display:-ms-flexbox;display:flex;-webkit-box-pack:center;-ms-flex-pack:center;-webkit-justify-content:center;justify-content:center;-webkit-align-items:center;-webkit-box-align:center;-ms-flex-align:center;align-items:center;height:2.8rem;}</style><style data-emotion=\"css 120f20r\" data-s=\"\">.css-120f20r{font-size:1rem;font-weight:bold;}</style><style data-emotion=\"css 1h544f0\" data-s=\"\">.css-1h544f0{height:0.8rem;width:0.1rem;background:#ffffff;margin:0.2rem 0.6rem;opacity:0.3;}</style><style data-emotion=\"css nm7tus\" data-s=\"\">.css-nm7tus{display:-webkit-box;display:-webkit-flex;display:-ms-flexbox;display:flex;-webkit-flex-direction:column;-ms-flex-direction:column;flex-direction:column;-webkit-box-pack:center;-ms-flex-pack:center;-webkit-justify-content:center;justify-content:center;padding:1.2rem 0 0;}</style><style data-emotion=\"css 1ux2lue\" data-s=\"\">.css-1ux2lue{font-size:1.8rem;font-weight:bold;color:#1a1a1a;line-height:2.1;max-height:4.1000000000000005em;text-align:left;position:relative;text-overflow:ellipsis;padding:0!important;word-break:break-word;display:-webkit-box;-webkit-line-clamp:2;-webkit-box-orient:vertical;overflow:hidden;line-height:2.1rem;}</style><style data-emotion=\"css s30ukx\" data-s=\"\">.css-s30ukx{font-size:1.2rem;font-weight:normal;font-size:1.4rem;color:#616161;line-height:1.4;max-height:2.6999999999999997em;text-align:left;position:relative;text-overflow:ellipsis;padding:0!important;word-break:break-word;display:-webkit-box;-webkit-line-clamp:2;-webkit-box-orient:vertical;overflow:hidden;margin:0.4rem 0 0;}</style><style data-emotion=\"css adgfa3\" data-s=\"\">.css-adgfa3{display:block;margin:1rem 0 1.6rem!important;padding:0.6rem 1rem!important;background-color:#f8f8f8;border-radius:0.4rem;}.css-adgfa3 >div{overflow:hidden;text-overflow:ellipsis;display:-webkit-box;-webkit-line-clamp:2;-webkit-box-orient:vertical;}.css-adgfa3 >div >span{font-size:1.2rem;font-weight:normal;color:#616161;line-height:1.8rem;}.css-adgfa3 >div >span.bold{font-size:1.2rem;font-weight:bold;}.css-adgfa3 >div >span:nth-of-type(n + 2):before{content:'・';font-size:1rem;width:0.2rem;margin:0 0.2rem;}</style><style data-emotion=\"css 1ao9jo6\" data-s=\"\">.css-1ao9jo6{display:-webkit-box;display:-webkit-flex;display:-ms-flexbox;display:flex;-webkit-flex-direction:column;-ms-flex-direction:column;flex-direction:column;padding-top:0.4rem;}.css-1ao9jo6 >div:nth-of-type(n + 2){margin-top:1.2rem;}</style><style data-emotion=\"css 1hajmkc\" data-s=\"\">.css-1hajmkc{display:-webkit-box;display:-webkit-flex;display:-ms-flexbox;display:flex;-webkit-flex-direction:column;-ms-flex-direction:column;flex-direction:column;}.css-1hajmkc *{color:#cccccc!important;border-color:#cccccc!important;}</style><style data-emotion=\"css uf1ume\" data-s=\"\">.css-uf1ume{display:-webkit-box;display:-webkit-flex;display:-ms-flexbox;display:flex;-webkit-box-pack:justify;-webkit-justify-content:space-between;justify-content:space-between;}</style><style data-emotion=\"css 1sp0pr6\" data-s=\"\">.css-1sp0pr6{font-size:1.4rem;font-weight:bold;color:#1a1a1a;}</style><style data-emotion=\"css 138cfhq\" data-s=\"\">.css-138cfhq{font-size:1.4rem;font-weight:normal;color:#1a1a1a;}</style><style data-emotion=\"css 1vczc1y\" data-s=\"\">.css-1vczc1y{display:-webkit-box;display:-webkit-flex;display:-ms-flexbox;display:flex;-webkit-box-pack:end;-ms-flex-pack:end;-webkit-justify-content:flex-end;justify-content:flex-end;-webkit-align-items:center;-webkit-box-align:center;-ms-flex-align:center;align-items:center;}</style><style data-emotion=\"css 17myvy9\" data-s=\"\">.css-17myvy9{font-size:1.2rem;font-weight:bold;color:#de2e5f;margin-right:0.2rem;}.css-17myvy9 >span{margin-left:0.2rem;font-size:1.6rem;font-weight:bold;}</style><style data-emotion=\"css w3imtf\" data-s=\"\">.css-w3imtf{font-size:1.6rem;font-weight:bold;color:#1a1a1a;font-size:1.8rem;}.css-w3imtf >span{font-size:1.2rem;font-weight:bold;font-size:1.4rem;}</style><style data-emotion=\"css lrteps\" data-s=\"\">.css-lrteps{display:-webkit-box;display:-webkit-flex;display:-ms-flexbox;display:flex;-webkit-flex-direction:row;-ms-flex-direction:row;flex-direction:row;-webkit-align-items:center;-webkit-box-align:center;-ms-flex-align:center;align-items:center;-webkit-box-pack:end;-ms-flex-pack:end;-webkit-justify-content:flex-end;justify-content:flex-end;font-size:1.2rem;font-weight:bold;color:#919191;}</style><style data-emotion=\"css 7viu9x\" data-s=\"\">.css-7viu9x{margin-top:1.2rem;display:-webkit-box;display:-webkit-flex;display:-ms-flexbox;display:flex;-webkit-box-pack:end;-ms-flex-pack:end;-webkit-justify-content:flex-end;justify-content:flex-end;}.css-7viu9x a{-webkit-text-decoration:none;text-decoration:none;}</style><style data-emotion=\"css 1inwb4y\" data-s=\"\">.css-1inwb4y{font-size:1.6rem;font-weight:bold;background:#ffffff;border:1px solid;border-radius:0.4rem;border-color:#cccccc;border-radius:0.4rem;width:12rem;height:3.2rem;display:-webkit-box;display:-webkit-flex;display:-ms-flexbox;display:flex;-webkit-box-pack:center;-ms-flex-pack:center;-webkit-justify-content:center;justify-content:center;-webkit-align-items:center;-webkit-box-align:center;-ms-flex-align:center;align-items:center;font-size:1.2rem;font-weight:normal;}.css-1inwb4y:disabled{background:#e6e6e6;color:#ababab;border:1px solid #cccccc;cursor:not-allowed;}@media (hover: hover){.css-1inwb4y:not(:disabled):hover{background:#f8f8f8;}}.css-1inwb4y:not(:disabled):active{background:#f2f2f2;}</style><style data-emotion=\"css 1tpx41z\" data-s=\"\">.css-1tpx41z{background:#ffffff;font-size:1.6rem;font-weight:bold;background:#ffffff;border:1px solid;border-radius:0.4rem;border-color:#cccccc;border-radius:0.4rem;width:12rem;height:3.2rem;display:-webkit-box;display:-webkit-flex;display:-ms-flexbox;display:flex;-webkit-box-pack:center;-ms-flex-pack:center;-webkit-justify-content:center;justify-content:center;-webkit-align-items:center;-webkit-box-align:center;-ms-flex-align:center;align-items:center;font-size:1.2rem;font-weight:normal;}.css-1tpx41z:disabled{background:#e6e6e6;color:#ababab;border:1px solid #cccccc;cursor:not-allowed;}@media (hover: hover){.css-1tpx41z:not(:disabled):hover{background:#f8f8f8;}}.css-1tpx41z:not(:disabled):active{background:#f2f2f2;}</style><style data-emotion=\"css 113k7bv\" data-s=\"\">.css-113k7bv{display:-webkit-box;display:-webkit-flex;display:-ms-flexbox;display:flex;-webkit-flex-direction:row;-ms-flex-direction:row;flex-direction:row;-webkit-box-pack:justify;-webkit-justify-content:space-between;justify-content:space-between;-webkit-align-items:center;-webkit-box-align:center;-ms-flex-align:center;align-items:center;width:100%;height:4.8rem;line-height:4.8rem;outline:none;border:none;-webkit-text-decoration:none;text-decoration:none;background-color:#ffffff;cursor:pointer;}</style><style data-emotion=\"css 1tkw7tm\" data-s=\"\">.css-1tkw7tm{display:-webkit-box;display:-webkit-flex;display:-ms-flexbox;display:flex;-webkit-align-items:center;-webkit-box-align:center;-ms-flex-align:center;align-items:center;-webkit-box-pack:justify;-webkit-justify-content:space-between;justify-content:space-between;width:100%;min-height:4.8rem;padding:0 2rem;background:#ffffff;}</style><style data-emotion=\"css 1830rfa\" data-s=\"\">.css-1830rfa{font-size:1.8rem;font-weight:bold;color:#1a1a1a;min-height:1.8rem;display:-webkit-box;display:-webkit-flex;display:-ms-flexbox;display:flex;-webkit-box-flex-flow:column;-webkit-flex-flow:column;-ms-flex-flow:column;flex-flow:column;-webkit-box-pack:center;-ms-flex-pack:center;-webkit-justify-content:center;justify-content:center;-webkit-align-items:flex-start;-webkit-box-align:flex-start;-ms-flex-align:flex-start;align-items:flex-start;width:100%;}</style><style data-emotion=\"css 16yea13\" data-s=\"\">.css-16yea13{vertical-align:middle;font-size:1.6rem;font-weight:bold;-webkit-user-select:none;-moz-user-select:none;-ms-user-select:none;user-select:none;}</style><style data-emotion=\"css 1d3lw0b\" data-s=\"\">.css-1d3lw0b{font-size:1.2rem;font-weight:normal;color:#616161;text-align:left;width:100%;}</style><style data-emotion=\"css 1ovurkh\" data-s=\"\">.css-1ovurkh{-webkit-flex:0 0 auto;-ms-flex:0 0 auto;flex:0 0 auto;}</style><style data-emotion=\"css uoj5nc\" data-s=\"\">.css-uoj5nc{display:-webkit-box;display:-webkit-flex;display:-ms-flexbox;display:flex;-webkit-align-items:center;-webkit-box-align:center;-ms-flex-align:center;align-items:center;}.css-uoj5nc:before{display:inline-block;content:'';width:1.6rem;height:1.6rem;background-image:url('data:image/svg+xml;base64,PHN2ZyB4bWxucz0iaHR0cDovL3d3dy53My5vcmcvMjAwMC9zdmciIHdpZHRoPSIyNCIgaGVpZ2h0PSIyNCI+PHBhdGggZmlsbD0iIzAwMCIgZD0iTTYuNDkgMjAuMTNsMS43NyAxLjc3IDkuOS05LjktOS45LTkuOS0xLjc3IDEuNzdMMTQuNjIgMTJsLTguMTMgOC4xM3oiIGZpbGwtcnVsZT0iZXZlbm9kZCIvPjwvc3ZnPg==');background-repeat:no-repeat;-webkit-background-position:right;background-position:right;-webkit-background-size:contain;background-size:contain;}</style><style data-emotion=\"css ipnykb\" data-s=\"\">.css-ipnykb{display:-webkit-box;display:-webkit-flex;display:-ms-flexbox;display:flex;-webkit-box-pack:center;-ms-flex-pack:center;-webkit-justify-content:center;justify-content:center;-webkit-align-items:center;-webkit-box-align:center;-ms-flex-align:center;align-items:center;position:fixed;z-index:100;bottom:-7rem;right:1.4rem;width:4.8rem;height:6.8rem;outline:none;border:none;background:transparent;opacity:0;-webkit-transition:all 0.2s cubic-bezier(1, 0, 1, 0.7);transition:all 0.2s cubic-bezier(1, 0, 1, 0.7);}@media screen and (min-width: 768px){.css-ipnykb{left:calc(50% + 36rem - 3.6rem);}}.css-ipnykb.active{bottom:0;opacity:1;-webkit-transition:all 0.2s cubic-bezier(0, 1, 0.7, 1);transition:all 0.2s cubic-bezier(0, 1, 0.7, 1);}</style><style data-emotion=\"css etwf3d\" data-s=\"\">.css-etwf3d{display:-webkit-box;display:-webkit-flex;display:-ms-flexbox;display:flex;-webkit-box-pack:center;-ms-flex-pack:center;-webkit-justify-content:center;justify-content:center;-webkit-align-items:center;-webkit-box-align:center;-ms-flex-align:center;align-items:center;outline:none;border:none;width:4.8rem;height:4.8rem;background-color:transparent;background-repeat:no-repeat;background-image:url('data:image/svg+xml;base64,PHN2ZyB3aWR0aD0iNDgiIGhlaWdodD0iNDgiIHhtbG5zPSJodHRwOi8vd3d3LnczLm9yZy8yMDAwL3N2ZyIgeG1sbnM6eGxpbms9Imh0dHA6Ly93d3cudzMub3JnLzE5OTkveGxpbmsiPjxkZWZzPjxmaWx0ZXIgeD0iLTEyLjUlIiB5PSItOCUiIHdpZHRoPSIxMjUlIiBoZWlnaHQ9IjEyNSUiIGZpbHRlclVuaXRzPSJvYmplY3RCb3VuZGluZ0JveCIgaWQ9ImEiPjxmZU9mZnNldCBkeT0iMiIgaW49IlNvdXJjZUFscGhhIiByZXN1bHQ9InNoYWRvd09mZnNldE91dGVyMSIvPjxmZUdhdXNzaWFuQmx1ciBzdGREZXZpYXRpb249IjEuNSIgaW49InNoYWRvd09mZnNldE91dGVyMSIgcmVzdWx0PSJzaGFkb3dCbHVyT3V0ZXIxIi8+PGZlQ29tcG9zaXRlIGluPSJzaGFkb3dCbHVyT3V0ZXIxIiBpbjI9IlNvdXJjZUFscGhhIiBvcGVyYXRvcj0ib3V0IiByZXN1bHQ9InNoYWRvd0JsdXJPdXRlcjEiLz48ZmVDb2xvck1hdHJpeCB2YWx1ZXM9IjAgMCAwIDAgMCAwIDAgMCAwIDAgMCAwIDAgMCAwIDAgMCAwIDAuMTUgMCIgaW49InNoYWRvd0JsdXJPdXRlcjEiLz48L2ZpbHRlcj48cmVjdCBpZD0iYiIgeD0iMiIgeT0iMCIgd2lkdGg9IjQ0IiBoZWlnaHQ9IjQ0IiByeD0iMjIiLz48L2RlZnM+PGcgZmlsbD0ibm9uZSIgZmlsbC1ydWxlPSJldmVub2RkIj48dXNlIGZpbGw9IiMwMDAiIGZpbHRlcj0idXJsKCNhKSIgeGxpbms6aHJlZj0iI2IiLz48cmVjdCBzdHJva2Utb3BhY2l0eT0iLjE1IiBzdHJva2U9IiMwMDAiIHN0cm9rZS13aWR0aD0iLjUiIHN0cm9rZS1saW5lam9pbj0ic3F1YXJlIiBmaWxsPSIjRkZGIiB4PSIyLjI1IiB5PSIuMjUiIHdpZHRoPSI0My41IiBoZWlnaHQ9IjQzLjUiIHJ4PSIyMS43NSIvPjxwYXRoIGQ9Ik0xNC4xIDI2LjU5bC43MDMuNzA3TDI0IDE4LjFsOS4yIDkuMi43LS43LTkuOS05Ljl6IiBmaWxsPSIjNjE2MTYxIi8+PC9nPjwvc3ZnPg==');}.css-etwf3d:hover{background-image:url('data:image/svg+xml;base64,PHN2ZyB3aWR0aD0iNDgiIGhlaWdodD0iNDgiIHhtbG5zPSJodHRwOi8vd3d3LnczLm9yZy8yMDAwL3N2ZyIgeG1sbnM6eGxpbms9Imh0dHA6Ly93d3cudzMub3JnLzE5OTkveGxpbmsiPjxkZWZzPjxmaWx0ZXIgeD0iLTEyLjUlIiB5PSItOCUiIHdpZHRoPSIxMjUlIiBoZWlnaHQ9IjEyNSUiIGZpbHRlclVuaXRzPSJvYmplY3RCb3VuZGluZ0JveCIgaWQ9ImEiPjxmZU9mZnNldCBkeT0iMiIgaW49IlNvdXJjZUFscGhhIiByZXN1bHQ9InNoYWRvd09mZnNldE91dGVyMSIvPjxmZUdhdXNzaWFuQmx1ciBzdGREZXZpYXRpb249IjEuNSIgaW49InNoYWRvd09mZnNldE91dGVyMSIgcmVzdWx0PSJzaGFkb3dCbHVyT3V0ZXIxIi8+PGZlQ29tcG9zaXRlIGluPSJzaGFkb3dCbHVyT3V0ZXIxIiBpbjI9IlNvdXJjZUFscGhhIiBvcGVyYXRvcj0ib3V0IiByZXN1bHQ9InNoYWRvd0JsdXJPdXRlcjEiLz48ZmVDb2xvck1hdHJpeCB2YWx1ZXM9IjAgMCAwIDAgMCAwIDAgMCAwIDAgMCAwIDAgMCAwIDAgMCAwIDAuMTUgMCIgaW49InNoYWRvd0JsdXJPdXRlcjEiLz48L2ZpbHRlcj48cmVjdCBpZD0iYiIgeD0iMiIgeT0iMCIgd2lkdGg9IjQ0IiBoZWlnaHQ9IjQ0IiByeD0iMjIiLz48L2RlZnM+PGcgZmlsbD0ibm9uZSIgZmlsbC1ydWxlPSJldmVub2RkIj48dXNlIGZpbGw9IiMwMDAiIGZpbHRlcj0idXJsKCNhKSIgeGxpbms6aHJlZj0iI2IiLz48cmVjdCBzdHJva2Utb3BhY2l0eT0iLjE1IiBzdHJva2U9IiMwMDAiIHN0cm9rZS13aWR0aD0iLjUiIHN0cm9rZS1saW5lam9pbj0ic3F1YXJlIiBmaWxsPSIjRkZGIiB4PSIyLjI1IiB5PSIuMjUiIHdpZHRoPSI0My41IiBoZWlnaHQ9IjQzLjUiIHJ4PSIyMS43NSIvPjxwYXRoIGQ9Ik0xNC4xIDI2LjU5bC43MDMuNzA3TDI0IDE4LjFsOS4yIDkuMi43LS43LTkuOS05Ljl6IiBmaWxsPSIjNjE2MTYxIi8+PC9nPjwvc3ZnPg==');}@media (hover: hover) and (pointer: fine){.css-etwf3d:hover{background-image:url('data:image/svg+xml;base64,PHN2ZyB3aWR0aD0iNDgiIGhlaWdodD0iNDgiIHhtbG5zPSJodHRwOi8vd3d3LnczLm9yZy8yMDAwL3N2ZyIgeG1sbnM6eGxpbms9Imh0dHA6Ly93d3cudzMub3JnLzE5OTkveGxpbmsiPjxkZWZzPjxmaWx0ZXIgeD0iLTEyLjUlIiB5PSItOCUiIHdpZHRoPSIxMjUlIiBoZWlnaHQ9IjEyNSUiIGZpbHRlclVuaXRzPSJvYmplY3RCb3VuZGluZ0JveCIgaWQ9ImEiPjxmZU9mZnNldCBkeT0iMiIgaW49IlNvdXJjZUFscGhhIiByZXN1bHQ9InNoYWRvd09mZnNldE91dGVyMSIvPjxmZUdhdXNzaWFuQmx1ciBzdGREZXZpYXRpb249IjEuNSIgaW49InNoYWRvd09mZnNldE91dGVyMSIgcmVzdWx0PSJzaGFkb3dCbHVyT3V0ZXIxIi8+PGZlQ29tcG9zaXRlIGluPSJzaGFkb3dCbHVyT3V0ZXIxIiBpbjI9IlNvdXJjZUFscGhhIiBvcGVyYXRvcj0ib3V0IiByZXN1bHQ9InNoYWRvd0JsdXJPdXRlcjEiLz48ZmVDb2xvck1hdHJpeCB2YWx1ZXM9IjAgMCAwIDAgMCAwIDAgMCAwIDAgMCAwIDAgMCAwIDAgMCAwIDAuMTUgMCIgaW49InNoYWRvd0JsdXJPdXRlcjEiLz48L2ZpbHRlcj48cmVjdCBpZD0iYiIgeD0iMiIgeT0iMCIgd2lkdGg9IjQ0IiBoZWlnaHQ9IjQ0IiByeD0iMjIiLz48L2RlZnM+PGcgZmlsbD0ibm9uZSIgZmlsbC1ydWxlPSJldmVub2RkIj48dXNlIGZpbGw9IiMwMDAiIGZpbHRlcj0idXJsKCNhKSIgeGxpbms6aHJlZj0iI2IiLz48cmVjdCBzdHJva2Utb3BhY2l0eT0iLjE1IiBzdHJva2U9IiMwMDAiIHN0cm9rZS13aWR0aD0iLjUiIHN0cm9rZS1saW5lam9pbj0ic3F1YXJlIiBmaWxsPSIjRkZGIiB4PSIyLjI1IiB5PSIuMjUiIHdpZHRoPSI0My41IiBoZWlnaHQ9IjQzLjUiIHJ4PSIyMS43NSIvPjxwYXRoIGQ9Ik0xNC4xIDI2LjU5bC43MDMuNzA3TDI0IDE4LjFsOS4yIDkuMi43LS43LTkuOS05Ljl6IiBmaWxsPSIjNjE2MTYxIi8+PHJlY3QgZmlsbC1vcGFjaXR5PSIuMDUiIGZpbGw9IiMwMDAiIHg9IjIiIHdpZHRoPSI0NCIgaGVpZ2h0PSI0My44NzkiIHJ4PSIyMS45MzkiLz48L2c+PC9zdmc+');}}.css-etwf3d:active{background-image:url('data:image/svg+xml;base64,PHN2ZyB3aWR0aD0iNDgiIGhlaWdodD0iNDgiIHhtbG5zPSJodHRwOi8vd3d3LnczLm9yZy8yMDAwL3N2ZyIgeG1sbnM6eGxpbms9Imh0dHA6Ly93d3cudzMub3JnLzE5OTkveGxpbmsiPjxkZWZzPjxmaWx0ZXIgeD0iLTEyLjUlIiB5PSItOCUiIHdpZHRoPSIxMjUlIiBoZWlnaHQ9IjEyNSUiIGZpbHRlclVuaXRzPSJvYmplY3RCb3VuZGluZ0JveCIgaWQ9ImEiPjxmZU9mZnNldCBkeT0iMiIgaW49IlNvdXJjZUFscGhhIiByZXN1bHQ9InNoYWRvd09mZnNldE91dGVyMSIvPjxmZUdhdXNzaWFuQmx1ciBzdGREZXZpYXRpb249IjEuNSIgaW49InNoYWRvd09mZnNldE91dGVyMSIgcmVzdWx0PSJzaGFkb3dCbHVyT3V0ZXIxIi8+PGZlQ29tcG9zaXRlIGluPSJzaGFkb3dCbHVyT3V0ZXIxIiBpbjI9IlNvdXJjZUFscGhhIiBvcGVyYXRvcj0ib3V0IiByZXN1bHQ9InNoYWRvd0JsdXJPdXRlcjEiLz48ZmVDb2xvck1hdHJpeCB2YWx1ZXM9IjAgMCAwIDAgMCAwIDAgMCAwIDAgMCAwIDAgMCAwIDAgMCAwIDAuMTUgMCIgaW49InNoYWRvd0JsdXJPdXRlcjEiLz48L2ZpbHRlcj48cmVjdCBpZD0iYiIgeD0iMiIgeT0iMCIgd2lkdGg9IjQ0IiBoZWlnaHQ9IjQ0IiByeD0iMjIiLz48L2RlZnM+PGcgZmlsbD0ibm9uZSIgZmlsbC1ydWxlPSJldmVub2RkIj48dXNlIGZpbGw9IiMwMDAiIGZpbHRlcj0idXJsKCNhKSIgeGxpbms6aHJlZj0iI2IiLz48cmVjdCBzdHJva2Utb3BhY2l0eT0iLjE1IiBzdHJva2U9IiMwMDAiIHN0cm9rZS13aWR0aD0iLjUiIHN0cm9rZS1saW5lam9pbj0ic3F1YXJlIiBmaWxsPSIjRkZGIiB4PSIyLjI1IiB5PSIuMjUiIHdpZHRoPSI0My41IiBoZWlnaHQ9IjQzLjUiIHJ4PSIyMS43NSIvPjxwYXRoIGQ9Ik0xNC4xIDI2LjU5bC43MDMuNzA3TDI0IDE4LjFsOS4yIDkuMi43LS43LTkuOS05Ljl6IiBmaWxsPSIjNjE2MTYxIi8+PHJlY3QgZmlsbC1vcGFjaXR5PSIuMSIgZmlsbD0iIzAwMCIgeD0iMiIgd2lkdGg9IjQ0IiBoZWlnaHQ9IjQzLjg3OSIgcng9IjIxLjkzOSIvPjwvZz48L3N2Zz4=');}</style><style data-emotion=\"css 1ago99h\" data-s=\"\">.css-1ago99h{width:100%;}</style><style data-emotion=\"css 7oya2k\" data-s=\"\">.css-7oya2k{width:100%;background-color:#f2f2f2;padding-top:1.6rem;padding-bottom:6.8rem;}</style><style data-emotion=\"css jycldt\" data-s=\"\">.css-jycldt{padding:0.8rem 2rem 2rem 2rem;}.css-jycldt img{-webkit-user-select:none;-moz-user-select:none;-ms-user-select:none;user-select:none;height:2.2rem;}</style><style data-emotion=\"css 6qhe46\" data-s=\"\">.css-6qhe46{padding:0 2rem;}.css-6qhe46 p{font-size:1.1rem;font-weight:normal;color:#919191;padding-bottom:0.5rem;}.css-6qhe46 p:nth-last-of-type{margin-bottom:1.2rem;}</style><style data-emotion=\"css 67bo2r\" data-s=\"\">.css-67bo2r{position:fixed;top:0;left:0;width:100vw;background:#ffffff;display:-webkit-box;display:-webkit-flex;display:-ms-flexbox;display:flex;-webkit-box-pack:center;-ms-flex-pack:center;-webkit-justify-content:center;justify-content:center;z-index:100;padding-top:env(safe-area-inset-top);}@media screen and (min-width: 768px){.css-67bo2r{border-bottom:1px solid #e6e6e6;}}.css-67bo2r >*{-webkit-flex:0 0 100%;-ms-flex:0 0 100%;flex:0 0 100%;max-width:768px;}</style><style data-emotion=\"css r18btq\" data-s=\"\">.css-r18btq{width:100%;max-width:768px;}</style><style data-emotion=\"css sevc8p\" data-s=\"\">.css-sevc8p{display:-webkit-box;display:-webkit-flex;display:-ms-flexbox;display:flex;-webkit-box-flex-flow:column;-webkit-flex-flow:column;-ms-flex-flow:column;flex-flow:column;background:#ffffff;min-height:4.8rem;max-width:768px;}</style><style data-emotion=\"css 1v6k278\" data-s=\"\">.css-1v6k278{display:-webkit-box;display:-webkit-flex;display:-ms-flexbox;display:flex;-webkit-box-flex-flow:nowrap;-webkit-flex-flow:nowrap;-ms-flex-flow:nowrap;flex-flow:nowrap;position:relative;-webkit-box-pack:justify;-webkit-justify-content:space-between;justify-content:space-between;-webkit-align-items:center;-webkit-box-align:center;-ms-flex-align:center;align-items:center;padding:0 1.2rem;min-height:4.8rem;}</style><style data-emotion=\"css 1i028dt\" data-s=\"\">.css-1i028dt{width:2.4rem;height:2.4rem;margin:0.8rem;-webkit-flex:0 0 auto;-ms-flex:0 0 auto;flex:0 0 auto;z-index:1;cursor:pointer;-webkit-user-select:none;-moz-user-select:none;-ms-user-select:none;user-select:none;}</style><style data-emotion=\"css 17e7ihx\" data-s=\"\">.css-17e7ihx{font-size:1.8rem;font-weight:bold;display:-webkit-box;display:-webkit-flex;display:-ms-flexbox;display:flex;-webkit-box-flex-flow:column;-webkit-flex-flow:column;-ms-flex-flow:column;flex-flow:column;-webkit-flex:1 1 auto;-ms-flex:1 1 auto;flex:1 1 auto;-webkit-box-pack:center;-ms-flex-pack:center;-webkit-justify-content:center;justify-content:center;max-width:768px;white-space:nowrap;overflow:hidden;-webkit-align-items:center;-webkit-box-align:center;-ms-flex-align:center;align-items:center;text-align:center;position:absolute;left:0;width:100%;height:100%;}</style><style data-emotion=\"css z0igb2\" data-s=\"\">.css-z0igb2{position:relative;color:transparent;margin-top:0.3rem;max-width:calc(100% - 4.8rem - 2.4rem - 2rem);}</style><style data-emotion=\"css djecwh\" data-s=\"\">.css-djecwh{top:0;position:absolute;width:calc(100% - 0px);color:#1a1a1a;text-align:left;overflow:hidden;text-overflow:ellipsis;}</style><style data-emotion=\"css 4j64ic\" data-s=\"\">.css-4j64ic{display:-webkit-box;display:-webkit-flex;display:-ms-flexbox;display:flex;-webkit-flex:0 0 auto;-ms-flex:0 0 auto;flex:0 0 auto;-webkit-box-pack:end;-ms-flex-pack:end;-webkit-justify-content:flex-end;justify-content:flex-end;z-index:1;}</style><style data-emotion=\"css pkkko5\" data-s=\"\">.css-pkkko5{display:-webkit-box;display:-webkit-flex;display:-ms-flexbox;display:flex;-webkit-align-items:center;-webkit-box-align:center;-ms-flex-align:center;align-items:center;-webkit-box-pack:center;-ms-flex-pack:center;-webkit-justify-content:center;justify-content:center;width:4rem;height:4rem;touch-action:none;}</style><style data-emotion=\"css 1q9xhqm\" data-s=\"\">.css-1q9xhqm{display:-webkit-box;display:-webkit-flex;display:-ms-flexbox;display:flex;-webkit-align-items:center;-webkit-box-align:center;-ms-flex-align:center;align-items:center;margin:0.2rem;cursor:pointer;}.css-1q9xhqm:before{display:inline-block;content:'';width:2.4rem;height:2.4rem;background-image:url('data:image/svg+xml;base64,PHN2ZyB3aWR0aD0iMjQiIGhlaWdodD0iMjQiIHhtbG5zPSJodHRwOi8vd3d3LnczLm9yZy8yMDAwL3N2ZyI+PHBhdGggZD0iTTYuNSAyMmEyIDIgMCAwMS0yLTJ2LTcuNjcxbC0xLjAyNCAxLjAyNC0xLjQxNC0xLjQxNEwxMiAybDkuOTM5IDkuOTM5LTEuNDE2IDEuNDE2LTEuMDIzLTEuMDIzVjIwYTIgMiAwIDAxLTIgMmgtMTF6TTEyIDQuODI4bC01LjUgNS41VjIwSDl2LTZoNnY2aDIuNXYtOS42NzFsLTUuNS01LjV6TTEzIDE2aC0ydjRoMnYtNHoiIGZpbGwtcnVsZT0iZXZlbm9kZCIvPjwvc3ZnPg==');background-repeat:no-repeat;-webkit-background-size:contain;background-size:contain;}</style><style data-emotion=\"css aodoy9\" data-s=\"\">.css-aodoy9{display:-webkit-box;display:-webkit-flex;display:-ms-flexbox;display:flex;position:relative;-webkit-align-items:center;-webkit-box-align:center;-ms-flex-align:center;align-items:center;-webkit-box-pack:center;-ms-flex-pack:center;-webkit-justify-content:center;justify-content:center;width:4rem;height:4rem;}</style><style data-emotion=\"css 1ai9mni\" data-s=\"\">.css-1ai9mni{display:-webkit-box;display:-webkit-flex;display:-ms-flexbox;display:flex;-webkit-align-items:center;-webkit-box-align:center;-ms-flex-align:center;align-items:center;margin:0.2rem;cursor:pointer;}.css-1ai9mni:before{display:inline-block;content:'';width:2.4rem;height:2.4rem;background-image:url('data:image/svg+xml;base64,PHN2ZyB3aWR0aD0iMjQiIGhlaWdodD0iMjQiIHhtbG5zPSJodHRwOi8vd3d3LnczLm9yZy8yMDAwL3N2ZyI+PHBhdGggZD0iTTkuNSAxN2EyLjUgMi41IDAgMTEwIDUgMi41IDIuNSAwIDAxMC01em03LjUgMGEyLjUgMi41IDAgMTEwIDUgMi41IDIuNSAwIDAxMC01em0tNy41IDEuOGEuNy43IDAgMTAwIDEuNC43LjcgMCAwMDAtMS40em03LjUgMGEuNy43IDAgMTAwIDEuNC43LjcgMCAwMDAtMS40ek01LjEzMiAyQTEuNSAxLjUgMCAwMTYuNiAzLjE5Mkw3LjE5IDZoLjAxMmwxLjcxNCA4aDguODc0bDEuNzE0LTZIOC40NThMOCA2aDEyLjJsLS4wMDEuMDAxLjExNC4wMDZhMS41IDEuNSAwIDAxMS4yOTggMS45MDVsLTIgN0ExLjUgMS41IDAgMDExOC4xNjkgMTZIOC41MTNhMS41IDEuNSAwIDAxLTEuNDY3LTEuMTg2TDQuNzI4IDRIMi4zVjJoMi44MzJ6IiBmaWxsLXJ1bGU9ImV2ZW5vZGQiLz48L3N2Zz4=');background-repeat:no-repeat;-webkit-background-size:contain;background-size:contain;}</style><style data-emotion=\"css k59gj9\" data-s=\"\">.css-k59gj9{display:-webkit-box;display:-webkit-flex;display:-ms-flexbox;display:flex;-webkit-flex-direction:column;-ms-flex-direction:column;flex-direction:column;width:100%;}</style><style data-emotion=\"css\" data-s=\"\"></style><style data-emotion=\"css\" data-s=\"\"></style><style type=\"text/css\">.transform-component-module_wrapper__1_Fgj {\n",
       "  position: relative;\n",
       "  width: -moz-fit-content;\n",
       "  width: fit-content;\n",
       "  height: -moz-fit-content;\n",
       "  height: fit-content;\n",
       "  overflow: hidden;\n",
       "  -webkit-touch-callout: none; /* iOS Safari */\n",
       "  -webkit-user-select: none; /* Safari */\n",
       "  -khtml-user-select: none; /* Konqueror HTML */\n",
       "  -moz-user-select: none; /* Firefox */\n",
       "  -ms-user-select: none; /* Internet Explorer/Edge */\n",
       "  user-select: none;\n",
       "  margin: 0;\n",
       "  padding: 0;\n",
       "}\n",
       ".transform-component-module_content__2jYgh {\n",
       "  display: flex;\n",
       "  flex-wrap: wrap;\n",
       "  width: -moz-fit-content;\n",
       "  width: fit-content;\n",
       "  height: -moz-fit-content;\n",
       "  height: fit-content;\n",
       "  margin: 0;\n",
       "  padding: 0;\n",
       "  transform-origin: 0% 0%;\n",
       "}\n",
       ".transform-component-module_content__2jYgh img {\n",
       "  pointer-events: none;\n",
       "}\n",
       "</style></head><body><div data-reactroot=\"\" id=\"__next\"><div class=\"css-wk08mo\"><div class=\"css-fwupcd\"><main class=\"css-hqn261\"><article class=\"css-0\"><div class=\"css-gs34ha\"><section class=\"css-106e3on\"><div class=\"carousel-root\"><div class=\"carousel carousel-slider\" style=\"width:100%\"><div class=\"css-of933b\" disabled=\"\" type=\"prev\"></div><div class=\"slider-wrapper axis-horizontal\"><ul class=\"slider animated\" style=\"transform: translate3d(0px, 0px, 0px); transition-duration: 350ms;\"><li id=\"dummy\"><div style=\"width: 0px;\"></div></li><li class=\"slide selected previous\" id=\"0\"><div class=\"photoSwipeItem css-ur11hq\"><span style=\"box-sizing: border-box; display: block; overflow: hidden; width: initial; height: initial; background: none; opacity: 1; border: 0px; margin: 0px; padding: 0px; position: absolute; inset: 0px;\"><img class=\"css-sr2c7j\" data-nimg=\"fill\" decoding=\"async\" src=\"https://yaimg.yanolja.com/v5/2022/11/11/16/640/636e7194a1b3a7.88946404.jpg\" style=\"position: absolute; inset: 0px; box-sizing: border-box; padding: 0px; border: none; margin: auto; display: block; width: 0px; height: 0px; min-width: 100%; max-width: 100%; min-height: 100%; max-height: 100%;\"/></span></div></li><li class=\"slide\" id=\"1\"><div class=\"photoSwipeItem css-ur11hq\"><span style=\"box-sizing: border-box; display: block; overflow: hidden; width: initial; height: initial; background: none; opacity: 1; border: 0px; margin: 0px; padding: 0px; position: absolute; inset: 0px;\"><img class=\"css-sr2c7j\" data-nimg=\"fill\" decoding=\"async\" src=\"data:image/gif;base64,R0lGODlhAQABAIAAAAAAAP///yH5BAEAAAAALAAAAAABAAEAAAIBRAA7\" style=\"position: absolute; inset: 0px; box-sizing: border-box; padding: 0px; border: none; margin: auto; display: block; width: 0px; height: 0px; min-width: 100%; max-width: 100%; min-height: 100%; max-height: 100%;\"/><noscript></noscript></span></div></li><li class=\"slide\" id=\"2\"><div class=\"photoSwipeItem css-ur11hq\"><span style=\"box-sizing: border-box; display: block; overflow: hidden; width: initial; height: initial; background: none; opacity: 1; border: 0px; margin: 0px; padding: 0px; position: absolute; inset: 0px;\"><img class=\"css-sr2c7j\" data-nimg=\"fill\" decoding=\"async\" src=\"data:image/gif;base64,R0lGODlhAQABAIAAAAAAAP///yH5BAEAAAAALAAAAAABAAEAAAIBRAA7\" style=\"position: absolute; inset: 0px; box-sizing: border-box; padding: 0px; border: none; margin: auto; display: block; width: 0px; height: 0px; min-width: 100%; max-width: 100%; min-height: 100%; max-height: 100%;\"/><noscript></noscript></span></div></li></ul></div><div class=\"css-ln49wb\" type=\"next\"></div></div></div><div class=\"css-1a7sfmi\"><figcaption class=\"css-ef6rlt\"><figcaption class=\"css-1x7mkfg\"><p class=\"css-120f20r\">1 </p><p class=\"css-0\"> / 112</p><div class=\"css-1h544f0\"></div>전체 사진</figcaption></figcaption></div></section><div class=\"css-40tgm5\"><div class=\"css-17wo4sw\"></div><div class=\"css-1huuymp\"></div><div class=\"css-jyf8pg\"><div class=\"property-title css-fie5xt\">서울 명동루프탑호스텔</div><div class=\"css-69d871\"><div class=\"css-1btrnfr\" height=\"2rem\" width=\"2rem\"></div><div class=\"css-hhaq4l\"></div></div></div><div class=\"css-84qvow\"><div class=\"css-1c6fs9p\"><svg class=\"css-1chf7wc\" height=\"12\" viewbox=\"0 0 16 16\" width=\"12\" xmlns=\"http://www.w3.org/2000/svg\"><defs><lineargradient id=\"half\"><stop offset=\"50%\" stop-color=\"#fdbd00\"></stop><stop offset=\"0\" stop-color=\"#ffffff\"></stop></lineargradient></defs><path d=\"M8 0L5.363 5.029 0 6.112l3.734 4.191-.678 5.699L8 13.562l4.944 2.44-.677-5.699L16 6.113l-5.363-1.084z\" fill=\"#fdbd00\" fill-rule=\"evenodd\" stroke=\"#fdbd00\"></path></svg><svg class=\"css-1chf7wc\" height=\"12\" viewbox=\"0 0 16 16\" width=\"12\" xmlns=\"http://www.w3.org/2000/svg\"><defs><lineargradient id=\"half\"><stop offset=\"50%\" stop-color=\"#fdbd00\"></stop><stop offset=\"0\" stop-color=\"#ffffff\"></stop></lineargradient></defs><path d=\"M8 0L5.363 5.029 0 6.112l3.734 4.191-.678 5.699L8 13.562l4.944 2.44-.677-5.699L16 6.113l-5.363-1.084z\" fill=\"#fdbd00\" fill-rule=\"evenodd\" stroke=\"#fdbd00\"></path></svg><svg class=\"css-1chf7wc\" height=\"12\" viewbox=\"0 0 16 16\" width=\"12\" xmlns=\"http://www.w3.org/2000/svg\"><defs><lineargradient id=\"half\"><stop offset=\"50%\" stop-color=\"#fdbd00\"></stop><stop offset=\"0\" stop-color=\"#ffffff\"></stop></lineargradient></defs><path d=\"M8 0L5.363 5.029 0 6.112l3.734 4.191-.678 5.699L8 13.562l4.944 2.44-.677-5.699L16 6.113l-5.363-1.084z\" fill=\"#fdbd00\" fill-rule=\"evenodd\" stroke=\"#fdbd00\"></path></svg><svg class=\"css-1chf7wc\" height=\"12\" viewbox=\"0 0 16 16\" width=\"12\" xmlns=\"http://www.w3.org/2000/svg\"><defs><lineargradient id=\"half\"><stop offset=\"50%\" stop-color=\"#fdbd00\"></stop><stop offset=\"0\" stop-color=\"#ffffff\"></stop></lineargradient></defs><path d=\"M8 0L5.363 5.029 0 6.112l3.734 4.191-.678 5.699L8 13.562l4.944 2.44-.677-5.699L16 6.113l-5.363-1.084z\" fill=\"#fdbd00\" fill-rule=\"evenodd\" stroke=\"#fdbd00\"></path></svg><svg class=\"css-1chf7wc\" height=\"12\" viewbox=\"0 0 16 16\" width=\"12\" xmlns=\"http://www.w3.org/2000/svg\"><defs><lineargradient id=\"half\"><stop offset=\"50%\" stop-color=\"#fdbd00\"></stop><stop offset=\"0\" stop-color=\"#ffffff\"></stop></lineargradient></defs><path d=\"M8 0L5.363 5.029 0 6.112l3.734 4.191-.678 5.699L8 13.562l4.944 2.44-.677-5.699L16 6.113l-5.363-1.084z\" fill=\"url(#half)\" fill-rule=\"evenodd\" stroke=\"#fdbd00\"></path></svg></div><span class=\"css-1m0vwjv\">4.4</span><span class=\"css-id2b0n\">(<!-- -->11<!-- -->)</span><div class=\"css-1cbigu7\"></div></div><div class=\"css-1g1iyql\"><div class=\"css-rub8sb\"><img class=\"css-1jq3mm7\" src=\"data:image/svg+xml;base64,PHN2ZyB3aWR0aD0iMTYiIGhlaWdodD0iMTYiIHhtbG5zPSJodHRwOi8vd3d3LnczLm9yZy8yMDAwL3N2ZyI+PHBhdGggZD0iTTggMS4zMzNBNC42NjMgNC42NjMgMCAwMTEyLjY2NyA2QzEyLjY2NyA5LjUgOCAxNC42NjcgOCAxNC42NjdsLS4yNzUtLjMxNmMtMS0xLjE3My00LjM5Mi01LjM2Ny00LjM5Mi04LjM1MUE0LjY2MyA0LjY2MyAwIDAxOCAxLjMzM3ptMCAxLjMzNEEzLjMzNSAzLjMzNSAwIDAwNC42NjcgNmMwIDEuOSAxLjk0NiA0LjgwNyAzLjMzMyA2LjU4N2wuMjgtLjM2YzEuMzczLTEuOCAzLjA1My00LjQzIDMuMDUzLTYuMjI3QTMuMzM1IDMuMzM1IDAgMDA4IDIuNjY3em0wIDEuNjY2YTEuNjY3IDEuNjY3IDAgMTEwIDMuMzM0IDEuNjY3IDEuNjY3IDAgMDEwLTMuMzM0eiIgZmlsbD0iIzAxNTJDQyIgZmlsbC1ydWxlPSJldmVub2RkIi8+PC9zdmc+\"/><span class=\"css-1tv2ofu\">숙소 위치보기</span></div></div><div class=\"css-1gklba7\"><div><span><span class=\"css-7zhfhb\">주차불가</span></span></div></div></div><div class=\"css-1jzjw2w\"><div class=\"css-0\"><div><a class=\"benefitBanner css-1fiblgc\" href=\"https://www.yanolja.com/promotion/nol-promotion?eventcode=NOYHH\"><img alt=\"Banner\" class=\"css-ivt1js\" src=\"https://yaimg.yanolja.com/v5/2023/05/10/09/645b61894d2508.87397836.png\"/></a></div></div></div><div></div><div class=\"css-11sbcds\"><div class=\"css-1ju036a\"><h2 class=\"css-3todla\">인기시설 및 서비스</h2><span class=\"css-pjhe3k\">전체보기</span></div><section class=\"css-1u38mgg\"><ul class=\"css-17yp1q4\"><div class=\"css-t9n8kv\"><img alt=\"흡연구역 아이콘\" class=\"css-19xh2rn\" src=\"https://yaimg.yanolja.com/v5/2022/07/04/16/62c312d25b7881.48044241.png\"/><div class=\"css-9cehu5\">흡연구역</div></div><div class=\"css-t9n8kv\"><img alt=\"객실금연 아이콘\" class=\"css-19xh2rn\" src=\"https://yaimg.yanolja.com/v5/2022/07/04/16/62c312ab2a3a54.21397941.png\"/><div class=\"css-9cehu5\">객실금연</div></div></ul></section></div></div><div class=\"css-gs34ha\"><div><div class=\"css-1urbzj6\"><div class=\"css-1iizn56\"><button class=\"active css-msekco\"><a href=\"/places/10043042\">객실선택</a></button><button class=\"css-msekco\"><a href=\"/places/10043042\">위치/교통</a></button><button class=\"css-msekco\"><a href=\"/places/10043042\">안내/정책</a></button><button class=\"css-msekco\"><a href=\"/places/10043042\">시설/서비스</a></button><button class=\"css-msekco\"><a href=\"/places/10043042\">후기</a></button></div></div><div class=\"css-17c0wg8\"><div class=\"css-1iyoj2o\"><div class=\"filter-button-wrapper css-1tka3zs\"><article class=\"css-i3xioc\"><button class=\"css-shte7\"><img class=\"css-1jlrsog\" src=\"data:image/svg+xml;base64,PHN2ZyB3aWR0aD0iMTYiIGhlaWdodD0iMTYiIHhtbG5zPSJodHRwOi8vd3d3LnczLm9yZy8yMDAwL3N2ZyI+PHBhdGggZD0iTTEwIDEuMzMzaDEuMzMzdjEuMzM0aDEuMzM0QzEzLjQwMyAyLjY2NyAxNCAzLjI2NCAxNCA0djkuMzMzYzAgLjczNy0uNTk3IDEuMzM0LTEuMzMzIDEuMzM0SDMuMzMzQTEuMzMzIDEuMzMzIDAgMDEyIDEzLjMzM1Y0YzAtLjczNi41OTctMS4zMzMgMS4zMzMtMS4zMzNoMS4zMzRWMS4zMzNINnYxLjMzNGg0VjEuMzMzem0yLjY2NyA1LjMzNEgzLjMzM3Y2LjY2Nmg5LjMzNFY2LjY2N3pNNiA4djEuMzMzSDQuNjY3VjhINnptMi42NjcgMHYxLjMzM0g3LjMzM1Y4aDEuMzM0em0yLjY2NiAwdjEuMzMzSDEwVjhoMS4zMzN6bTEuMzM0LTRIMy4zMzN2MS4zMzNoOS4zMzRWNHoiIGZpbGwtcnVsZT0iZXZlbm9kZCIvPjwvc3ZnPg==\"/><span class=\"css-1cq8r2w\"><span class=\"\">05.11 (목)</span> ~ 05.12 (금)</span><span class=\"css-pjwrcq\">•</span><span>1박</span></button><button class=\"css-gskve1\"><img class=\"css-1jlrsog\" src=\"data:image/svg+xml;base64,PHN2ZyB3aWR0aD0iMTYiIGhlaWdodD0iMTYiIHhtbG5zPSJodHRwOi8vd3d3LnczLm9yZy8yMDAwL3N2ZyI+PHBhdGggZD0iTTggOWMxLjkyNyAwIDMuNjgxLjYwOCA0Ljk5IDEuNjAzbC4xNzYuMTM4Yy41MDYuMzc3LjgzNC45OC44MzQgMS42NTl2MS45MzNIMlYxMi40YzAtLjY3LjMxOC0xLjI2NC44MTEtMS42NDJsLS4xMzYuMTE2LjE1NS0uMTNDNC4xNTYgOS42NjYgNS45ODMgOSA4IDl6bTAgMS4zMzNjLTEuNzMgMC0zLjMyOS41NzctNC40NTkgMS41NTVhLjcyOC43MjggMCAwMC0uMjA4LjUxMnYuNmg5LjMzNHYtLjZjMC0uMjM2LS4xMS0uNDUtLjM0Mi0uNjI0LTEuMTIzLS45MTItMi42NjUtMS40NDMtNC4zMjUtMS40NDN6bTAtOC42NjZhMy4zMzIgMy4zMzIgMCAxMTAgNi42NjYgMy4zMzIgMy4zMzIgMCAxMTAtNi42NjZ6TTggM2MtMS4xIDAtMiAuOS0yIDJzLjkgMiAyIDIgMi0uOSAyLTItLjktMi0yLTJ6IiBmaWxsLXJ1bGU9ImV2ZW5vZGQiLz48L3N2Zz4=\"/><span class=\"css-0\">성인 2<!-- -->, </span><span class=\"css-7zhfhb\">유/아동 0</span></button></article></div><div class=\"css-vk38sd\"><div class=\"css-sxri4m\">해당 날짜의 모든 객실이 만실입니다.</div></div><div class=\"css-1xurgf7\"><div class=\"css-1ge5qy2\"><div><div><section class=\"css-8jspru\"><div class=\"carousel-root\"><div class=\"carousel carousel-slider\" style=\"width:100%\"><div class=\"css-1leztm9\" disabled=\"\" type=\"prev\"></div><div class=\"slider-wrapper axis-horizontal\"><ul class=\"slider animated\" style=\"-webkit-transform:translate3d(0,0,0);-ms-transform:translate3d(0,0,0);-o-transform:translate3d(0,0,0);transform:translate3d(0,0,0);-webkit-transition-duration:350ms;-moz-transition-duration:350ms;-o-transition-duration:350ms;transition-duration:350ms;-ms-transition-duration:350ms\"><li id=\"dummy\"><div style=\"width:0px\"></div></li><li class=\"slide selected previous\" id=\"0\"><div class=\"photoSwipeItem css-ur11hq\"><span style=\"box-sizing:border-box;display:block;overflow:hidden;width:initial;height:initial;background:none;opacity:1;border:0;margin:0;padding:0;position:absolute;top:0;left:0;bottom:0;right:0\"><img class=\"css-sr2c7j\" data-nimg=\"fill\" decoding=\"async\" src=\"https://yaimg.yanolja.com/v5/2022/11/11/16/640/636e71b7500753.63993436.jpg\" style=\"position:absolute;top:0;left:0;bottom:0;right:0;box-sizing:border-box;padding:0;border:none;margin:auto;display:block;width:0;height:0;min-width:100%;max-width:100%;min-height:100%;max-height:100%\"/></span></div></li></ul></div><div class=\"css-ava52d\" type=\"next\"></div></div></div><div class=\"css-1a7sfmi\"><figcaption class=\"css-1eldwbg\"><figcaption class=\"css-1x7mkfg\"><p class=\"css-120f20r\">1<!-- --> </p><p class=\"css-0\"> / <!-- -->4</p><div class=\"css-1h544f0\"></div>전체 사진</figcaption></figcaption></div></section></div></div><a href=\"/places/10043042/440033\"><div class=\"css-nm7tus\"><div class=\"css-1ux2lue\">디럭스 싱글룸+개인욕실</div><div class=\"css-s30ukx\">1인실</div></div><div class=\"css-adgfa3\"><div><span class=\"bold\">기준 1인 / 최대 1인</span><span>싱글 침대 1개</span><span>금연객실</span></div></div><div class=\"css-1ao9jo6\"><div class=\"css-1hajmkc\" disabled=\"\"><div class=\"css-uf1ume\"><div><div class=\"css-1sp0pr6\">숙박<span class=\"css-138cfhq\">(15:00~)</span></div></div><div><div class=\"css-1vczc1y\"><span class=\"css-17myvy9\"></span><span class=\"css-w3imtf\">50,000<span>원~</span></span></div></div></div><div class=\"css-lrteps\">판매완료</div></div></div><div class=\"css-7viu9x\"><button class=\"css-1tpx41z\">객실 상세보기</button></div></a></div><div class=\"css-1ge5qy2\"><div><div><section class=\"css-8jspru\"><div class=\"carousel-root\"><div class=\"carousel carousel-slider\" style=\"width:100%\"><div class=\"css-1leztm9\" disabled=\"\" type=\"prev\"></div><div class=\"slider-wrapper axis-horizontal\"><ul class=\"slider animated\" style=\"-webkit-transform:translate3d(0,0,0);-ms-transform:translate3d(0,0,0);-o-transform:translate3d(0,0,0);transform:translate3d(0,0,0);-webkit-transition-duration:350ms;-moz-transition-duration:350ms;-o-transition-duration:350ms;transition-duration:350ms;-ms-transition-duration:350ms\"><li id=\"dummy\"><div style=\"width:0px\"></div></li><li class=\"slide selected previous\" id=\"0\"><div class=\"photoSwipeItem css-ur11hq\"><span style=\"box-sizing:border-box;display:block;overflow:hidden;width:initial;height:initial;background:none;opacity:1;border:0;margin:0;padding:0;position:absolute;top:0;left:0;bottom:0;right:0\"><img class=\"css-sr2c7j\" data-nimg=\"fill\" decoding=\"async\" src=\"https://yaimg.yanolja.com/v5/2022/11/11/16/640/636e71973b9109.36382878.jpg\" style=\"position:absolute;top:0;left:0;bottom:0;right:0;box-sizing:border-box;padding:0;border:none;margin:auto;display:block;width:0;height:0;min-width:100%;max-width:100%;min-height:100%;max-height:100%\"/></span></div></li></ul></div><div class=\"css-ava52d\" type=\"next\"></div></div></div><div class=\"css-1a7sfmi\"><figcaption class=\"css-1eldwbg\"><figcaption class=\"css-1x7mkfg\"><p class=\"css-120f20r\">1<!-- --> </p><p class=\"css-0\"> / <!-- -->8</p><div class=\"css-1h544f0\"></div>전체 사진</figcaption></figcaption></div></section></div></div><a href=\"/places/10043042/455360\"><div class=\"css-nm7tus\"><div class=\"css-1ux2lue\">디럭스 더블룸 + 개인욕실-2</div></div><div class=\"css-adgfa3\"><div><span class=\"bold\">기준 2인 / 최대 2인</span><span>금연객실</span></div></div><div class=\"css-1ao9jo6\"><div class=\"css-1hajmkc\" disabled=\"\"><div class=\"css-uf1ume\"><div><div class=\"css-1sp0pr6\">숙박<span class=\"css-138cfhq\">(15:00~)</span></div></div><div><div class=\"css-1vczc1y\"><span class=\"css-17myvy9\"></span><span class=\"css-w3imtf\">60,000<span>원~</span></span></div></div></div><div class=\"css-lrteps\">판매완료</div></div></div><div class=\"css-7viu9x\"><button class=\"css-1tpx41z\">객실 상세보기</button></div></a></div><div class=\"css-1ge5qy2\"><div><div><section class=\"css-8jspru\"><div class=\"carousel-root\"><div class=\"carousel carousel-slider\" style=\"width:100%\"><div class=\"css-1leztm9\" disabled=\"\" type=\"prev\"></div><div class=\"slider-wrapper axis-horizontal\"><ul class=\"slider animated\" style=\"-webkit-transform:translate3d(0,0,0);-ms-transform:translate3d(0,0,0);-o-transform:translate3d(0,0,0);transform:translate3d(0,0,0);-webkit-transition-duration:350ms;-moz-transition-duration:350ms;-o-transition-duration:350ms;transition-duration:350ms;-ms-transition-duration:350ms\"><li id=\"dummy\"><div style=\"width:0px\"></div></li><li class=\"slide selected previous\" id=\"0\"><div class=\"photoSwipeItem css-ur11hq\"><span style=\"box-sizing:border-box;display:block;overflow:hidden;width:initial;height:initial;background:none;opacity:1;border:0;margin:0;padding:0;position:absolute;top:0;left:0;bottom:0;right:0\"><img class=\"css-sr2c7j\" data-nimg=\"fill\" decoding=\"async\" src=\"data:image/gif;base64,R0lGODlhAQABAIAAAAAAAP///yH5BAEAAAAALAAAAAABAAEAAAIBRAA7\" style=\"position:absolute;top:0;left:0;bottom:0;right:0;box-sizing:border-box;padding:0;border:none;margin:auto;display:block;width:0;height:0;min-width:100%;max-width:100%;min-height:100%;max-height:100%\"/><noscript><img class=\"css-sr2c7j\" data-nimg=\"fill\" decoding=\"async\" loading=\"lazy\" src=\"https://yaimg.yanolja.com/v5/2022/11/11/16/640/636e71ba5b9157.85609241.jpg\" style=\"position:absolute;top:0;left:0;bottom:0;right:0;box-sizing:border-box;padding:0;border:none;margin:auto;display:block;width:0;height:0;min-width:100%;max-width:100%;min-height:100%;max-height:100%\"/></noscript></span></div></li></ul></div><div class=\"css-ava52d\" type=\"next\"></div></div></div><div class=\"css-1a7sfmi\"><figcaption class=\"css-1eldwbg\"><figcaption class=\"css-1x7mkfg\"><p class=\"css-120f20r\">1<!-- --> </p><p class=\"css-0\"> / <!-- -->8</p><div class=\"css-1h544f0\"></div>전체 사진</figcaption></figcaption></div></section></div></div><a href=\"/places/10043042/440034\"><div class=\"css-nm7tus\"><div class=\"css-1ux2lue\">디럭스 더블룸 + 개인욕실</div></div><div class=\"css-adgfa3\"><div><span class=\"bold\">기준 2인 / 최대 2인</span><span>더블 침대 1개</span><span>금연객실</span></div></div><div class=\"css-1ao9jo6\"><div class=\"css-1hajmkc\" disabled=\"\"><div class=\"css-uf1ume\"><div><div class=\"css-1sp0pr6\">숙박<span class=\"css-138cfhq\">(15:00~)</span></div></div><div><div class=\"css-1vczc1y\"><span class=\"css-17myvy9\"></span><span class=\"css-w3imtf\">60,000<span>원~</span></span></div></div></div><div class=\"css-lrteps\">판매완료</div></div></div><div class=\"css-7viu9x\"><button class=\"css-1tpx41z\">객실 상세보기</button></div></a></div><div class=\"css-1ge5qy2\"><div><div><section class=\"css-8jspru\"><div class=\"carousel-root\"><div class=\"carousel carousel-slider\" style=\"width:100%\"><div class=\"css-1leztm9\" disabled=\"\" type=\"prev\"></div><div class=\"slider-wrapper axis-horizontal\"><ul class=\"slider animated\" style=\"-webkit-transform:translate3d(0,0,0);-ms-transform:translate3d(0,0,0);-o-transform:translate3d(0,0,0);transform:translate3d(0,0,0);-webkit-transition-duration:350ms;-moz-transition-duration:350ms;-o-transition-duration:350ms;transition-duration:350ms;-ms-transition-duration:350ms\"><li id=\"dummy\"><div style=\"width:0px\"></div></li><li class=\"slide selected previous\" id=\"0\"><div class=\"photoSwipeItem css-ur11hq\"><span style=\"box-sizing:border-box;display:block;overflow:hidden;width:initial;height:initial;background:none;opacity:1;border:0;margin:0;padding:0;position:absolute;top:0;left:0;bottom:0;right:0\"><img class=\"css-sr2c7j\" data-nimg=\"fill\" decoding=\"async\" src=\"data:image/gif;base64,R0lGODlhAQABAIAAAAAAAP///yH5BAEAAAAALAAAAAABAAEAAAIBRAA7\" style=\"position:absolute;top:0;left:0;bottom:0;right:0;box-sizing:border-box;padding:0;border:none;margin:auto;display:block;width:0;height:0;min-width:100%;max-width:100%;min-height:100%;max-height:100%\"/><noscript><img class=\"css-sr2c7j\" data-nimg=\"fill\" decoding=\"async\" loading=\"lazy\" src=\"https://yaimg.yanolja.com/v5/2022/11/11/16/640/636e71c14df687.61634760.jpg\" style=\"position:absolute;top:0;left:0;bottom:0;right:0;box-sizing:border-box;padding:0;border:none;margin:auto;display:block;width:0;height:0;min-width:100%;max-width:100%;min-height:100%;max-height:100%\"/></noscript></span></div></li></ul></div><div class=\"css-ava52d\" type=\"next\"></div></div></div><div class=\"css-1a7sfmi\"><figcaption class=\"css-1eldwbg\"><figcaption class=\"css-1x7mkfg\"><p class=\"css-120f20r\">1<!-- --> </p><p class=\"css-0\"> / <!-- -->4</p><div class=\"css-1h544f0\"></div>전체 사진</figcaption></figcaption></div></section></div></div><a href=\"/places/10043042/440035\"><div class=\"css-nm7tus\"><div class=\"css-1ux2lue\">디럭스 트윈룸 + 개인욕실</div></div><div class=\"css-adgfa3\"><div><span class=\"bold\">기준 2인 / 최대 2인</span><span>금연객실</span></div></div><div class=\"css-1ao9jo6\"><div class=\"css-1hajmkc\" disabled=\"\"><div class=\"css-uf1ume\"><div><div class=\"css-1sp0pr6\">숙박<span class=\"css-138cfhq\">(15:00~)</span></div></div><div><div class=\"css-1vczc1y\"><span class=\"css-17myvy9\"></span><span class=\"css-w3imtf\">55,000<span>원~</span></span></div></div></div><div class=\"css-lrteps\">판매완료</div></div></div><div class=\"css-7viu9x\"><button class=\"css-1tpx41z\">객실 상세보기</button></div></a></div><div class=\"css-1ge5qy2\"><div><div><section class=\"css-8jspru\"><div class=\"carousel-root\"><div class=\"carousel carousel-slider\" style=\"width:100%\"><div class=\"css-1leztm9\" disabled=\"\" type=\"prev\"></div><div class=\"slider-wrapper axis-horizontal\"><ul class=\"slider animated\" style=\"-webkit-transform:translate3d(0,0,0);-ms-transform:translate3d(0,0,0);-o-transform:translate3d(0,0,0);transform:translate3d(0,0,0);-webkit-transition-duration:350ms;-moz-transition-duration:350ms;-o-transition-duration:350ms;transition-duration:350ms;-ms-transition-duration:350ms\"><li id=\"dummy\"><div style=\"width:0px\"></div></li><li class=\"slide selected previous\" id=\"0\"><div class=\"photoSwipeItem css-ur11hq\"><span style=\"box-sizing:border-box;display:block;overflow:hidden;width:initial;height:initial;background:none;opacity:1;border:0;margin:0;padding:0;position:absolute;top:0;left:0;bottom:0;right:0\"><img class=\"css-sr2c7j\" data-nimg=\"fill\" decoding=\"async\" src=\"data:image/gif;base64,R0lGODlhAQABAIAAAAAAAP///yH5BAEAAAAALAAAAAABAAEAAAIBRAA7\" style=\"position:absolute;top:0;left:0;bottom:0;right:0;box-sizing:border-box;padding:0;border:none;margin:auto;display:block;width:0;height:0;min-width:100%;max-width:100%;min-height:100%;max-height:100%\"/><noscript><img class=\"css-sr2c7j\" data-nimg=\"fill\" decoding=\"async\" loading=\"lazy\" src=\"https://yaimg.yanolja.com/v5/2022/11/11/16/640/636e71b9322679.74256061.jpg\" style=\"position:absolute;top:0;left:0;bottom:0;right:0;box-sizing:border-box;padding:0;border:none;margin:auto;display:block;width:0;height:0;min-width:100%;max-width:100%;min-height:100%;max-height:100%\"/></noscript></span></div></li></ul></div><div class=\"css-ava52d\" type=\"next\"></div></div></div><div class=\"css-1a7sfmi\"><figcaption class=\"css-1eldwbg\"><figcaption class=\"css-1x7mkfg\"><p class=\"css-120f20r\">1<!-- --> </p><p class=\"css-0\"> / <!-- -->8</p><div class=\"css-1h544f0\"></div>전체 사진</figcaption></figcaption></div></section></div></div><a href=\"/places/10043042/455361\"><div class=\"css-nm7tus\"><div class=\"css-1ux2lue\">디럭스 쿼드러플룸 + 개인욕실-2</div><div class=\"css-s30ukx\">4인실</div></div><div class=\"css-adgfa3\"><div><span class=\"bold\">기준 4인 / 최대 4인</span><span>금연객실</span></div></div><div class=\"css-1ao9jo6\"><div class=\"css-1hajmkc\" disabled=\"\"><div class=\"css-uf1ume\"><div><div class=\"css-1sp0pr6\">숙박<span class=\"css-138cfhq\">(15:00~)</span></div></div><div><div class=\"css-1vczc1y\"><span class=\"css-17myvy9\"></span><span class=\"css-w3imtf\">100,000<span>원~</span></span></div></div></div><div class=\"css-lrteps\">판매완료</div></div></div><div class=\"css-7viu9x\"><button class=\"css-1tpx41z\">객실 상세보기</button></div></a></div><div class=\"css-1ge5qy2\"><div><div><section class=\"css-8jspru\"><div class=\"carousel-root\"><div class=\"carousel carousel-slider\" style=\"width:100%\"><div class=\"css-1leztm9\" disabled=\"\" type=\"prev\"></div><div class=\"slider-wrapper axis-horizontal\"><ul class=\"slider animated\" style=\"-webkit-transform:translate3d(0,0,0);-ms-transform:translate3d(0,0,0);-o-transform:translate3d(0,0,0);transform:translate3d(0,0,0);-webkit-transition-duration:350ms;-moz-transition-duration:350ms;-o-transition-duration:350ms;transition-duration:350ms;-ms-transition-duration:350ms\"><li id=\"dummy\"><div style=\"width:0px\"></div></li><li class=\"slide selected previous\" id=\"0\"><div class=\"photoSwipeItem css-ur11hq\"><span style=\"box-sizing:border-box;display:block;overflow:hidden;width:initial;height:initial;background:none;opacity:1;border:0;margin:0;padding:0;position:absolute;top:0;left:0;bottom:0;right:0\"><img class=\"css-sr2c7j\" data-nimg=\"fill\" decoding=\"async\" src=\"data:image/gif;base64,R0lGODlhAQABAIAAAAAAAP///yH5BAEAAAAALAAAAAABAAEAAAIBRAA7\" style=\"position:absolute;top:0;left:0;bottom:0;right:0;box-sizing:border-box;padding:0;border:none;margin:auto;display:block;width:0;height:0;min-width:100%;max-width:100%;min-height:100%;max-height:100%\"/><noscript><img class=\"css-sr2c7j\" data-nimg=\"fill\" decoding=\"async\" loading=\"lazy\" src=\"https://yaimg.yanolja.com/v5/2022/11/11/16/640/636e71ad4c18a6.36385063.jpg\" style=\"position:absolute;top:0;left:0;bottom:0;right:0;box-sizing:border-box;padding:0;border:none;margin:auto;display:block;width:0;height:0;min-width:100%;max-width:100%;min-height:100%;max-height:100%\"/></noscript></span></div></li></ul></div><div class=\"css-ava52d\" type=\"next\"></div></div></div><div class=\"css-1a7sfmi\"><figcaption class=\"css-1eldwbg\"><figcaption class=\"css-1x7mkfg\"><p class=\"css-120f20r\">1<!-- --> </p><p class=\"css-0\"> / <!-- -->8</p><div class=\"css-1h544f0\"></div>전체 사진</figcaption></figcaption></div></section></div></div><a href=\"/places/10043042/440037\"><div class=\"css-nm7tus\"><div class=\"css-1ux2lue\">디럭스 쿼드러플룸 + 개인욕실</div><div class=\"css-s30ukx\">4인실</div></div><div class=\"css-adgfa3\"><div><span class=\"bold\">기준 4인 / 최대 4인</span><span>금연객실</span></div></div><div class=\"css-1ao9jo6\"><div class=\"css-1hajmkc\" disabled=\"\"><div class=\"css-uf1ume\"><div><div class=\"css-1sp0pr6\">숙박<span class=\"css-138cfhq\">(15:00~)</span></div></div><div><div class=\"css-1vczc1y\"><span class=\"css-17myvy9\"></span><span class=\"css-w3imtf\">100,000<span>원~</span></span></div></div></div><div class=\"css-lrteps\">판매완료</div></div></div><div class=\"css-7viu9x\"><button class=\"css-1tpx41z\">객실 상세보기</button></div></a></div><div class=\"css-1ge5qy2\"><div><div><section class=\"css-8jspru\"><div class=\"carousel-root\"><div class=\"carousel carousel-slider\" style=\"width:100%\"><div class=\"css-1leztm9\" disabled=\"\" type=\"prev\"></div><div class=\"slider-wrapper axis-horizontal\"><ul class=\"slider animated\" style=\"-webkit-transform:translate3d(0,0,0);-ms-transform:translate3d(0,0,0);-o-transform:translate3d(0,0,0);transform:translate3d(0,0,0);-webkit-transition-duration:350ms;-moz-transition-duration:350ms;-o-transition-duration:350ms;transition-duration:350ms;-ms-transition-duration:350ms\"><li id=\"dummy\"><div style=\"width:0px\"></div></li><li class=\"slide selected previous\" id=\"0\"><div class=\"photoSwipeItem css-ur11hq\"><span style=\"box-sizing:border-box;display:block;overflow:hidden;width:initial;height:initial;background:none;opacity:1;border:0;margin:0;padding:0;position:absolute;top:0;left:0;bottom:0;right:0\"><img class=\"css-sr2c7j\" data-nimg=\"fill\" decoding=\"async\" src=\"data:image/gif;base64,R0lGODlhAQABAIAAAAAAAP///yH5BAEAAAAALAAAAAABAAEAAAIBRAA7\" style=\"position:absolute;top:0;left:0;bottom:0;right:0;box-sizing:border-box;padding:0;border:none;margin:auto;display:block;width:0;height:0;min-width:100%;max-width:100%;min-height:100%;max-height:100%\"/><noscript><img class=\"css-sr2c7j\" data-nimg=\"fill\" decoding=\"async\" loading=\"lazy\" src=\"https://yaimg.yanolja.com/v5/2022/11/11/16/640/636e71b42fac59.72027215.jpg\" style=\"position:absolute;top:0;left:0;bottom:0;right:0;box-sizing:border-box;padding:0;border:none;margin:auto;display:block;width:0;height:0;min-width:100%;max-width:100%;min-height:100%;max-height:100%\"/></noscript></span></div></li></ul></div><div class=\"css-ava52d\" type=\"next\"></div></div></div><div class=\"css-1a7sfmi\"><figcaption class=\"css-1eldwbg\"><figcaption class=\"css-1x7mkfg\"><p class=\"css-120f20r\">1<!-- --> </p><p class=\"css-0\"> / <!-- -->8</p><div class=\"css-1h544f0\"></div>전체 사진</figcaption></figcaption></div></section></div></div><a href=\"/places/10043042/440038\"><div class=\"css-nm7tus\"><div class=\"css-1ux2lue\">패밀리룸 + 개인욕실</div><div class=\"css-s30ukx\">6인실</div></div><div class=\"css-adgfa3\"><div><span class=\"bold\">기준 6인 / 최대 6인</span><span>금연객실</span></div></div><div class=\"css-1ao9jo6\"><div class=\"css-1hajmkc\" disabled=\"\"><div class=\"css-uf1ume\"><div><div class=\"css-1sp0pr6\">숙박<span class=\"css-138cfhq\">(15:00~)</span></div></div><div><div class=\"css-1vczc1y\"><span class=\"css-17myvy9\"></span><span class=\"css-w3imtf\">120,000<span>원~</span></span></div></div></div><div class=\"css-lrteps\">판매완료</div></div></div><div class=\"css-7viu9x\"><button class=\"css-1tpx41z\">객실 상세보기</button></div></a></div><div class=\"css-1ge5qy2\"><div><div><section class=\"css-8jspru\"><div class=\"carousel-root\"><div class=\"carousel carousel-slider\" style=\"width:100%\"><div class=\"css-1leztm9\" disabled=\"\" type=\"prev\"></div><div class=\"slider-wrapper axis-horizontal\"><ul class=\"slider animated\" style=\"-webkit-transform:translate3d(0,0,0);-ms-transform:translate3d(0,0,0);-o-transform:translate3d(0,0,0);transform:translate3d(0,0,0);-webkit-transition-duration:350ms;-moz-transition-duration:350ms;-o-transition-duration:350ms;transition-duration:350ms;-ms-transition-duration:350ms\"><li id=\"dummy\"><div style=\"width:0px\"></div></li><li class=\"slide selected previous\" id=\"0\"><div class=\"photoSwipeItem css-ur11hq\"><span style=\"box-sizing:border-box;display:block;overflow:hidden;width:initial;height:initial;background:none;opacity:1;border:0;margin:0;padding:0;position:absolute;top:0;left:0;bottom:0;right:0\"><img class=\"css-sr2c7j\" data-nimg=\"fill\" decoding=\"async\" src=\"data:image/gif;base64,R0lGODlhAQABAIAAAAAAAP///yH5BAEAAAAALAAAAAABAAEAAAIBRAA7\" style=\"position:absolute;top:0;left:0;bottom:0;right:0;box-sizing:border-box;padding:0;border:none;margin:auto;display:block;width:0;height:0;min-width:100%;max-width:100%;min-height:100%;max-height:100%\"/><noscript><img class=\"css-sr2c7j\" data-nimg=\"fill\" decoding=\"async\" loading=\"lazy\" src=\"https://yaimg.yanolja.com/v5/2022/11/11/16/640/636e71a93b6716.57453891.jpg\" style=\"position:absolute;top:0;left:0;bottom:0;right:0;box-sizing:border-box;padding:0;border:none;margin:auto;display:block;width:0;height:0;min-width:100%;max-width:100%;min-height:100%;max-height:100%\"/></noscript></span></div></li></ul></div><div class=\"css-ava52d\" type=\"next\"></div></div></div><div class=\"css-1a7sfmi\"><figcaption class=\"css-1eldwbg\"><figcaption class=\"css-1x7mkfg\"><p class=\"css-120f20r\">1<!-- --> </p><p class=\"css-0\"> / <!-- -->8</p><div class=\"css-1h544f0\"></div>전체 사진</figcaption></figcaption></div></section></div></div><a href=\"/places/10043042/440039\"><div class=\"css-nm7tus\"><div class=\"css-1ux2lue\">디럭스 패밀리룸 + 개인욕실</div><div class=\"css-s30ukx\">8인실</div></div><div class=\"css-adgfa3\"><div><span class=\"bold\">기준 8인 / 최대 8인</span><span>금연객실</span></div></div><div class=\"css-1ao9jo6\"><div class=\"css-1hajmkc\" disabled=\"\"><div class=\"css-uf1ume\"><div><div class=\"css-1sp0pr6\">숙박<span class=\"css-138cfhq\">(15:00~)</span></div></div><div><div class=\"css-1vczc1y\"><span class=\"css-17myvy9\"></span><span class=\"css-w3imtf\">140,000<span>원~</span></span></div></div></div><div class=\"css-lrteps\">판매완료</div></div></div><div class=\"css-7viu9x\"><button class=\"css-1tpx41z\">객실 상세보기</button></div></a></div><div class=\"css-1ge5qy2\"><div><div><section class=\"css-8jspru\"><div class=\"carousel-root\"><div class=\"carousel carousel-slider\" style=\"width:100%\"><div class=\"css-1leztm9\" disabled=\"\" type=\"prev\"></div><div class=\"slider-wrapper axis-horizontal\"><ul class=\"slider animated\" style=\"-webkit-transform:translate3d(0,0,0);-ms-transform:translate3d(0,0,0);-o-transform:translate3d(0,0,0);transform:translate3d(0,0,0);-webkit-transition-duration:350ms;-moz-transition-duration:350ms;-o-transition-duration:350ms;transition-duration:350ms;-ms-transition-duration:350ms\"><li id=\"dummy\"><div style=\"width:0px\"></div></li><li class=\"slide selected previous\" id=\"0\"><div class=\"photoSwipeItem css-ur11hq\"><span style=\"box-sizing:border-box;display:block;overflow:hidden;width:initial;height:initial;background:none;opacity:1;border:0;margin:0;padding:0;position:absolute;top:0;left:0;bottom:0;right:0\"><img class=\"css-sr2c7j\" data-nimg=\"fill\" decoding=\"async\" src=\"data:image/gif;base64,R0lGODlhAQABAIAAAAAAAP///yH5BAEAAAAALAAAAAABAAEAAAIBRAA7\" style=\"position:absolute;top:0;left:0;bottom:0;right:0;box-sizing:border-box;padding:0;border:none;margin:auto;display:block;width:0;height:0;min-width:100%;max-width:100%;min-height:100%;max-height:100%\"/><noscript><img class=\"css-sr2c7j\" data-nimg=\"fill\" decoding=\"async\" loading=\"lazy\" src=\"https://yaimg.yanolja.com/v5/2022/11/11/16/640/636e71c33b8b24.43963365.jpg\" style=\"position:absolute;top:0;left:0;bottom:0;right:0;box-sizing:border-box;padding:0;border:none;margin:auto;display:block;width:0;height:0;min-width:100%;max-width:100%;min-height:100%;max-height:100%\"/></noscript></span></div></li></ul></div><div class=\"css-ava52d\" type=\"next\"></div></div></div><div class=\"css-1a7sfmi\"><figcaption class=\"css-1eldwbg\"><figcaption class=\"css-1x7mkfg\"><p class=\"css-120f20r\">1<!-- --> </p><p class=\"css-0\"> / <!-- -->5</p><div class=\"css-1h544f0\"></div>전체 사진</figcaption></figcaption></div></section></div></div><a href=\"/places/10043042/440040\"><div class=\"css-nm7tus\"><div class=\"css-1ux2lue\">디럭스 대형패밀리룸 +개인욕실</div><div class=\"css-s30ukx\">10인실</div></div><div class=\"css-adgfa3\"><div><span class=\"bold\">기준 10인 / 최대 10인</span><span>금연객실</span></div></div><div class=\"css-1ao9jo6\"><div class=\"css-1hajmkc\" disabled=\"\"><div class=\"css-uf1ume\"><div><div class=\"css-1sp0pr6\">숙박<span class=\"css-138cfhq\">(15:00~)</span></div></div><div><div class=\"css-1vczc1y\"><span class=\"css-17myvy9\"></span><span class=\"css-w3imtf\">160,000<span>원~</span></span></div></div></div><div class=\"css-lrteps\">판매완료</div></div></div><div class=\"css-7viu9x\"><button class=\"css-1tpx41z\">객실 상세보기</button></div></a></div><div class=\"css-1ge5qy2\"><div><div><section class=\"css-8jspru\"><div class=\"carousel-root\"><div class=\"carousel carousel-slider\" style=\"width:100%\"><div class=\"css-1leztm9\" disabled=\"\" type=\"prev\"></div><div class=\"slider-wrapper axis-horizontal\"><ul class=\"slider animated\" style=\"-webkit-transform:translate3d(0,0,0);-ms-transform:translate3d(0,0,0);-o-transform:translate3d(0,0,0);transform:translate3d(0,0,0);-webkit-transition-duration:350ms;-moz-transition-duration:350ms;-o-transition-duration:350ms;transition-duration:350ms;-ms-transition-duration:350ms\"><li id=\"dummy\"><div style=\"width:0px\"></div></li><li class=\"slide selected previous\" id=\"0\"><div class=\"photoSwipeItem css-ur11hq\"><span style=\"box-sizing:border-box;display:block;overflow:hidden;width:initial;height:initial;background:none;opacity:1;border:0;margin:0;padding:0;position:absolute;top:0;left:0;bottom:0;right:0\"><img class=\"css-sr2c7j\" data-nimg=\"fill\" decoding=\"async\" src=\"data:image/gif;base64,R0lGODlhAQABAIAAAAAAAP///yH5BAEAAAAALAAAAAABAAEAAAIBRAA7\" style=\"position:absolute;top:0;left:0;bottom:0;right:0;box-sizing:border-box;padding:0;border:none;margin:auto;display:block;width:0;height:0;min-width:100%;max-width:100%;min-height:100%;max-height:100%\"/><noscript><img class=\"css-sr2c7j\" data-nimg=\"fill\" decoding=\"async\" loading=\"lazy\" src=\"https://yaimg.yanolja.com/v5/2022/11/11/16/640/636e71b2305a57.80217396.jpg\" style=\"position:absolute;top:0;left:0;bottom:0;right:0;box-sizing:border-box;padding:0;border:none;margin:auto;display:block;width:0;height:0;min-width:100%;max-width:100%;min-height:100%;max-height:100%\"/></noscript></span></div></li></ul></div><div class=\"css-ava52d\" type=\"next\"></div></div></div><div class=\"css-1a7sfmi\"><figcaption class=\"css-1eldwbg\"><figcaption class=\"css-1x7mkfg\"><p class=\"css-120f20r\">1<!-- --> </p><p class=\"css-0\"> / <!-- -->2</p><div class=\"css-1h544f0\"></div>전체 사진</figcaption></figcaption></div></section></div></div><a href=\"/places/10043042/440041\"><div class=\"css-nm7tus\"><div class=\"css-1ux2lue\">더블룸 + 공용욕실</div></div><div class=\"css-adgfa3\"><div><span class=\"bold\">기준 2인 / 최대 2인</span><span>더블 침대 1개</span><span>금연객실</span></div></div><div class=\"css-1ao9jo6\"><div class=\"css-1hajmkc\" disabled=\"\"><div class=\"css-uf1ume\"><div><div class=\"css-1sp0pr6\">숙박<span class=\"css-138cfhq\">(15:00~)</span></div></div><div><div class=\"css-1vczc1y\"><span class=\"css-17myvy9\"></span><span class=\"css-w3imtf\">55,000<span>원~</span></span></div></div></div><div class=\"css-lrteps\">판매완료</div></div></div><div class=\"css-7viu9x\"><button class=\"css-1tpx41z\">객실 상세보기</button></div></a></div><div class=\"css-1ge5qy2\"><div><div><section class=\"css-8jspru\"><div class=\"carousel-root\"><div class=\"carousel carousel-slider\" style=\"width:100%\"><div class=\"css-1leztm9\" disabled=\"\" type=\"prev\"></div><div class=\"slider-wrapper axis-horizontal\"><ul class=\"slider animated\" style=\"-webkit-transform:translate3d(0,0,0);-ms-transform:translate3d(0,0,0);-o-transform:translate3d(0,0,0);transform:translate3d(0,0,0);-webkit-transition-duration:350ms;-moz-transition-duration:350ms;-o-transition-duration:350ms;transition-duration:350ms;-ms-transition-duration:350ms\"><li id=\"dummy\"><div style=\"width:0px\"></div></li><li class=\"slide selected previous\" id=\"0\"><div class=\"photoSwipeItem css-ur11hq\"><span style=\"box-sizing:border-box;display:block;overflow:hidden;width:initial;height:initial;background:none;opacity:1;border:0;margin:0;padding:0;position:absolute;top:0;left:0;bottom:0;right:0\"><img class=\"css-sr2c7j\" data-nimg=\"fill\" decoding=\"async\" src=\"data:image/gif;base64,R0lGODlhAQABAIAAAAAAAP///yH5BAEAAAAALAAAAAABAAEAAAIBRAA7\" style=\"position:absolute;top:0;left:0;bottom:0;right:0;box-sizing:border-box;padding:0;border:none;margin:auto;display:block;width:0;height:0;min-width:100%;max-width:100%;min-height:100%;max-height:100%\"/><noscript><img class=\"css-sr2c7j\" data-nimg=\"fill\" decoding=\"async\" loading=\"lazy\" src=\"https://yaimg.yanolja.com/v5/2022/11/11/16/640/636e71c4570cd2.88650669.jpg\" style=\"position:absolute;top:0;left:0;bottom:0;right:0;box-sizing:border-box;padding:0;border:none;margin:auto;display:block;width:0;height:0;min-width:100%;max-width:100%;min-height:100%;max-height:100%\"/></noscript></span></div></li></ul></div><div class=\"css-ava52d\" type=\"next\"></div></div></div><div class=\"css-1a7sfmi\"><figcaption class=\"css-1eldwbg\"><figcaption class=\"css-1x7mkfg\"><p class=\"css-120f20r\">1<!-- --> </p><p class=\"css-0\"> / <!-- -->5</p><div class=\"css-1h544f0\"></div>전체 사진</figcaption></figcaption></div></section></div></div><a href=\"/places/10043042/440042\"><div class=\"css-nm7tus\"><div class=\"css-1ux2lue\">4인실 + 공용욕실</div></div><div class=\"css-adgfa3\"><div><span class=\"bold\">기준 3인 / 최대 3인</span><span>금연객실</span></div></div><div class=\"css-1ao9jo6\"><div class=\"css-1hajmkc\" disabled=\"\"><div class=\"css-uf1ume\"><div><div class=\"css-1sp0pr6\">숙박<span class=\"css-138cfhq\">(15:00~)</span></div></div><div><div class=\"css-1vczc1y\"><span class=\"css-17myvy9\"></span><span class=\"css-w3imtf\">95,000<span>원~</span></span></div></div></div><div class=\"css-lrteps\">판매완료</div></div></div><div class=\"css-7viu9x\"><button class=\"css-1tpx41z\">객실 상세보기</button></div></a></div></div></div></div></div></div><div class=\"css-gs34ha\"><div class=\"css-113k7bv\"><div class=\"css-1tkw7tm\"><div class=\"css-1830rfa\" data-testid=\"content\"><div class=\"css-16yea13\">판매자 정보</div><div class=\"css-1d3lw0b\" data-testid=\"sub-content\"></div></div><div class=\"css-1ovurkh\" data-testid=\"buttons\"><div class=\"css-uoj5nc\"></div></div></div></div></div><div class=\"css-ipnykb\"><button class=\"css-etwf3d\"></button></div></article></main><footer class=\"css-1ago99h\"><footer class=\"css-7oya2k\"><div class=\"css-jycldt\"><img alt=\"yanolja\" src=\"data:image/svg+xml;base64,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\"/></div><div class=\"css-6qhe46\"><p>객실사진의 경우 객실별 대표사진으로 실제 배정받는 객실과 상이할 수 있습니다.</p><p>(주)야놀자는 통신판매 중개자로서 통신판매의 당사자가 아니며 상품의 예약, 이용 및 환불 등과 관련한 의무와 책임은 각 판매자에게 있습니다.</p><p>숙박업소는 법적으로 청소년 고용과 혼숙이 금지되어 있습니다. 따라서 청소년 혼숙으로 인한 입실거부는 정당하며, 이에 대한 법적 제재는 이용 당사자가 책임져야 합니다.</p></div></footer></footer><header class=\"css-67bo2r\"><div class=\"css-r18btq\" id=\"property-header\"><div class=\"css-sevc8p\"><div class=\"css-1v6k278\"><img class=\"css-1i028dt\" data-testid=\"back-button\" draggable=\"false\" src=\"data:image/svg+xml,%3csvg xmlns='http://www.w3.org/2000/svg' width='24' height='24' viewBox='0 0 24 24'%3e %3cg fill='none' fill-rule='evenodd'%3e %3cg fill='black'%3e %3cpath d='M17.51 3.87L15.73 2.1 5.84 12 15.74 21.9 17.51 20.13 9.38 12z' transform='translate(-20 -12) translate(20 12)'/%3e %3c/g%3e %3c/g%3e%3c/svg%3e\"/><div class=\"css-17e7ihx\" data-testid=\"content\"><div class=\"css-z0igb2\"><div class=\"css-16c1h8w\"></div></div></div><div class=\"css-4j64ic\" data-testid=\"buttons\"><div class=\"css-pkkko5\"><div class=\"css-1q9xhqm\"></div></div><div class=\"css-aodoy9\"><div class=\"css-1ai9mni\"></div></div></div></div><div class=\"css-0\"></div></div><div class=\"css-k59gj9\" id=\"property-sticky-header\"><div id=\"property-sticky-header__portal\"></div><div id=\"property-sticky-header__room-selector\"></div></div></div></header></div></div></div><script crossorigin=\"anonymous\" id=\"__NEXT_DATA__\" type=\"application/json\">{\"props\":{\"pageProps\":{\"globalState\":{\"deviceType\":\"pc\",\"cognitoId\":\"ap-northeast-2:a1403c3d-6899-489c-b01e-057f0cb6c1b0\",\"isKakaoEmbedded\":false,\"isKakaoChannel\":false,\"isAvailableSmartBanner\":false,\"referrer\":\"/pension/r-900270?advert=AREA\\u0026topAdvertiseMore=1\",\"auth\":{\"loginType\":\"not login\"},\"kakaoAppKey\":\"3cf7cfbaf7ad7394f7d53b01eea4bdd6\",\"naverMapApiKey\":\"gbtjg2bddr\",\"cartUrl\":\"https://platform-site.yanolja.com/cart\",\"homeUrl\":\"https://www.yanolja.com/\",\"policyUrl\":\"https://policy.yanolja.com/\",\"today\":\"2023-05-11\",\"browserState\":{\"name\":\"Chrome\",\"version\":\"113.0.0.0\",\"major\":\"113\"}},\"meta\":{\"place_type\":\"places\",\"place_no\":\"10043042\",\"deviceType\":\"etc\",\"homeUrl\":\"https://www.yanolja.com/\",\"cartUrl\":\"https://platform-site.yanolja.com/cart\",\"policyUrl\":\"https://policy.yanolja.com/\",\"adultPax\":2,\"childrenAges\":[],\"userIdentifier\":\"\"},\"checkInDate\":\"05.11(목)\",\"checkOutDate\":\"05.12(금)\",\"isDateFilterChanged\":false,\"isGuestFilterChanged\":false,\"pageMeta\":{\"title\":\"서울 명동루프탑호스텔 사진, 가격, 위치소개 | 야놀자\",\"description\":\"펜션, 풀빌라도 야놀자에서 초특가검색, 바로예약! 서울 명동루프탑호스텔 서울특별시 중구 퇴계로20길 47 2층\",\"keywords\":\"서울 명동루프탑호스텔 할인, 서울 명동루프탑호스텔 예약, 서울 명동루프탑호스텔 가격, 서울 명동루프탑호스텔 위치, 야놀자, 펜션예약\",\"image\":\"https://yaimg.yanolja.com/v5/2022/11/11/16/636e7194a1b3a7.88946404.jpg\",\"canonical\":\"https://place-site.yanolja.com/places/10043042\"},\"recoilState\":{\"checkInDate\":\"2023-05-11\",\"checkOutDate\":\"2023-05-12\",\"adultPax\":2,\"childrenAges\":[],\"gallery\":{\"propertyId\":10043042,\"name\":\"서울 명동루프탑호스텔\",\"gallery\":{\"thumbnail\":\"https://yaimg.yanolja.com/v5/2022/11/11/16/640/636e7194a1b3a7.88946404.jpg\",\"property\":{\"thumbnail\":\"https://yaimg.yanolja.com/v5/2022/11/11/16/640/636e719057c6b8.93001323.jpg\",\"representations\":[{\"category\":\"REPRESENTATION\",\"photoURL\":\"https://yaimg.yanolja.com/v5/2022/11/11/16/640/636e7194a1b3a7.88946404.jpg\",\"bigSizePhotoURL\":\"https://yaimg.yanolja.com/v5/2022/11/11/16/1280/636e7194a1b3a7.88946404.jpg\",\"description\":\"\"},{\"category\":\"REPRESENTATION\",\"photoURL\":\"https://yaimg.yanolja.com/v5/2022/11/11/16/640/636e71954bcaf4.82748896.jpg\",\"bigSizePhotoURL\":\"https://yaimg.yanolja.com/v5/2022/11/11/16/1280/636e71954bcaf4.82748896.jpg\",\"description\":\"\"},{\"category\":\"REPRESENTATION\",\"photoURL\":\"https://yaimg.yanolja.com/v5/2022/11/11/16/640/636e7195d2ccf2.66894369.jpg\",\"bigSizePhotoURL\":\"https://yaimg.yanolja.com/v5/2022/11/11/16/1280/636e7195d2ccf2.66894369.jpg\",\"description\":\"\"},{\"category\":\"REPRESENTATION\",\"photoURL\":\"https://yaimg.yanolja.com/v5/2022/11/11/16/640/636e71966fb9a7.84665699.jpg\",\"bigSizePhotoURL\":\"https://yaimg.yanolja.com/v5/2022/11/11/16/1280/636e71966fb9a7.84665699.jpg\",\"description\":\"\"},{\"category\":\"REPRESENTATION\",\"photoURL\":\"https://yaimg.yanolja.com/v5/2022/11/11/16/640/636e7196eb2355.53920671.jpg\",\"bigSizePhotoURL\":\"https://yaimg.yanolja.com/v5/2022/11/11/16/1280/636e7196eb2355.53920671.jpg\",\"description\":\"\"},{\"category\":\"REPRESENTATION\",\"photoURL\":\"https://yaimg.yanolja.com/v5/2022/11/11/16/640/636e7197856b67.46713751.jpg\",\"bigSizePhotoURL\":\"https://yaimg.yanolja.com/v5/2022/11/11/16/1280/636e7197856b67.46713751.jpg\",\"description\":\"\"},{\"category\":\"REPRESENTATION\",\"photoURL\":\"https://yaimg.yanolja.com/v5/2022/11/11/16/640/636e719818af32.83782581.jpg\",\"bigSizePhotoURL\":\"https://yaimg.yanolja.com/v5/2022/11/11/16/1280/636e719818af32.83782581.jpg\",\"description\":\"\"},{\"category\":\"REPRESENTATION\",\"photoURL\":\"https://yaimg.yanolja.com/v5/2022/11/11/16/640/636e7198a0f368.83348929.jpg\",\"bigSizePhotoURL\":\"https://yaimg.yanolja.com/v5/2022/11/11/16/1280/636e7198a0f368.83348929.jpg\",\"description\":\"\"},{\"category\":\"REPRESENTATION\",\"photoURL\":\"https://yaimg.yanolja.com/v5/2022/11/11/16/640/636e719946f419.56033570.jpg\",\"bigSizePhotoURL\":\"https://yaimg.yanolja.com/v5/2022/11/11/16/1280/636e719946f419.56033570.jpg\",\"description\":\"\"},{\"category\":\"REPRESENTATION\",\"photoURL\":\"https://yaimg.yanolja.com/v5/2022/11/11/16/640/636e7199d5d2b6.52687514.jpg\",\"bigSizePhotoURL\":\"https://yaimg.yanolja.com/v5/2022/11/11/16/1280/636e7199d5d2b6.52687514.jpg\",\"description\":\"\"},{\"category\":\"REPRESENTATION\",\"photoURL\":\"https://yaimg.yanolja.com/v5/2022/11/11/16/640/636e719a87df73.14260549.jpg\",\"bigSizePhotoURL\":\"https://yaimg.yanolja.com/v5/2022/11/11/16/1280/636e719a87df73.14260549.jpg\",\"description\":\"\"},{\"category\":\"REPRESENTATION\",\"photoURL\":\"https://yaimg.yanolja.com/v5/2022/11/11/16/640/636e719b1c5260.62045157.jpg\",\"bigSizePhotoURL\":\"https://yaimg.yanolja.com/v5/2022/11/11/16/1280/636e719b1c5260.62045157.jpg\",\"description\":\"\"},{\"category\":\"REPRESENTATION\",\"photoURL\":\"https://yaimg.yanolja.com/v5/2022/11/11/16/640/636e719ba887d2.51495938.jpg\",\"bigSizePhotoURL\":\"https://yaimg.yanolja.com/v5/2022/11/11/16/1280/636e719ba887d2.51495938.jpg\",\"description\":\"\"}],\"photos\":[{\"category\":\"FACILITY\",\"photoURL\":\"https://yaimg.yanolja.com/v5/2022/11/11/16/640/636e719057c6b8.93001323.jpg\",\"bigSizePhotoURL\":\"https://yaimg.yanolja.com/v5/2022/11/11/16/1280/636e719057c6b8.93001323.jpg\",\"description\":\"\"},{\"category\":\"FACILITY\",\"photoURL\":\"https://yaimg.yanolja.com/v5/2022/11/11/16/640/636e7190dccfd4.44599585.jpg\",\"bigSizePhotoURL\":\"https://yaimg.yanolja.com/v5/2022/11/11/16/1280/636e7190dccfd4.44599585.jpg\",\"description\":\"\"},{\"category\":\"FACILITY\",\"photoURL\":\"https://yaimg.yanolja.com/v5/2022/11/11/16/640/636e7191700ac5.64143249.jpg\",\"bigSizePhotoURL\":\"https://yaimg.yanolja.com/v5/2022/11/11/16/1280/636e7191700ac5.64143249.jpg\",\"description\":\"\"},{\"category\":\"FACILITY\",\"photoURL\":\"https://yaimg.yanolja.com/v5/2022/11/11/16/640/636e719244bda7.13026516.jpg\",\"bigSizePhotoURL\":\"https://yaimg.yanolja.com/v5/2022/11/11/16/1280/636e719244bda7.13026516.jpg\",\"description\":\"\"},{\"category\":\"FACILITY\",\"photoURL\":\"https://yaimg.yanolja.com/v5/2022/11/11/16/640/636e7192c8dd30.50233185.jpg\",\"bigSizePhotoURL\":\"https://yaimg.yanolja.com/v5/2022/11/11/16/1280/636e7192c8dd30.50233185.jpg\",\"description\":\"\"},{\"category\":\"FACILITY\",\"photoURL\":\"https://yaimg.yanolja.com/v5/2022/11/11/16/640/636e7193583fe7.80717754.jpg\",\"bigSizePhotoURL\":\"https://yaimg.yanolja.com/v5/2022/11/11/16/1280/636e7193583fe7.80717754.jpg\",\"description\":\"\"},{\"category\":\"FACILITY\",\"photoURL\":\"https://yaimg.yanolja.com/v5/2022/11/11/16/640/636e7193eb8431.67453508.jpg\",\"bigSizePhotoURL\":\"https://yaimg.yanolja.com/v5/2022/11/11/16/1280/636e7193eb8431.67453508.jpg\",\"description\":\"\"}],\"vr\":[]},\"room\":{\"thumbnail\":\"https://yaimg.yanolja.com/v5/2022/11/11/16/640/636e71b7500753.63993436.jpg\",\"roomTypes\":[{\"roomTypeId\":440033,\"name\":\"디럭스 싱글룸+개인욕실\",\"subTitle\":\"1인실\",\"infos\":[\"기준 1명 / 최대 1명\",\"싱글 침대 1개\",\"금연객실\"],\"photos\":[{\"category\":\"ROOM_TYPE\",\"photoURL\":\"https://yaimg.yanolja.com/v5/2022/11/11/16/640/636e71b7500753.63993436.jpg\",\"bigSizePhotoURL\":\"https://yaimg.yanolja.com/v5/2022/11/11/16/1280/636e71b7500753.63993436.jpg\",\"description\":\"\"},{\"category\":\"ROOM_TYPE\",\"photoURL\":\"https://yaimg.yanolja.com/v5/2022/11/11/16/640/636e71b7e11301.77906396.jpg\",\"bigSizePhotoURL\":\"https://yaimg.yanolja.com/v5/2022/11/11/16/1280/636e71b7e11301.77906396.jpg\",\"description\":\"\"},{\"category\":\"ROOM_TYPE\",\"photoURL\":\"https://yaimg.yanolja.com/v5/2022/11/11/16/640/636e71b8694797.88148886.jpg\",\"bigSizePhotoURL\":\"https://yaimg.yanolja.com/v5/2022/11/11/16/1280/636e71b8694797.88148886.jpg\",\"description\":\"\"},{\"category\":\"ROOM_TYPE\",\"photoURL\":\"https://yaimg.yanolja.com/v5/2022/11/11/16/640/636e71b8ea7e46.58491718.jpg\",\"bigSizePhotoURL\":\"https://yaimg.yanolja.com/v5/2022/11/11/16/1280/636e71b8ea7e46.58491718.jpg\",\"description\":\"\"}],\"vr\":[]},{\"roomTypeId\":455360,\"name\":\"디럭스 더블룸 + 개인욕실-2\",\"subTitle\":\"\",\"infos\":[\"기준 2명 / 최대 2명\",\"금연객실\"],\"photos\":[{\"category\":\"ROOM_TYPE\",\"photoURL\":\"https://yaimg.yanolja.com/v5/2022/11/11/16/640/636e71973b9109.36382878.jpg\",\"bigSizePhotoURL\":\"https://yaimg.yanolja.com/v5/2022/11/11/16/1280/636e71973b9109.36382878.jpg\",\"description\":\"\"},{\"category\":\"ROOM_TYPE\",\"photoURL\":\"https://yaimg.yanolja.com/v5/2022/11/11/16/640/636e7197d175f1.69008387.jpg\",\"bigSizePhotoURL\":\"https://yaimg.yanolja.com/v5/2022/11/11/16/1280/636e7197d175f1.69008387.jpg\",\"description\":\"\"},{\"category\":\"ROOM_TYPE\",\"photoURL\":\"https://yaimg.yanolja.com/v5/2022/11/11/16/640/636e7198770cd3.99642480.jpg\",\"bigSizePhotoURL\":\"https://yaimg.yanolja.com/v5/2022/11/11/16/1280/636e7198770cd3.99642480.jpg\",\"description\":\"\"},{\"category\":\"ROOM_TYPE\",\"photoURL\":\"https://yaimg.yanolja.com/v5/2022/11/11/16/640/636e7199121868.65581219.jpg\",\"bigSizePhotoURL\":\"https://yaimg.yanolja.com/v5/2022/11/11/16/1280/636e7199121868.65581219.jpg\",\"description\":\"\"},{\"category\":\"ROOM_TYPE\",\"photoURL\":\"https://yaimg.yanolja.com/v5/2022/11/11/16/640/636e7199a8b4f0.12835077.jpg\",\"bigSizePhotoURL\":\"https://yaimg.yanolja.com/v5/2022/11/11/16/1280/636e7199a8b4f0.12835077.jpg\",\"description\":\"\"},{\"category\":\"ROOM_TYPE\",\"photoURL\":\"https://yaimg.yanolja.com/v5/2022/11/11/16/640/636e719a51c259.15192944.jpg\",\"bigSizePhotoURL\":\"https://yaimg.yanolja.com/v5/2022/11/11/16/1280/636e719a51c259.15192944.jpg\",\"description\":\"\"},{\"category\":\"ROOM_TYPE\",\"photoURL\":\"https://yaimg.yanolja.com/v5/2022/11/11/16/640/636e719ae4b2a0.40954609.jpg\",\"bigSizePhotoURL\":\"https://yaimg.yanolja.com/v5/2022/11/11/16/1280/636e719ae4b2a0.40954609.jpg\",\"description\":\"\"},{\"category\":\"ROOM_TYPE\",\"photoURL\":\"https://yaimg.yanolja.com/v5/2022/11/11/16/640/636e719b7beb62.62370565.jpg\",\"bigSizePhotoURL\":\"https://yaimg.yanolja.com/v5/2022/11/11/16/1280/636e719b7beb62.62370565.jpg\",\"description\":\"\"},{\"category\":\"ROOM_TYPE\",\"photoURL\":\"https://yaimg.yanolja.com/v5/2022/11/11/16/640/636e719c1da477.98585322.jpg\",\"bigSizePhotoURL\":\"https://yaimg.yanolja.com/v5/2022/11/11/16/1280/636e719c1da477.98585322.jpg\",\"description\":\"\"},{\"category\":\"ROOM_TYPE\",\"photoURL\":\"https://yaimg.yanolja.com/v5/2022/11/11/16/640/636e719ca72919.78968402.jpg\",\"bigSizePhotoURL\":\"https://yaimg.yanolja.com/v5/2022/11/11/16/1280/636e719ca72919.78968402.jpg\",\"description\":\"\"}],\"vr\":[]},{\"roomTypeId\":440034,\"name\":\"디럭스 더블룸 + 개인욕실\",\"subTitle\":\"\",\"infos\":[\"기준 2명 / 최대 2명\",\"더블 침대 1개\",\"금연객실\"],\"photos\":[{\"category\":\"ROOM_TYPE\",\"photoURL\":\"https://yaimg.yanolja.com/v5/2022/11/11/16/640/636e71ba5b9157.85609241.jpg\",\"bigSizePhotoURL\":\"https://yaimg.yanolja.com/v5/2022/11/11/16/1280/636e71ba5b9157.85609241.jpg\",\"description\":\"\"},{\"category\":\"ROOM_TYPE\",\"photoURL\":\"https://yaimg.yanolja.com/v5/2022/11/11/16/640/636e71bad6a932.81893760.jpg\",\"bigSizePhotoURL\":\"https://yaimg.yanolja.com/v5/2022/11/11/16/1280/636e71bad6a932.81893760.jpg\",\"description\":\"\"},{\"category\":\"ROOM_TYPE\",\"photoURL\":\"https://yaimg.yanolja.com/v5/2022/11/11/16/640/636e71bb6aecd1.87254554.jpg\",\"bigSizePhotoURL\":\"https://yaimg.yanolja.com/v5/2022/11/11/16/1280/636e71bb6aecd1.87254554.jpg\",\"description\":\"\"},{\"category\":\"ROOM_TYPE\",\"photoURL\":\"https://yaimg.yanolja.com/v5/2022/11/11/16/640/636e71bc41d441.42263870.jpg\",\"bigSizePhotoURL\":\"https://yaimg.yanolja.com/v5/2022/11/11/16/1280/636e71bc41d441.42263870.jpg\",\"description\":\"\"},{\"category\":\"ROOM_TYPE\",\"photoURL\":\"https://yaimg.yanolja.com/v5/2022/11/11/16/640/636e71bccc6d73.91329456.jpg\",\"bigSizePhotoURL\":\"https://yaimg.yanolja.com/v5/2022/11/11/16/1280/636e71bccc6d73.91329456.jpg\",\"description\":\"\"},{\"category\":\"ROOM_TYPE\",\"photoURL\":\"https://yaimg.yanolja.com/v5/2022/11/11/16/640/636e71bd5375c8.77622578.jpg\",\"bigSizePhotoURL\":\"https://yaimg.yanolja.com/v5/2022/11/11/16/1280/636e71bd5375c8.77622578.jpg\",\"description\":\"\"},{\"category\":\"ROOM_TYPE\",\"photoURL\":\"https://yaimg.yanolja.com/v5/2022/11/11/16/640/636e71bde41722.20772961.jpg\",\"bigSizePhotoURL\":\"https://yaimg.yanolja.com/v5/2022/11/11/16/1280/636e71bde41722.20772961.jpg\",\"description\":\"\"},{\"category\":\"ROOM_TYPE\",\"photoURL\":\"https://yaimg.yanolja.com/v5/2022/11/11/16/640/636e71be7b8183.80522947.jpg\",\"bigSizePhotoURL\":\"https://yaimg.yanolja.com/v5/2022/11/11/16/1280/636e71be7b8183.80522947.jpg\",\"description\":\"\"},{\"category\":\"ROOM_TYPE\",\"photoURL\":\"https://yaimg.yanolja.com/v5/2022/11/11/16/640/636e71bf109bd0.39291816.jpg\",\"bigSizePhotoURL\":\"https://yaimg.yanolja.com/v5/2022/11/11/16/1280/636e71bf109bd0.39291816.jpg\",\"description\":\"\"},{\"category\":\"ROOM_TYPE\",\"photoURL\":\"https://yaimg.yanolja.com/v5/2022/11/11/16/640/636e71bfa28c04.05153527.jpg\",\"bigSizePhotoURL\":\"https://yaimg.yanolja.com/v5/2022/11/11/16/1280/636e71bfa28c04.05153527.jpg\",\"description\":\"\"}],\"vr\":[]},{\"roomTypeId\":440035,\"name\":\"디럭스 트윈룸 + 개인욕실\",\"subTitle\":\"\",\"infos\":[\"기준 2명 / 최대 2명\",\"금연객실\"],\"photos\":[{\"category\":\"ROOM_TYPE\",\"photoURL\":\"https://yaimg.yanolja.com/v5/2022/11/11/16/640/636e71c14df687.61634760.jpg\",\"bigSizePhotoURL\":\"https://yaimg.yanolja.com/v5/2022/11/11/16/1280/636e71c14df687.61634760.jpg\",\"description\":\"\"},{\"category\":\"ROOM_TYPE\",\"photoURL\":\"https://yaimg.yanolja.com/v5/2022/11/11/16/640/636e71c1e86fb0.44086417.jpg\",\"bigSizePhotoURL\":\"https://yaimg.yanolja.com/v5/2022/11/11/16/1280/636e71c1e86fb0.44086417.jpg\",\"description\":\"\"},{\"category\":\"ROOM_TYPE\",\"photoURL\":\"https://yaimg.yanolja.com/v5/2022/11/11/16/640/636e71c287dd00.71445766.jpg\",\"bigSizePhotoURL\":\"https://yaimg.yanolja.com/v5/2022/11/11/16/1280/636e71c287dd00.71445766.jpg\",\"description\":\"\"},{\"category\":\"ROOM_TYPE\",\"photoURL\":\"https://yaimg.yanolja.com/v5/2022/11/11/16/640/636e71c320be41.51445957.jpg\",\"bigSizePhotoURL\":\"https://yaimg.yanolja.com/v5/2022/11/11/16/1280/636e71c320be41.51445957.jpg\",\"description\":\"\"}],\"vr\":[]},{\"roomTypeId\":455361,\"name\":\"디럭스 쿼드러플룸 + 개인욕실-2\",\"subTitle\":\"4인실\",\"infos\":[\"기준 4명 / 최대 4명\",\"금연객실\"],\"photos\":[{\"category\":\"ROOM_TYPE\",\"photoURL\":\"https://yaimg.yanolja.com/v5/2022/11/11/16/640/636e71b9322679.74256061.jpg\",\"bigSizePhotoURL\":\"https://yaimg.yanolja.com/v5/2022/11/11/16/1280/636e71b9322679.74256061.jpg\",\"description\":\"\"},{\"category\":\"ROOM_TYPE\",\"photoURL\":\"https://yaimg.yanolja.com/v5/2022/11/11/16/640/636e71b9b7fc32.93370466.jpg\",\"bigSizePhotoURL\":\"https://yaimg.yanolja.com/v5/2022/11/11/16/1280/636e71b9b7fc32.93370466.jpg\",\"description\":\"\"},{\"category\":\"ROOM_TYPE\",\"photoURL\":\"https://yaimg.yanolja.com/v5/2022/11/11/16/640/636e71ba3fc458.61971118.jpg\",\"bigSizePhotoURL\":\"https://yaimg.yanolja.com/v5/2022/11/11/16/1280/636e71ba3fc458.61971118.jpg\",\"description\":\"\"},{\"category\":\"ROOM_TYPE\",\"photoURL\":\"https://yaimg.yanolja.com/v5/2022/11/11/16/640/636e71bad028b8.57538413.jpg\",\"bigSizePhotoURL\":\"https://yaimg.yanolja.com/v5/2022/11/11/16/1280/636e71bad028b8.57538413.jpg\",\"description\":\"\"},{\"category\":\"ROOM_TYPE\",\"photoURL\":\"https://yaimg.yanolja.com/v5/2022/11/11/16/640/636e71bb5aad40.71142041.jpg\",\"bigSizePhotoURL\":\"https://yaimg.yanolja.com/v5/2022/11/11/16/1280/636e71bb5aad40.71142041.jpg\",\"description\":\"\"},{\"category\":\"ROOM_TYPE\",\"photoURL\":\"https://yaimg.yanolja.com/v5/2022/11/11/16/640/636e71bc038386.82408802.jpg\",\"bigSizePhotoURL\":\"https://yaimg.yanolja.com/v5/2022/11/11/16/1280/636e71bc038386.82408802.jpg\",\"description\":\"\"},{\"category\":\"ROOM_TYPE\",\"photoURL\":\"https://yaimg.yanolja.com/v5/2022/11/11/16/640/636e71bc7b27d3.02752449.jpg\",\"bigSizePhotoURL\":\"https://yaimg.yanolja.com/v5/2022/11/11/16/1280/636e71bc7b27d3.02752449.jpg\",\"description\":\"\"},{\"category\":\"ROOM_TYPE\",\"photoURL\":\"https://yaimg.yanolja.com/v5/2022/11/11/16/640/636e71bd09a5a9.45566711.jpg\",\"bigSizePhotoURL\":\"https://yaimg.yanolja.com/v5/2022/11/11/16/1280/636e71bd09a5a9.45566711.jpg\",\"description\":\"\"},{\"category\":\"ROOM_TYPE\",\"photoURL\":\"https://yaimg.yanolja.com/v5/2022/11/11/16/640/636e71bdc9cd17.52934289.jpg\",\"bigSizePhotoURL\":\"https://yaimg.yanolja.com/v5/2022/11/11/16/1280/636e71bdc9cd17.52934289.jpg\",\"description\":\"\"},{\"category\":\"ROOM_TYPE\",\"photoURL\":\"https://yaimg.yanolja.com/v5/2022/11/11/16/640/636e71be5c73a6.50269197.jpg\",\"bigSizePhotoURL\":\"https://yaimg.yanolja.com/v5/2022/11/11/16/1280/636e71be5c73a6.50269197.jpg\",\"description\":\"\"},{\"category\":\"ROOM_TYPE\",\"photoURL\":\"https://yaimg.yanolja.com/v5/2022/11/11/16/640/636e71bf0d4e25.85512923.jpg\",\"bigSizePhotoURL\":\"https://yaimg.yanolja.com/v5/2022/11/11/16/1280/636e71bf0d4e25.85512923.jpg\",\"description\":\"\"},{\"category\":\"ROOM_TYPE\",\"photoURL\":\"https://yaimg.yanolja.com/v5/2022/11/11/16/640/636e71bfa7dc11.36182265.jpg\",\"bigSizePhotoURL\":\"https://yaimg.yanolja.com/v5/2022/11/11/16/1280/636e71bfa7dc11.36182265.jpg\",\"description\":\"\"},{\"category\":\"ROOM_TYPE\",\"photoURL\":\"https://yaimg.yanolja.com/v5/2022/11/11/16/640/636e71c03125c5.47650991.jpg\",\"bigSizePhotoURL\":\"https://yaimg.yanolja.com/v5/2022/11/11/16/1280/636e71c03125c5.47650991.jpg\",\"description\":\"\"},{\"category\":\"ROOM_TYPE\",\"photoURL\":\"https://yaimg.yanolja.com/v5/2022/11/11/16/640/636e71c0b5b5a6.41965502.jpg\",\"bigSizePhotoURL\":\"https://yaimg.yanolja.com/v5/2022/11/11/16/1280/636e71c0b5b5a6.41965502.jpg\",\"description\":\"\"},{\"category\":\"ROOM_TYPE\",\"photoURL\":\"https://yaimg.yanolja.com/v5/2022/11/11/16/640/636e71c142a991.65459646.jpg\",\"bigSizePhotoURL\":\"https://yaimg.yanolja.com/v5/2022/11/11/16/1280/636e71c142a991.65459646.jpg\",\"description\":\"\"}],\"vr\":[]},{\"roomTypeId\":440037,\"name\":\"디럭스 쿼드러플룸 + 개인욕실\",\"subTitle\":\"4인실\",\"infos\":[\"기준 4명 / 최대 4명\",\"금연객실\"],\"photos\":[{\"category\":\"ROOM_TYPE\",\"photoURL\":\"https://yaimg.yanolja.com/v5/2022/11/11/16/640/636e71ad4c18a6.36385063.jpg\",\"bigSizePhotoURL\":\"https://yaimg.yanolja.com/v5/2022/11/11/16/1280/636e71ad4c18a6.36385063.jpg\",\"description\":\"\"},{\"category\":\"ROOM_TYPE\",\"photoURL\":\"https://yaimg.yanolja.com/v5/2022/11/11/16/640/636e71adc73c73.04217683.jpg\",\"bigSizePhotoURL\":\"https://yaimg.yanolja.com/v5/2022/11/11/16/1280/636e71adc73c73.04217683.jpg\",\"description\":\"\"},{\"category\":\"ROOM_TYPE\",\"photoURL\":\"https://yaimg.yanolja.com/v5/2022/11/11/16/640/636e71ae640ee5.62416329.jpg\",\"bigSizePhotoURL\":\"https://yaimg.yanolja.com/v5/2022/11/11/16/1280/636e71ae640ee5.62416329.jpg\",\"description\":\"\"},{\"category\":\"ROOM_TYPE\",\"photoURL\":\"https://yaimg.yanolja.com/v5/2022/11/11/16/640/636e71af04cec8.10598060.jpg\",\"bigSizePhotoURL\":\"https://yaimg.yanolja.com/v5/2022/11/11/16/1280/636e71af04cec8.10598060.jpg\",\"description\":\"\"},{\"category\":\"ROOM_TYPE\",\"photoURL\":\"https://yaimg.yanolja.com/v5/2022/11/11/16/640/636e71af9af551.92923503.jpg\",\"bigSizePhotoURL\":\"https://yaimg.yanolja.com/v5/2022/11/11/16/1280/636e71af9af551.92923503.jpg\",\"description\":\"\"},{\"category\":\"ROOM_TYPE\",\"photoURL\":\"https://yaimg.yanolja.com/v5/2022/11/11/16/640/636e71b0621d09.56512443.jpg\",\"bigSizePhotoURL\":\"https://yaimg.yanolja.com/v5/2022/11/11/16/1280/636e71b0621d09.56512443.jpg\",\"description\":\"\"},{\"category\":\"ROOM_TYPE\",\"photoURL\":\"https://yaimg.yanolja.com/v5/2022/11/11/16/640/636e71b0e7b3b9.79881417.jpg\",\"bigSizePhotoURL\":\"https://yaimg.yanolja.com/v5/2022/11/11/16/1280/636e71b0e7b3b9.79881417.jpg\",\"description\":\"\"},{\"category\":\"ROOM_TYPE\",\"photoURL\":\"https://yaimg.yanolja.com/v5/2022/11/11/16/640/636e71b18e8797.40165182.jpg\",\"bigSizePhotoURL\":\"https://yaimg.yanolja.com/v5/2022/11/11/16/1280/636e71b18e8797.40165182.jpg\",\"description\":\"\"},{\"category\":\"ROOM_TYPE\",\"photoURL\":\"https://yaimg.yanolja.com/v5/2022/11/11/16/640/636e71b2157b67.99796088.jpg\",\"bigSizePhotoURL\":\"https://yaimg.yanolja.com/v5/2022/11/11/16/1280/636e71b2157b67.99796088.jpg\",\"description\":\"\"},{\"category\":\"ROOM_TYPE\",\"photoURL\":\"https://yaimg.yanolja.com/v5/2022/11/11/16/640/636e71b2aec930.91104793.jpg\",\"bigSizePhotoURL\":\"https://yaimg.yanolja.com/v5/2022/11/11/16/1280/636e71b2aec930.91104793.jpg\",\"description\":\"\"},{\"category\":\"ROOM_TYPE\",\"photoURL\":\"https://yaimg.yanolja.com/v5/2022/11/11/16/640/636e71b33395d0.05089247.jpg\",\"bigSizePhotoURL\":\"https://yaimg.yanolja.com/v5/2022/11/11/16/1280/636e71b33395d0.05089247.jpg\",\"description\":\"\"},{\"category\":\"ROOM_TYPE\",\"photoURL\":\"https://yaimg.yanolja.com/v5/2022/11/11/16/640/636e71b3bf5b79.63679990.jpg\",\"bigSizePhotoURL\":\"https://yaimg.yanolja.com/v5/2022/11/11/16/1280/636e71b3bf5b79.63679990.jpg\",\"description\":\"\"},{\"category\":\"ROOM_TYPE\",\"photoURL\":\"https://yaimg.yanolja.com/v5/2022/11/11/16/640/636e71b452e7a7.54536422.jpg\",\"bigSizePhotoURL\":\"https://yaimg.yanolja.com/v5/2022/11/11/16/1280/636e71b452e7a7.54536422.jpg\",\"description\":\"\"},{\"category\":\"ROOM_TYPE\",\"photoURL\":\"https://yaimg.yanolja.com/v5/2022/11/11/16/640/636e71b4cd87c2.10915387.jpg\",\"bigSizePhotoURL\":\"https://yaimg.yanolja.com/v5/2022/11/11/16/1280/636e71b4cd87c2.10915387.jpg\",\"description\":\"\"},{\"category\":\"ROOM_TYPE\",\"photoURL\":\"https://yaimg.yanolja.com/v5/2022/11/11/16/640/636e71b55ed228.90480350.jpg\",\"bigSizePhotoURL\":\"https://yaimg.yanolja.com/v5/2022/11/11/16/1280/636e71b55ed228.90480350.jpg\",\"description\":\"\"}],\"vr\":[]},{\"roomTypeId\":440038,\"name\":\"패밀리룸 + 개인욕실\",\"subTitle\":\"6인실\",\"infos\":[\"기준 6명 / 최대 6명\",\"금연객실\"],\"photos\":[{\"category\":\"ROOM_TYPE\",\"photoURL\":\"https://yaimg.yanolja.com/v5/2022/11/11/16/640/636e71b42fac59.72027215.jpg\",\"bigSizePhotoURL\":\"https://yaimg.yanolja.com/v5/2022/11/11/16/1280/636e71b42fac59.72027215.jpg\",\"description\":\"\"},{\"category\":\"ROOM_TYPE\",\"photoURL\":\"https://yaimg.yanolja.com/v5/2022/11/11/16/640/636e71b4b29d38.18238152.jpg\",\"bigSizePhotoURL\":\"https://yaimg.yanolja.com/v5/2022/11/11/16/1280/636e71b4b29d38.18238152.jpg\",\"description\":\"\"},{\"category\":\"ROOM_TYPE\",\"photoURL\":\"https://yaimg.yanolja.com/v5/2022/11/11/16/640/636e71b551d889.49651425.jpg\",\"bigSizePhotoURL\":\"https://yaimg.yanolja.com/v5/2022/11/11/16/1280/636e71b551d889.49651425.jpg\",\"description\":\"\"},{\"category\":\"ROOM_TYPE\",\"photoURL\":\"https://yaimg.yanolja.com/v5/2022/11/11/16/640/636e71b5c67593.20127310.jpg\",\"bigSizePhotoURL\":\"https://yaimg.yanolja.com/v5/2022/11/11/16/1280/636e71b5c67593.20127310.jpg\",\"description\":\"\"},{\"category\":\"ROOM_TYPE\",\"photoURL\":\"https://yaimg.yanolja.com/v5/2022/11/11/16/640/636e71b65b7be4.23410930.jpg\",\"bigSizePhotoURL\":\"https://yaimg.yanolja.com/v5/2022/11/11/16/1280/636e71b65b7be4.23410930.jpg\",\"description\":\"\"},{\"category\":\"ROOM_TYPE\",\"photoURL\":\"https://yaimg.yanolja.com/v5/2022/11/11/16/640/636e71b6eac859.52229683.jpg\",\"bigSizePhotoURL\":\"https://yaimg.yanolja.com/v5/2022/11/11/16/1280/636e71b6eac859.52229683.jpg\",\"description\":\"\"},{\"category\":\"ROOM_TYPE\",\"photoURL\":\"https://yaimg.yanolja.com/v5/2022/11/11/16/640/636e71b76edec1.34905502.jpg\",\"bigSizePhotoURL\":\"https://yaimg.yanolja.com/v5/2022/11/11/16/1280/636e71b76edec1.34905502.jpg\",\"description\":\"\"},{\"category\":\"ROOM_TYPE\",\"photoURL\":\"https://yaimg.yanolja.com/v5/2022/11/11/16/640/636e71b80b9b24.75032519.jpg\",\"bigSizePhotoURL\":\"https://yaimg.yanolja.com/v5/2022/11/11/16/1280/636e71b80b9b24.75032519.jpg\",\"description\":\"\"}],\"vr\":[]},{\"roomTypeId\":440039,\"name\":\"디럭스 패밀리룸 + 개인욕실\",\"subTitle\":\"8인실\",\"infos\":[\"기준 8명 / 최대 8명\",\"금연객실\"],\"photos\":[{\"category\":\"ROOM_TYPE\",\"photoURL\":\"https://yaimg.yanolja.com/v5/2022/11/11/16/640/636e71a93b6716.57453891.jpg\",\"bigSizePhotoURL\":\"https://yaimg.yanolja.com/v5/2022/11/11/16/1280/636e71a93b6716.57453891.jpg\",\"description\":\"\"},{\"category\":\"ROOM_TYPE\",\"photoURL\":\"https://yaimg.yanolja.com/v5/2022/11/11/16/640/636e71a9db8409.33166399.jpg\",\"bigSizePhotoURL\":\"https://yaimg.yanolja.com/v5/2022/11/11/16/1280/636e71a9db8409.33166399.jpg\",\"description\":\"\"},{\"category\":\"ROOM_TYPE\",\"photoURL\":\"https://yaimg.yanolja.com/v5/2022/11/11/16/640/636e71aa767f84.63177553.jpg\",\"bigSizePhotoURL\":\"https://yaimg.yanolja.com/v5/2022/11/11/16/1280/636e71aa767f84.63177553.jpg\",\"description\":\"\"},{\"category\":\"ROOM_TYPE\",\"photoURL\":\"https://yaimg.yanolja.com/v5/2022/11/11/16/640/636e71ab1681a9.79943575.jpg\",\"bigSizePhotoURL\":\"https://yaimg.yanolja.com/v5/2022/11/11/16/1280/636e71ab1681a9.79943575.jpg\",\"description\":\"\"},{\"category\":\"ROOM_TYPE\",\"photoURL\":\"https://yaimg.yanolja.com/v5/2022/11/11/16/640/636e71ab9960e6.63292445.jpg\",\"bigSizePhotoURL\":\"https://yaimg.yanolja.com/v5/2022/11/11/16/1280/636e71ab9960e6.63292445.jpg\",\"description\":\"\"},{\"category\":\"ROOM_TYPE\",\"photoURL\":\"https://yaimg.yanolja.com/v5/2022/11/11/16/640/636e71ac594301.40885570.jpg\",\"bigSizePhotoURL\":\"https://yaimg.yanolja.com/v5/2022/11/11/16/1280/636e71ac594301.40885570.jpg\",\"description\":\"\"},{\"category\":\"ROOM_TYPE\",\"photoURL\":\"https://yaimg.yanolja.com/v5/2022/11/11/16/640/636e71acdeca68.63529656.jpg\",\"bigSizePhotoURL\":\"https://yaimg.yanolja.com/v5/2022/11/11/16/1280/636e71acdeca68.63529656.jpg\",\"description\":\"\"},{\"category\":\"ROOM_TYPE\",\"photoURL\":\"https://yaimg.yanolja.com/v5/2022/11/11/16/640/636e71ad6ffd85.62915132.jpg\",\"bigSizePhotoURL\":\"https://yaimg.yanolja.com/v5/2022/11/11/16/1280/636e71ad6ffd85.62915132.jpg\",\"description\":\"\"},{\"category\":\"ROOM_TYPE\",\"photoURL\":\"https://yaimg.yanolja.com/v5/2022/11/11/16/640/636e71ade89c97.89524742.jpg\",\"bigSizePhotoURL\":\"https://yaimg.yanolja.com/v5/2022/11/11/16/1280/636e71ade89c97.89524742.jpg\",\"description\":\"\"},{\"category\":\"ROOM_TYPE\",\"photoURL\":\"https://yaimg.yanolja.com/v5/2022/11/11/16/640/636e71ae829348.98016221.jpg\",\"bigSizePhotoURL\":\"https://yaimg.yanolja.com/v5/2022/11/11/16/1280/636e71ae829348.98016221.jpg\",\"description\":\"\"},{\"category\":\"ROOM_TYPE\",\"photoURL\":\"https://yaimg.yanolja.com/v5/2022/11/11/16/640/636e71af1aa3f5.86195707.jpg\",\"bigSizePhotoURL\":\"https://yaimg.yanolja.com/v5/2022/11/11/16/1280/636e71af1aa3f5.86195707.jpg\",\"description\":\"\"},{\"category\":\"ROOM_TYPE\",\"photoURL\":\"https://yaimg.yanolja.com/v5/2022/11/11/16/640/636e71afa8d8e8.12680231.jpg\",\"bigSizePhotoURL\":\"https://yaimg.yanolja.com/v5/2022/11/11/16/1280/636e71afa8d8e8.12680231.jpg\",\"description\":\"\"},{\"category\":\"ROOM_TYPE\",\"photoURL\":\"https://yaimg.yanolja.com/v5/2022/11/11/16/640/636e71b05658e7.07350217.jpg\",\"bigSizePhotoURL\":\"https://yaimg.yanolja.com/v5/2022/11/11/16/1280/636e71b05658e7.07350217.jpg\",\"description\":\"\"},{\"category\":\"ROOM_TYPE\",\"photoURL\":\"https://yaimg.yanolja.com/v5/2022/11/11/16/640/636e71b0eca651.44853076.jpg\",\"bigSizePhotoURL\":\"https://yaimg.yanolja.com/v5/2022/11/11/16/1280/636e71b0eca651.44853076.jpg\",\"description\":\"\"}],\"vr\":[]},{\"roomTypeId\":440040,\"name\":\"디럭스 대형패밀리룸 +개인욕실\",\"subTitle\":\"10인실\",\"infos\":[\"기준 10명 / 최대 10명\",\"금연객실\"],\"photos\":[{\"category\":\"ROOM_TYPE\",\"photoURL\":\"https://yaimg.yanolja.com/v5/2022/11/11/16/640/636e71c33b8b24.43963365.jpg\",\"bigSizePhotoURL\":\"https://yaimg.yanolja.com/v5/2022/11/11/16/1280/636e71c33b8b24.43963365.jpg\",\"description\":\"\"},{\"category\":\"ROOM_TYPE\",\"photoURL\":\"https://yaimg.yanolja.com/v5/2022/11/11/16/640/636e71c405c074.93690779.jpg\",\"bigSizePhotoURL\":\"https://yaimg.yanolja.com/v5/2022/11/11/16/1280/636e71c405c074.93690779.jpg\",\"description\":\"\"},{\"category\":\"ROOM_TYPE\",\"photoURL\":\"https://yaimg.yanolja.com/v5/2022/11/11/16/640/636e71c49e2661.11895807.jpg\",\"bigSizePhotoURL\":\"https://yaimg.yanolja.com/v5/2022/11/11/16/1280/636e71c49e2661.11895807.jpg\",\"description\":\"\"},{\"category\":\"ROOM_TYPE\",\"photoURL\":\"https://yaimg.yanolja.com/v5/2022/11/11/16/640/636e71c557cbe9.38939380.jpg\",\"bigSizePhotoURL\":\"https://yaimg.yanolja.com/v5/2022/11/11/16/1280/636e71c557cbe9.38939380.jpg\",\"description\":\"\"},{\"category\":\"ROOM_TYPE\",\"photoURL\":\"https://yaimg.yanolja.com/v5/2022/11/11/16/640/636e71c5f28068.10203024.jpg\",\"bigSizePhotoURL\":\"https://yaimg.yanolja.com/v5/2022/11/11/16/1280/636e71c5f28068.10203024.jpg\",\"description\":\"\"}],\"vr\":[]},{\"roomTypeId\":440041,\"name\":\"더블룸 + 공용욕실\",\"subTitle\":\"\",\"infos\":[\"기준 2명 / 최대 2명\",\"더블 침대 1개\",\"금연객실\"],\"photos\":[{\"category\":\"ROOM_TYPE\",\"photoURL\":\"https://yaimg.yanolja.com/v5/2022/11/11/16/640/636e71b2305a57.80217396.jpg\",\"bigSizePhotoURL\":\"https://yaimg.yanolja.com/v5/2022/11/11/16/1280/636e71b2305a57.80217396.jpg\",\"description\":\"\"},{\"category\":\"ROOM_TYPE\",\"photoURL\":\"https://yaimg.yanolja.com/v5/2022/11/11/16/640/636e71b2ad1325.61632672.jpg\",\"bigSizePhotoURL\":\"https://yaimg.yanolja.com/v5/2022/11/11/16/1280/636e71b2ad1325.61632672.jpg\",\"description\":\"\"}],\"vr\":[]},{\"roomTypeId\":440042,\"name\":\"4인실 + 공용욕실\",\"subTitle\":\"\",\"infos\":[\"기준 3명 / 최대 3명\",\"금연객실\"],\"photos\":[{\"category\":\"ROOM_TYPE\",\"photoURL\":\"https://yaimg.yanolja.com/v5/2022/11/11/16/640/636e71c4570cd2.88650669.jpg\",\"bigSizePhotoURL\":\"https://yaimg.yanolja.com/v5/2022/11/11/16/1280/636e71c4570cd2.88650669.jpg\",\"description\":\"\"},{\"category\":\"ROOM_TYPE\",\"photoURL\":\"https://yaimg.yanolja.com/v5/2022/11/11/16/640/636e71c4c9f4a6.81706797.jpg\",\"bigSizePhotoURL\":\"https://yaimg.yanolja.com/v5/2022/11/11/16/1280/636e71c4c9f4a6.81706797.jpg\",\"description\":\"\"},{\"category\":\"ROOM_TYPE\",\"photoURL\":\"https://yaimg.yanolja.com/v5/2022/11/11/16/640/636e71c5721688.59737776.jpg\",\"bigSizePhotoURL\":\"https://yaimg.yanolja.com/v5/2022/11/11/16/1280/636e71c5721688.59737776.jpg\",\"description\":\"\"},{\"category\":\"ROOM_TYPE\",\"photoURL\":\"https://yaimg.yanolja.com/v5/2022/11/11/16/640/636e71c6293140.88873632.jpg\",\"bigSizePhotoURL\":\"https://yaimg.yanolja.com/v5/2022/11/11/16/1280/636e71c6293140.88873632.jpg\",\"description\":\"\"},{\"category\":\"ROOM_TYPE\",\"photoURL\":\"https://yaimg.yanolja.com/v5/2022/11/11/16/640/636e71c6c91494.61755424.jpg\",\"bigSizePhotoURL\":\"https://yaimg.yanolja.com/v5/2022/11/11/16/1280/636e71c6c91494.61755424.jpg\",\"description\":\"\"}],\"vr\":[]}]}},\"expMeta\":null},\"propertyDetail\":{\"basicInfo\":{\"propertyId\":10043042,\"name\":\"서울 명동루프탑호스텔\",\"hideWeb\":false,\"hotelStar\":null,\"hotelAuth\":null,\"locationDescription\":null,\"sellerPhone\":null,\"photos\":\"https://yaimg.yanolja.com/v5/2022/11/11/16/636e7194a1b3a7.88946404.jpg\",\"categoryId\":10103,\"categoryName\":\"펜션\",\"cityName\":null,\"cityDetail\":null,\"propertyPrice\":50000,\"noKidsZone\":false,\"agePolicy\":{\"child\":17,\"toddler\":null}},\"badge\":{\"configBadges\":[],\"propertyBadges\":[\"주차불가\"],\"styledPropertyBadges\":[{\"text\":\"주차불가\",\"styles\":[]}]},\"review\":{\"hasScore\":true,\"score\":4.4444,\"scope\":4.5,\"reviewTotalCount\":11,\"reviewCount\":11,\"limitReviewCount\":99999,\"replyCount\":0,\"limitReplyCount\":99999,\"reviewNotice\":false,\"roomTypes\":[{\"roomTypeId\":[440038],\"roomTypeName\":\"패밀리룸(6인실) + 개인욕실\"},{\"roomTypeId\":[440039],\"roomTypeName\":\"디럭스 패밀리룸(8인실) + 개인욕실\"},{\"roomTypeId\":[440034],\"roomTypeName\":\"디럭스 더블룸 + 개인욕실\"},{\"roomTypeId\":[440035],\"roomTypeName\":\"디럭스 트윈룸 + 개인욕실\"},{\"roomTypeId\":[455361],\"roomTypeName\":\"디럭스 쿼드러플룸(4인실) + 개인욕실-2\"},{\"roomTypeId\":[440033],\"roomTypeName\":\"디럭스 싱글룸(1인실)+개인욕실\"},{\"roomTypeId\":[440040],\"roomTypeName\":\"디럭스 대형패밀리룸(10인실) +개인욕실\"}]},\"banners\":[{\"id\":\"9223090561894055936\",\"icon\":null,\"type\":\"PLCC\",\"image\":{\"url\":\"https://yaimg.yanolja.com/v5/2023/05/10/09/645b61894d2508.87397836.png\",\"width\":null,\"height\":null},\"useStyledText\":false,\"title\":null,\"styledTitle\":null,\"description\":null,\"styledDescription\":null,\"link\":\"https://www.yanolja.com/promotion/nol-promotion?eventcode=NOYHH\",\"logMeta\":{\"benefitBannerTitle\":\"놀카드_베네핏배너\",\"deepLinkUri\":\"https://www.yanolja.com/promotion/nol-promotion?eventcode=NOYHH\"}}],\"event\":[],\"pictograms\":[{\"icon\":\"https://yaimg.yanolja.com/v5/2022/07/04/16/62c312d25b7881.48044241.png\",\"title\":\"흡연구역\",\"description\":null},{\"icon\":\"https://yaimg.yanolja.com/v5/2022/07/04/16/62c312ab2a3a54.21397941.png\",\"title\":\"객실금연\",\"description\":null}],\"locationTab\":{\"coordinate\":{\"latitude\":37.5582586943492,\"longitude\":126.986576343145},\"address\":\"서울특별시 중구 퇴계로20길 47 2층\",\"sharedAddress\":\"서울특별시 중구 퇴계로20길 47 2층\",\"transportations\":[{\"type\":\"icon\",\"icon\":\"https://yaimg.yanolja.com/stay/static/images/icon-subway-border-line-1.svg\",\"descriptions\":[\"3호선 충무로역\",\"4호선 명동역\",\"4호선 회현역\",\"4호선 충무로역\",\"2호선 을지로입구역\"]}],\"sellerPhone\":\"050350592660\",\"parkingLots\":{\"isExist\":false,\"infos\":[]},\"pickup\":{\"isExist\":true,\"infos\":[{\"type\":\"tnd\",\"title\":null,\"descriptions\":[{\"isBullet\":true,\"contents\":\"픽업을 지원하지 않는 펜션입니다.\"},{\"isBullet\":true,\"contents\":\"대중교통 또는 자가용으로 방문 부탁드립니다.\"}],\"displayType\":\"BULLET\"}]},\"valetParking\":null,\"direction\":[]},\"facilitiesTab\":{\"buildingInfos\":[],\"breakfast\":[],\"restaurant\":[],\"entertainments\":[],\"pool\":[],\"familyServices\":null,\"commonSpaces\":[],\"laundryServices\":[],\"customerServices\":[],\"languages\":null,\"facilities\":[{\"isBullet\":false,\"contents\":\"객실금연\"},{\"isBullet\":false,\"contents\":\"\"},{\"isBullet\":false,\"contents\":\"흡연구역\"},{\"isBullet\":false,\"contents\":\" *전 객실 금연구역입니다.(건물 옥상 흡연가능)\"}]},\"policyTab\":{\"checkIn\":null,\"checkOut\":null,\"additionalCharge\":null,\"extraBed\":[],\"checkInLimit\":{\"type\":\"tnd\",\"title\":\"입실\",\"descriptions\":[{\"isBullet\":false,\"contents\":\"아동입실 허용\"}],\"displayType\":\"GRID\"},\"smokingPolicy\":null,\"petPolicy\":[],\"information\":[{\"type\":\"tnd\",\"title\":\"공지사항\",\"descriptions\":[{\"isBullet\":true,\"contents\":\"22시 이후 입실하실 경우 펜션으로 미리 연락 부탁드립니다.\"}],\"displayType\":\"BULLET\"}],\"overview\":[{\"isBullet\":false,\"contents\":\"안녕하세요. 서울 명동루프탑호스텔입니다.\"},{\"isBullet\":false,\"contents\":\"1.드라마 촬영 문의가 많이 들어오고 최근 드라마 '하자있는인간들'의 촬영장소로 유명한 저희 루프탑에는 야외용 의자와 테이블이 비치되어 있습니다. 서울 제1아이콘인 남산타워를 바로 앞에서 조망 하실 수 있습니다. 최근 드라마 이태원클라쓰에서 유명한 남산타워가 보이는 씬을 그대로 재현 하실 수 있으세요! ^^ \"},{\"isBullet\":false,\"contents\":\" 1-1. 남산타워가 보이는 루프탑에서 숯불바베큐 파티가 가능합니다. 자세한 사항은 방 예약 시 옵션에서 확인해 주세요! \"},{\"isBullet\":false,\"contents\":\"2. 명동루프탑 호스텔은 4호선 명동역3번 출구에서 도보로 5분거리에 위치 게스트하우스입니다. 1인실부터 10인실 까지 있으며 전 객실 샤워타월 샴푸 바디워시가 부족하지 않게 제공 되고 있습니다. 또한 1분거리에 편의점이 위치해 있어 칫솔, 치약등을 편리하게 구매하실 수 있습니다. \"},{\"isBullet\":false,\"contents\":\"3. 체크인 시간은 오후3시부터 입니다. 그전에 미리 짐을 보관하고 가셔도 됩니다. 체크아웃시간은 아침 11시입니다. 역시 짐을 보관하고 나중에 찾아가셔도 됩니다. 루프탑이용시간은 오후10시까지 입니다.(밤늦게 오시는 고객님들은 문자로 셀프체크인 할수있게 발송) \"},{\"isBullet\":false,\"contents\":\"4. 밤늦게는 전화문의를 안 받을 수 있으며 문자.네이버 톡톡으로 문의주시면 친절히 안내해드리겠습니다. \"},{\"isBullet\":false,\"contents\":\"5. 주차는 불가입니다. \"},{\"isBullet\":false,\"contents\":\"6.* 코로나기간 조식은 제공되지 않고 있습니다.\"},{\"isBullet\":false,\"contents\":\"7. 전 객실 조식 포함\"}]},\"popularityMessage\":null,\"calendar\":{\"period\":{\"checkInDate\":\"05.11(목)\",\"checkOutDate\":\"05.12(금)\",\"checkInNow\":false,\"nights\":1},\"person\":{\"adults\":2,\"children\":0,\"childrenAges\":[]},\"alert\":null},\"roomTypeInfo\":{\"roomTypesAvailable\":true,\"roomTypesMessage\":null,\"buttonType\":null,\"statusMessage\":[\"해당 날짜의 모든 객실이 만실입니다.\"]},\"roomTypes\":[{\"roomTypeId\":440033,\"roomTypeName\":\"디럭스 싱글룸+개인욕실\",\"photos\":[{\"photoURL\":\"https://yaimg.yanolja.com/v5/2022/11/11/16/640/636e71b7500753.63993436.jpg\",\"bigSizePhotoURL\":\"https://yaimg.yanolja.com/v5/2022/11/11/16/1280/636e71b7500753.63993436.jpg\"},{\"photoURL\":\"https://yaimg.yanolja.com/v5/2022/11/11/16/640/636e71b7e11301.77906396.jpg\",\"bigSizePhotoURL\":\"https://yaimg.yanolja.com/v5/2022/11/11/16/1280/636e71b7e11301.77906396.jpg\"},{\"photoURL\":\"https://yaimg.yanolja.com/v5/2022/11/11/16/640/636e71b8694797.88148886.jpg\",\"bigSizePhotoURL\":\"https://yaimg.yanolja.com/v5/2022/11/11/16/1280/636e71b8694797.88148886.jpg\"},{\"photoURL\":\"https://yaimg.yanolja.com/v5/2022/11/11/16/640/636e71b8ea7e46.58491718.jpg\",\"bigSizePhotoURL\":\"https://yaimg.yanolja.com/v5/2022/11/11/16/1280/636e71b8ea7e46.58491718.jpg\"}],\"vr\":[],\"myRoomCoupon\":false,\"needLogin\":false,\"hideWeb\":false,\"roomTypeSubTitle\":\"1인실\",\"sizeInfo\":null,\"capacityInfo\":\"기준 1인 / 최대 1인\",\"bedInfos\":[\"싱글 침대 1개\"],\"viewInfos\":[],\"smokingInfo\":\"금연객실\",\"cta\":{\"title\":\"객실 상세보기\",\"tooltip\":null,\"isClickable\":true},\"useTypes\":[{\"availability\":\"INVALID\",\"invalidReason\":\"MAX_CAPACITY_EXCEEDED\",\"useTypeTitle\":\"숙박\",\"useTypeSubTitle\":\"(15:00~)\",\"timeInfo\":null,\"discountDescription\":null,\"hotDeal\":false,\"discountBadgeIcon\":null,\"maxDiscountRate\":null,\"minAverageRackRate\":null,\"minAverageRate\":50000,\"soldOutLabel\":\"판매완료\",\"capacityLabel\":null,\"couponInfo\":{\"available\":false,\"appliedRate\":null,\"couponId\":null,\"type\":null,\"ratio\":null,\"amount\":null,\"koreanAmount\":null,\"icon\":null}}]},{\"roomTypeId\":455360,\"roomTypeName\":\"디럭스 더블룸 + 개인욕실-2\",\"photos\":[{\"photoURL\":\"https://yaimg.yanolja.com/v5/2022/11/11/16/640/636e71973b9109.36382878.jpg\",\"bigSizePhotoURL\":\"https://yaimg.yanolja.com/v5/2022/11/11/16/1280/636e71973b9109.36382878.jpg\"},{\"photoURL\":\"https://yaimg.yanolja.com/v5/2022/11/11/16/640/636e7197d175f1.69008387.jpg\",\"bigSizePhotoURL\":\"https://yaimg.yanolja.com/v5/2022/11/11/16/1280/636e7197d175f1.69008387.jpg\"},{\"photoURL\":\"https://yaimg.yanolja.com/v5/2022/11/11/16/640/636e7198770cd3.99642480.jpg\",\"bigSizePhotoURL\":\"https://yaimg.yanolja.com/v5/2022/11/11/16/1280/636e7198770cd3.99642480.jpg\"},{\"photoURL\":\"https://yaimg.yanolja.com/v5/2022/11/11/16/640/636e7199121868.65581219.jpg\",\"bigSizePhotoURL\":\"https://yaimg.yanolja.com/v5/2022/11/11/16/1280/636e7199121868.65581219.jpg\"},{\"photoURL\":\"https://yaimg.yanolja.com/v5/2022/11/11/16/640/636e7199a8b4f0.12835077.jpg\",\"bigSizePhotoURL\":\"https://yaimg.yanolja.com/v5/2022/11/11/16/1280/636e7199a8b4f0.12835077.jpg\"},{\"photoURL\":\"https://yaimg.yanolja.com/v5/2022/11/11/16/640/636e719a51c259.15192944.jpg\",\"bigSizePhotoURL\":\"https://yaimg.yanolja.com/v5/2022/11/11/16/1280/636e719a51c259.15192944.jpg\"},{\"photoURL\":\"https://yaimg.yanolja.com/v5/2022/11/11/16/640/636e719ae4b2a0.40954609.jpg\",\"bigSizePhotoURL\":\"https://yaimg.yanolja.com/v5/2022/11/11/16/1280/636e719ae4b2a0.40954609.jpg\"},{\"photoURL\":\"https://yaimg.yanolja.com/v5/2022/11/11/16/640/636e719b7beb62.62370565.jpg\",\"bigSizePhotoURL\":\"https://yaimg.yanolja.com/v5/2022/11/11/16/1280/636e719b7beb62.62370565.jpg\"}],\"vr\":[],\"myRoomCoupon\":false,\"needLogin\":false,\"hideWeb\":false,\"roomTypeSubTitle\":null,\"sizeInfo\":null,\"capacityInfo\":\"기준 2인 / 최대 2인\",\"bedInfos\":[],\"viewInfos\":[],\"smokingInfo\":\"금연객실\",\"cta\":{\"title\":\"객실 상세보기\",\"tooltip\":null,\"isClickable\":true},\"useTypes\":[{\"availability\":\"INVALID\",\"invalidReason\":\"NOT_SERVICED_INVENTORY\",\"useTypeTitle\":\"숙박\",\"useTypeSubTitle\":\"(15:00~)\",\"timeInfo\":null,\"discountDescription\":null,\"hotDeal\":false,\"discountBadgeIcon\":null,\"maxDiscountRate\":null,\"minAverageRackRate\":null,\"minAverageRate\":60000,\"soldOutLabel\":\"판매완료\",\"capacityLabel\":null,\"couponInfo\":{\"available\":false,\"appliedRate\":null,\"couponId\":null,\"type\":null,\"ratio\":null,\"amount\":null,\"koreanAmount\":null,\"icon\":null}}]},{\"roomTypeId\":440034,\"roomTypeName\":\"디럭스 더블룸 + 개인욕실\",\"photos\":[{\"photoURL\":\"https://yaimg.yanolja.com/v5/2022/11/11/16/640/636e71ba5b9157.85609241.jpg\",\"bigSizePhotoURL\":\"https://yaimg.yanolja.com/v5/2022/11/11/16/1280/636e71ba5b9157.85609241.jpg\"},{\"photoURL\":\"https://yaimg.yanolja.com/v5/2022/11/11/16/640/636e71bad6a932.81893760.jpg\",\"bigSizePhotoURL\":\"https://yaimg.yanolja.com/v5/2022/11/11/16/1280/636e71bad6a932.81893760.jpg\"},{\"photoURL\":\"https://yaimg.yanolja.com/v5/2022/11/11/16/640/636e71bb6aecd1.87254554.jpg\",\"bigSizePhotoURL\":\"https://yaimg.yanolja.com/v5/2022/11/11/16/1280/636e71bb6aecd1.87254554.jpg\"},{\"photoURL\":\"https://yaimg.yanolja.com/v5/2022/11/11/16/640/636e71bc41d441.42263870.jpg\",\"bigSizePhotoURL\":\"https://yaimg.yanolja.com/v5/2022/11/11/16/1280/636e71bc41d441.42263870.jpg\"},{\"photoURL\":\"https://yaimg.yanolja.com/v5/2022/11/11/16/640/636e71bccc6d73.91329456.jpg\",\"bigSizePhotoURL\":\"https://yaimg.yanolja.com/v5/2022/11/11/16/1280/636e71bccc6d73.91329456.jpg\"},{\"photoURL\":\"https://yaimg.yanolja.com/v5/2022/11/11/16/640/636e71bd5375c8.77622578.jpg\",\"bigSizePhotoURL\":\"https://yaimg.yanolja.com/v5/2022/11/11/16/1280/636e71bd5375c8.77622578.jpg\"},{\"photoURL\":\"https://yaimg.yanolja.com/v5/2022/11/11/16/640/636e71bde41722.20772961.jpg\",\"bigSizePhotoURL\":\"https://yaimg.yanolja.com/v5/2022/11/11/16/1280/636e71bde41722.20772961.jpg\"},{\"photoURL\":\"https://yaimg.yanolja.com/v5/2022/11/11/16/640/636e71be7b8183.80522947.jpg\",\"bigSizePhotoURL\":\"https://yaimg.yanolja.com/v5/2022/11/11/16/1280/636e71be7b8183.80522947.jpg\"}],\"vr\":[],\"myRoomCoupon\":false,\"needLogin\":false,\"hideWeb\":false,\"roomTypeSubTitle\":null,\"sizeInfo\":null,\"capacityInfo\":\"기준 2인 / 최대 2인\",\"bedInfos\":[\"더블 침대 1개\"],\"viewInfos\":[],\"smokingInfo\":\"금연객실\",\"cta\":{\"title\":\"객실 상세보기\",\"tooltip\":null,\"isClickable\":true},\"useTypes\":[{\"availability\":\"INVALID\",\"invalidReason\":\"NOT_SERVICED_INVENTORY\",\"useTypeTitle\":\"숙박\",\"useTypeSubTitle\":\"(15:00~)\",\"timeInfo\":null,\"discountDescription\":null,\"hotDeal\":false,\"discountBadgeIcon\":null,\"maxDiscountRate\":null,\"minAverageRackRate\":null,\"minAverageRate\":60000,\"soldOutLabel\":\"판매완료\",\"capacityLabel\":null,\"couponInfo\":{\"available\":false,\"appliedRate\":null,\"couponId\":null,\"type\":null,\"ratio\":null,\"amount\":null,\"koreanAmount\":null,\"icon\":null}}]},{\"roomTypeId\":440035,\"roomTypeName\":\"디럭스 트윈룸 + 개인욕실\",\"photos\":[{\"photoURL\":\"https://yaimg.yanolja.com/v5/2022/11/11/16/640/636e71c14df687.61634760.jpg\",\"bigSizePhotoURL\":\"https://yaimg.yanolja.com/v5/2022/11/11/16/1280/636e71c14df687.61634760.jpg\"},{\"photoURL\":\"https://yaimg.yanolja.com/v5/2022/11/11/16/640/636e71c1e86fb0.44086417.jpg\",\"bigSizePhotoURL\":\"https://yaimg.yanolja.com/v5/2022/11/11/16/1280/636e71c1e86fb0.44086417.jpg\"},{\"photoURL\":\"https://yaimg.yanolja.com/v5/2022/11/11/16/640/636e71c287dd00.71445766.jpg\",\"bigSizePhotoURL\":\"https://yaimg.yanolja.com/v5/2022/11/11/16/1280/636e71c287dd00.71445766.jpg\"},{\"photoURL\":\"https://yaimg.yanolja.com/v5/2022/11/11/16/640/636e71c320be41.51445957.jpg\",\"bigSizePhotoURL\":\"https://yaimg.yanolja.com/v5/2022/11/11/16/1280/636e71c320be41.51445957.jpg\"}],\"vr\":[],\"myRoomCoupon\":false,\"needLogin\":false,\"hideWeb\":false,\"roomTypeSubTitle\":null,\"sizeInfo\":null,\"capacityInfo\":\"기준 2인 / 최대 2인\",\"bedInfos\":[],\"viewInfos\":[],\"smokingInfo\":\"금연객실\",\"cta\":{\"title\":\"객실 상세보기\",\"tooltip\":null,\"isClickable\":true},\"useTypes\":[{\"availability\":\"INVALID\",\"invalidReason\":\"NOT_SERVICED_INVENTORY\",\"useTypeTitle\":\"숙박\",\"useTypeSubTitle\":\"(15:00~)\",\"timeInfo\":null,\"discountDescription\":null,\"hotDeal\":false,\"discountBadgeIcon\":null,\"maxDiscountRate\":null,\"minAverageRackRate\":null,\"minAverageRate\":55000,\"soldOutLabel\":\"판매완료\",\"capacityLabel\":null,\"couponInfo\":{\"available\":false,\"appliedRate\":null,\"couponId\":null,\"type\":null,\"ratio\":null,\"amount\":null,\"koreanAmount\":null,\"icon\":null}}]},{\"roomTypeId\":455361,\"roomTypeName\":\"디럭스 쿼드러플룸 + 개인욕실-2\",\"photos\":[{\"photoURL\":\"https://yaimg.yanolja.com/v5/2022/11/11/16/640/636e71b9322679.74256061.jpg\",\"bigSizePhotoURL\":\"https://yaimg.yanolja.com/v5/2022/11/11/16/1280/636e71b9322679.74256061.jpg\"},{\"photoURL\":\"https://yaimg.yanolja.com/v5/2022/11/11/16/640/636e71b9b7fc32.93370466.jpg\",\"bigSizePhotoURL\":\"https://yaimg.yanolja.com/v5/2022/11/11/16/1280/636e71b9b7fc32.93370466.jpg\"},{\"photoURL\":\"https://yaimg.yanolja.com/v5/2022/11/11/16/640/636e71ba3fc458.61971118.jpg\",\"bigSizePhotoURL\":\"https://yaimg.yanolja.com/v5/2022/11/11/16/1280/636e71ba3fc458.61971118.jpg\"},{\"photoURL\":\"https://yaimg.yanolja.com/v5/2022/11/11/16/640/636e71bad028b8.57538413.jpg\",\"bigSizePhotoURL\":\"https://yaimg.yanolja.com/v5/2022/11/11/16/1280/636e71bad028b8.57538413.jpg\"},{\"photoURL\":\"https://yaimg.yanolja.com/v5/2022/11/11/16/640/636e71bb5aad40.71142041.jpg\",\"bigSizePhotoURL\":\"https://yaimg.yanolja.com/v5/2022/11/11/16/1280/636e71bb5aad40.71142041.jpg\"},{\"photoURL\":\"https://yaimg.yanolja.com/v5/2022/11/11/16/640/636e71bc038386.82408802.jpg\",\"bigSizePhotoURL\":\"https://yaimg.yanolja.com/v5/2022/11/11/16/1280/636e71bc038386.82408802.jpg\"},{\"photoURL\":\"https://yaimg.yanolja.com/v5/2022/11/11/16/640/636e71bc7b27d3.02752449.jpg\",\"bigSizePhotoURL\":\"https://yaimg.yanolja.com/v5/2022/11/11/16/1280/636e71bc7b27d3.02752449.jpg\"},{\"photoURL\":\"https://yaimg.yanolja.com/v5/2022/11/11/16/640/636e71bd09a5a9.45566711.jpg\",\"bigSizePhotoURL\":\"https://yaimg.yanolja.com/v5/2022/11/11/16/1280/636e71bd09a5a9.45566711.jpg\"}],\"vr\":[],\"myRoomCoupon\":false,\"needLogin\":false,\"hideWeb\":false,\"roomTypeSubTitle\":\"4인실\",\"sizeInfo\":null,\"capacityInfo\":\"기준 4인 / 최대 4인\",\"bedInfos\":[],\"viewInfos\":[],\"smokingInfo\":\"금연객실\",\"cta\":{\"title\":\"객실 상세보기\",\"tooltip\":null,\"isClickable\":true},\"useTypes\":[{\"availability\":\"INVALID\",\"invalidReason\":\"NOT_SERVICED_INVENTORY\",\"useTypeTitle\":\"숙박\",\"useTypeSubTitle\":\"(15:00~)\",\"timeInfo\":null,\"discountDescription\":null,\"hotDeal\":false,\"discountBadgeIcon\":null,\"maxDiscountRate\":null,\"minAverageRackRate\":null,\"minAverageRate\":100000,\"soldOutLabel\":\"판매완료\",\"capacityLabel\":null,\"couponInfo\":{\"available\":false,\"appliedRate\":null,\"couponId\":null,\"type\":null,\"ratio\":null,\"amount\":null,\"koreanAmount\":null,\"icon\":null}}]},{\"roomTypeId\":440037,\"roomTypeName\":\"디럭스 쿼드러플룸 + 개인욕실\",\"photos\":[{\"photoURL\":\"https://yaimg.yanolja.com/v5/2022/11/11/16/640/636e71ad4c18a6.36385063.jpg\",\"bigSizePhotoURL\":\"https://yaimg.yanolja.com/v5/2022/11/11/16/1280/636e71ad4c18a6.36385063.jpg\"},{\"photoURL\":\"https://yaimg.yanolja.com/v5/2022/11/11/16/640/636e71adc73c73.04217683.jpg\",\"bigSizePhotoURL\":\"https://yaimg.yanolja.com/v5/2022/11/11/16/1280/636e71adc73c73.04217683.jpg\"},{\"photoURL\":\"https://yaimg.yanolja.com/v5/2022/11/11/16/640/636e71ae640ee5.62416329.jpg\",\"bigSizePhotoURL\":\"https://yaimg.yanolja.com/v5/2022/11/11/16/1280/636e71ae640ee5.62416329.jpg\"},{\"photoURL\":\"https://yaimg.yanolja.com/v5/2022/11/11/16/640/636e71af04cec8.10598060.jpg\",\"bigSizePhotoURL\":\"https://yaimg.yanolja.com/v5/2022/11/11/16/1280/636e71af04cec8.10598060.jpg\"},{\"photoURL\":\"https://yaimg.yanolja.com/v5/2022/11/11/16/640/636e71af9af551.92923503.jpg\",\"bigSizePhotoURL\":\"https://yaimg.yanolja.com/v5/2022/11/11/16/1280/636e71af9af551.92923503.jpg\"},{\"photoURL\":\"https://yaimg.yanolja.com/v5/2022/11/11/16/640/636e71b0621d09.56512443.jpg\",\"bigSizePhotoURL\":\"https://yaimg.yanolja.com/v5/2022/11/11/16/1280/636e71b0621d09.56512443.jpg\"},{\"photoURL\":\"https://yaimg.yanolja.com/v5/2022/11/11/16/640/636e71b0e7b3b9.79881417.jpg\",\"bigSizePhotoURL\":\"https://yaimg.yanolja.com/v5/2022/11/11/16/1280/636e71b0e7b3b9.79881417.jpg\"},{\"photoURL\":\"https://yaimg.yanolja.com/v5/2022/11/11/16/640/636e71b18e8797.40165182.jpg\",\"bigSizePhotoURL\":\"https://yaimg.yanolja.com/v5/2022/11/11/16/1280/636e71b18e8797.40165182.jpg\"}],\"vr\":[],\"myRoomCoupon\":false,\"needLogin\":false,\"hideWeb\":false,\"roomTypeSubTitle\":\"4인실\",\"sizeInfo\":null,\"capacityInfo\":\"기준 4인 / 최대 4인\",\"bedInfos\":[],\"viewInfos\":[],\"smokingInfo\":\"금연객실\",\"cta\":{\"title\":\"객실 상세보기\",\"tooltip\":null,\"isClickable\":true},\"useTypes\":[{\"availability\":\"INVALID\",\"invalidReason\":\"NOT_SERVICED_INVENTORY\",\"useTypeTitle\":\"숙박\",\"useTypeSubTitle\":\"(15:00~)\",\"timeInfo\":null,\"discountDescription\":null,\"hotDeal\":false,\"discountBadgeIcon\":null,\"maxDiscountRate\":null,\"minAverageRackRate\":null,\"minAverageRate\":100000,\"soldOutLabel\":\"판매완료\",\"capacityLabel\":null,\"couponInfo\":{\"available\":false,\"appliedRate\":null,\"couponId\":null,\"type\":null,\"ratio\":null,\"amount\":null,\"koreanAmount\":null,\"icon\":null}}]},{\"roomTypeId\":440038,\"roomTypeName\":\"패밀리룸 + 개인욕실\",\"photos\":[{\"photoURL\":\"https://yaimg.yanolja.com/v5/2022/11/11/16/640/636e71b42fac59.72027215.jpg\",\"bigSizePhotoURL\":\"https://yaimg.yanolja.com/v5/2022/11/11/16/1280/636e71b42fac59.72027215.jpg\"},{\"photoURL\":\"https://yaimg.yanolja.com/v5/2022/11/11/16/640/636e71b4b29d38.18238152.jpg\",\"bigSizePhotoURL\":\"https://yaimg.yanolja.com/v5/2022/11/11/16/1280/636e71b4b29d38.18238152.jpg\"},{\"photoURL\":\"https://yaimg.yanolja.com/v5/2022/11/11/16/640/636e71b551d889.49651425.jpg\",\"bigSizePhotoURL\":\"https://yaimg.yanolja.com/v5/2022/11/11/16/1280/636e71b551d889.49651425.jpg\"},{\"photoURL\":\"https://yaimg.yanolja.com/v5/2022/11/11/16/640/636e71b5c67593.20127310.jpg\",\"bigSizePhotoURL\":\"https://yaimg.yanolja.com/v5/2022/11/11/16/1280/636e71b5c67593.20127310.jpg\"},{\"photoURL\":\"https://yaimg.yanolja.com/v5/2022/11/11/16/640/636e71b65b7be4.23410930.jpg\",\"bigSizePhotoURL\":\"https://yaimg.yanolja.com/v5/2022/11/11/16/1280/636e71b65b7be4.23410930.jpg\"},{\"photoURL\":\"https://yaimg.yanolja.com/v5/2022/11/11/16/640/636e71b6eac859.52229683.jpg\",\"bigSizePhotoURL\":\"https://yaimg.yanolja.com/v5/2022/11/11/16/1280/636e71b6eac859.52229683.jpg\"},{\"photoURL\":\"https://yaimg.yanolja.com/v5/2022/11/11/16/640/636e71b76edec1.34905502.jpg\",\"bigSizePhotoURL\":\"https://yaimg.yanolja.com/v5/2022/11/11/16/1280/636e71b76edec1.34905502.jpg\"},{\"photoURL\":\"https://yaimg.yanolja.com/v5/2022/11/11/16/640/636e71b80b9b24.75032519.jpg\",\"bigSizePhotoURL\":\"https://yaimg.yanolja.com/v5/2022/11/11/16/1280/636e71b80b9b24.75032519.jpg\"}],\"vr\":[],\"myRoomCoupon\":false,\"needLogin\":false,\"hideWeb\":false,\"roomTypeSubTitle\":\"6인실\",\"sizeInfo\":null,\"capacityInfo\":\"기준 6인 / 최대 6인\",\"bedInfos\":[],\"viewInfos\":[],\"smokingInfo\":\"금연객실\",\"cta\":{\"title\":\"객실 상세보기\",\"tooltip\":null,\"isClickable\":true},\"useTypes\":[{\"availability\":\"INVALID\",\"invalidReason\":\"NOT_SERVICED_INVENTORY\",\"useTypeTitle\":\"숙박\",\"useTypeSubTitle\":\"(15:00~)\",\"timeInfo\":null,\"discountDescription\":null,\"hotDeal\":false,\"discountBadgeIcon\":null,\"maxDiscountRate\":null,\"minAverageRackRate\":null,\"minAverageRate\":120000,\"soldOutLabel\":\"판매완료\",\"capacityLabel\":null,\"couponInfo\":{\"available\":false,\"appliedRate\":null,\"couponId\":null,\"type\":null,\"ratio\":null,\"amount\":null,\"koreanAmount\":null,\"icon\":null}}]},{\"roomTypeId\":440039,\"roomTypeName\":\"디럭스 패밀리룸 + 개인욕실\",\"photos\":[{\"photoURL\":\"https://yaimg.yanolja.com/v5/2022/11/11/16/640/636e71a93b6716.57453891.jpg\",\"bigSizePhotoURL\":\"https://yaimg.yanolja.com/v5/2022/11/11/16/1280/636e71a93b6716.57453891.jpg\"},{\"photoURL\":\"https://yaimg.yanolja.com/v5/2022/11/11/16/640/636e71a9db8409.33166399.jpg\",\"bigSizePhotoURL\":\"https://yaimg.yanolja.com/v5/2022/11/11/16/1280/636e71a9db8409.33166399.jpg\"},{\"photoURL\":\"https://yaimg.yanolja.com/v5/2022/11/11/16/640/636e71aa767f84.63177553.jpg\",\"bigSizePhotoURL\":\"https://yaimg.yanolja.com/v5/2022/11/11/16/1280/636e71aa767f84.63177553.jpg\"},{\"photoURL\":\"https://yaimg.yanolja.com/v5/2022/11/11/16/640/636e71ab1681a9.79943575.jpg\",\"bigSizePhotoURL\":\"https://yaimg.yanolja.com/v5/2022/11/11/16/1280/636e71ab1681a9.79943575.jpg\"},{\"photoURL\":\"https://yaimg.yanolja.com/v5/2022/11/11/16/640/636e71ab9960e6.63292445.jpg\",\"bigSizePhotoURL\":\"https://yaimg.yanolja.com/v5/2022/11/11/16/1280/636e71ab9960e6.63292445.jpg\"},{\"photoURL\":\"https://yaimg.yanolja.com/v5/2022/11/11/16/640/636e71ac594301.40885570.jpg\",\"bigSizePhotoURL\":\"https://yaimg.yanolja.com/v5/2022/11/11/16/1280/636e71ac594301.40885570.jpg\"},{\"photoURL\":\"https://yaimg.yanolja.com/v5/2022/11/11/16/640/636e71acdeca68.63529656.jpg\",\"bigSizePhotoURL\":\"https://yaimg.yanolja.com/v5/2022/11/11/16/1280/636e71acdeca68.63529656.jpg\"},{\"photoURL\":\"https://yaimg.yanolja.com/v5/2022/11/11/16/640/636e71ad6ffd85.62915132.jpg\",\"bigSizePhotoURL\":\"https://yaimg.yanolja.com/v5/2022/11/11/16/1280/636e71ad6ffd85.62915132.jpg\"}],\"vr\":[],\"myRoomCoupon\":false,\"needLogin\":false,\"hideWeb\":false,\"roomTypeSubTitle\":\"8인실\",\"sizeInfo\":null,\"capacityInfo\":\"기준 8인 / 최대 8인\",\"bedInfos\":[],\"viewInfos\":[],\"smokingInfo\":\"금연객실\",\"cta\":{\"title\":\"객실 상세보기\",\"tooltip\":null,\"isClickable\":true},\"useTypes\":[{\"availability\":\"INVALID\",\"invalidReason\":\"NOT_SERVICED_INVENTORY\",\"useTypeTitle\":\"숙박\",\"useTypeSubTitle\":\"(15:00~)\",\"timeInfo\":null,\"discountDescription\":null,\"hotDeal\":false,\"discountBadgeIcon\":null,\"maxDiscountRate\":null,\"minAverageRackRate\":null,\"minAverageRate\":140000,\"soldOutLabel\":\"판매완료\",\"capacityLabel\":null,\"couponInfo\":{\"available\":false,\"appliedRate\":null,\"couponId\":null,\"type\":null,\"ratio\":null,\"amount\":null,\"koreanAmount\":null,\"icon\":null}}]},{\"roomTypeId\":440040,\"roomTypeName\":\"디럭스 대형패밀리룸 +개인욕실\",\"photos\":[{\"photoURL\":\"https://yaimg.yanolja.com/v5/2022/11/11/16/640/636e71c33b8b24.43963365.jpg\",\"bigSizePhotoURL\":\"https://yaimg.yanolja.com/v5/2022/11/11/16/1280/636e71c33b8b24.43963365.jpg\"},{\"photoURL\":\"https://yaimg.yanolja.com/v5/2022/11/11/16/640/636e71c405c074.93690779.jpg\",\"bigSizePhotoURL\":\"https://yaimg.yanolja.com/v5/2022/11/11/16/1280/636e71c405c074.93690779.jpg\"},{\"photoURL\":\"https://yaimg.yanolja.com/v5/2022/11/11/16/640/636e71c49e2661.11895807.jpg\",\"bigSizePhotoURL\":\"https://yaimg.yanolja.com/v5/2022/11/11/16/1280/636e71c49e2661.11895807.jpg\"},{\"photoURL\":\"https://yaimg.yanolja.com/v5/2022/11/11/16/640/636e71c557cbe9.38939380.jpg\",\"bigSizePhotoURL\":\"https://yaimg.yanolja.com/v5/2022/11/11/16/1280/636e71c557cbe9.38939380.jpg\"},{\"photoURL\":\"https://yaimg.yanolja.com/v5/2022/11/11/16/640/636e71c5f28068.10203024.jpg\",\"bigSizePhotoURL\":\"https://yaimg.yanolja.com/v5/2022/11/11/16/1280/636e71c5f28068.10203024.jpg\"}],\"vr\":[],\"myRoomCoupon\":false,\"needLogin\":false,\"hideWeb\":false,\"roomTypeSubTitle\":\"10인실\",\"sizeInfo\":null,\"capacityInfo\":\"기준 10인 / 최대 10인\",\"bedInfos\":[],\"viewInfos\":[],\"smokingInfo\":\"금연객실\",\"cta\":{\"title\":\"객실 상세보기\",\"tooltip\":null,\"isClickable\":true},\"useTypes\":[{\"availability\":\"INVALID\",\"invalidReason\":\"NOT_SERVICED_INVENTORY\",\"useTypeTitle\":\"숙박\",\"useTypeSubTitle\":\"(15:00~)\",\"timeInfo\":null,\"discountDescription\":null,\"hotDeal\":false,\"discountBadgeIcon\":null,\"maxDiscountRate\":null,\"minAverageRackRate\":null,\"minAverageRate\":160000,\"soldOutLabel\":\"판매완료\",\"capacityLabel\":null,\"couponInfo\":{\"available\":false,\"appliedRate\":null,\"couponId\":null,\"type\":null,\"ratio\":null,\"amount\":null,\"koreanAmount\":null,\"icon\":null}}]},{\"roomTypeId\":440041,\"roomTypeName\":\"더블룸 + 공용욕실\",\"photos\":[{\"photoURL\":\"https://yaimg.yanolja.com/v5/2022/11/11/16/640/636e71b2305a57.80217396.jpg\",\"bigSizePhotoURL\":\"https://yaimg.yanolja.com/v5/2022/11/11/16/1280/636e71b2305a57.80217396.jpg\"},{\"photoURL\":\"https://yaimg.yanolja.com/v5/2022/11/11/16/640/636e71b2ad1325.61632672.jpg\",\"bigSizePhotoURL\":\"https://yaimg.yanolja.com/v5/2022/11/11/16/1280/636e71b2ad1325.61632672.jpg\"}],\"vr\":[],\"myRoomCoupon\":false,\"needLogin\":false,\"hideWeb\":false,\"roomTypeSubTitle\":null,\"sizeInfo\":null,\"capacityInfo\":\"기준 2인 / 최대 2인\",\"bedInfos\":[\"더블 침대 1개\"],\"viewInfos\":[],\"smokingInfo\":\"금연객실\",\"cta\":{\"title\":\"객실 상세보기\",\"tooltip\":null,\"isClickable\":true},\"useTypes\":[{\"availability\":\"INVALID\",\"invalidReason\":\"NOT_SERVICED_INVENTORY\",\"useTypeTitle\":\"숙박\",\"useTypeSubTitle\":\"(15:00~)\",\"timeInfo\":null,\"discountDescription\":null,\"hotDeal\":false,\"discountBadgeIcon\":null,\"maxDiscountRate\":null,\"minAverageRackRate\":null,\"minAverageRate\":55000,\"soldOutLabel\":\"판매완료\",\"capacityLabel\":null,\"couponInfo\":{\"available\":false,\"appliedRate\":null,\"couponId\":null,\"type\":null,\"ratio\":null,\"amount\":null,\"koreanAmount\":null,\"icon\":null}}]},{\"roomTypeId\":440042,\"roomTypeName\":\"4인실 + 공용욕실\",\"photos\":[{\"photoURL\":\"https://yaimg.yanolja.com/v5/2022/11/11/16/640/636e71c4570cd2.88650669.jpg\",\"bigSizePhotoURL\":\"https://yaimg.yanolja.com/v5/2022/11/11/16/1280/636e71c4570cd2.88650669.jpg\"},{\"photoURL\":\"https://yaimg.yanolja.com/v5/2022/11/11/16/640/636e71c4c9f4a6.81706797.jpg\",\"bigSizePhotoURL\":\"https://yaimg.yanolja.com/v5/2022/11/11/16/1280/636e71c4c9f4a6.81706797.jpg\"},{\"photoURL\":\"https://yaimg.yanolja.com/v5/2022/11/11/16/640/636e71c5721688.59737776.jpg\",\"bigSizePhotoURL\":\"https://yaimg.yanolja.com/v5/2022/11/11/16/1280/636e71c5721688.59737776.jpg\"},{\"photoURL\":\"https://yaimg.yanolja.com/v5/2022/11/11/16/640/636e71c6293140.88873632.jpg\",\"bigSizePhotoURL\":\"https://yaimg.yanolja.com/v5/2022/11/11/16/1280/636e71c6293140.88873632.jpg\"},{\"photoURL\":\"https://yaimg.yanolja.com/v5/2022/11/11/16/640/636e71c6c91494.61755424.jpg\",\"bigSizePhotoURL\":\"https://yaimg.yanolja.com/v5/2022/11/11/16/1280/636e71c6c91494.61755424.jpg\"}],\"vr\":[],\"myRoomCoupon\":false,\"needLogin\":false,\"hideWeb\":false,\"roomTypeSubTitle\":null,\"sizeInfo\":null,\"capacityInfo\":\"기준 3인 / 최대 3인\",\"bedInfos\":[],\"viewInfos\":[],\"smokingInfo\":\"금연객실\",\"cta\":{\"title\":\"객실 상세보기\",\"tooltip\":null,\"isClickable\":true},\"useTypes\":[{\"availability\":\"INVALID\",\"invalidReason\":\"NOT_SERVICED_INVENTORY\",\"useTypeTitle\":\"숙박\",\"useTypeSubTitle\":\"(15:00~)\",\"timeInfo\":null,\"discountDescription\":null,\"hotDeal\":false,\"discountBadgeIcon\":null,\"maxDiscountRate\":null,\"minAverageRackRate\":null,\"minAverageRate\":95000,\"soldOutLabel\":\"판매완료\",\"capacityLabel\":null,\"couponInfo\":{\"available\":false,\"appliedRate\":null,\"couponId\":null,\"type\":null,\"ratio\":null,\"amount\":null,\"koreanAmount\":null,\"icon\":null}}]}],\"expMeta\":null},\"placeNo\":\"10043042\",\"isFavorite\":false,\"checkInNow\":false,\"srpKeyword\":\"\",\"policyUrl\":\"https://policy.yanolja.com/\",\"today\":\"2023-05-11\",\"latitude\":null,\"longitude\":null,\"cartIndicator\":0},\"trpcState\":{\"mutations\":[],\"queries\":[]}},\"__N_SSP\":true},\"page\":\"/places/[place_no]\",\"query\":{\"place_no\":\"10043042\"},\"buildId\":\"ZvQE45uBcgEvRMUxm6fGB\",\"assetPrefix\":\"https://assets.yanolja.com/fbf460493090a17fa0c32461a55fc890a6a3b3fc/202305111352\",\"isFallback\":false,\"dynamicIds\":[47709],\"gssp\":true,\"appGip\":true,\"scriptLoader\":[]}</script><span aria-hidden=\"true\" itemtype=\"http://schema.org/Organization\"><link href=\"https://www.yanolja.com\" itemprop=\"url\"/><a href=\"https://www.facebook.com/yanolja/\" itemprop=\"sameAs\"></a><a href=\"https://www.instagram.com/yanolja.official/\" itemprop=\"sameAs\"></a><a href=\"https://www.youtube.com/user/yanoljamedia\" itemprop=\"sameAs\"></a><a href=\"http://tv.naver.com/yanolja\" itemprop=\"sameAs\"></a><a href=\"http://post.naver.com/my.nhn?memberNo=2768780\" itemprop=\"sameAs\"></a><a href=\"http://blog.naver.com/yanolog\" itemprop=\"sameAs\"></a><a href=\"https://play.google.com/store/apps/details?id=com.cultsotry.yanolja.nativeapp\" itemprop=\"sameAs\"></a><a href=\"https://itunes.apple.com/kr/app/%EC%95%BC%EB%86%80%EC%9E%90/id436731843?mt=8\" itemprop=\"sameAs\"></a><a href=\"https://yanolja.github.io/\" itemprop=\"sameAs\"></a></span><div id=\"_ROOT_MODAL_\" style=\"position: relative; z-index: 1;\"><div id=\"modal-dialog\"><div></div><div></div><div></div><div></div><div></div><div></div><div></div><div></div><div></div><div></div><div></div><div></div><div></div><div></div><div></div><div></div><div></div><div></div><div></div><div></div><div></div><div></div><div></div><div></div><div></div><div></div></div><div id=\"modal-refresh-indicator\"><div></div></div><div id=\"modal-toast\"><div></div></div></div><script async=\"\" src=\"https://www.googletagmanager.com/gtag/js?id=UA-87400434-10\"></script><next-route-announcer><p aria-live=\"assertive\" id=\"__next-route-announcer__\" role=\"alert\" style=\"border: 0px; clip: rect(0px, 0px, 0px, 0px); height: 1px; margin: -1px; overflow: hidden; padding: 0px; position: absolute; width: 1px; white-space: nowrap; overflow-wrap: normal;\"></p></next-route-announcer></body></html>"
      ]
     },
     "execution_count": 17,
     "metadata": {},
     "output_type": "execute_result"
    }
   ],
   "source": [
    "sub_soup"
   ]
  },
  {
   "cell_type": "code",
   "execution_count": 18,
   "id": "526195e3",
   "metadata": {},
   "outputs": [],
   "source": [
    "sub_lis = sub_soup.find('div',attrs={'class':'css-gs34ha'})"
   ]
  },
  {
   "cell_type": "code",
   "execution_count": 19,
   "id": "204715ab",
   "metadata": {},
   "outputs": [],
   "source": [
    "title = sub_lis.find('div',attrs={'class':'property-title'}).text #건물이름\n",
    "star = sub_lis.find('span',attrs={'css-1m0vwjv'}).text #평점\n",
    "posi = sub_lis.find('span',attrs={'css-1tv2ofu'}).text #역과의 거리"
   ]
  },
  {
   "cell_type": "code",
   "execution_count": 20,
   "id": "d1767ad4",
   "metadata": {},
   "outputs": [
    {
     "data": {
      "text/plain": [
       "'서울 명동루프탑호스텔'"
      ]
     },
     "execution_count": 20,
     "metadata": {},
     "output_type": "execute_result"
    }
   ],
   "source": [
    "title"
   ]
  },
  {
   "cell_type": "code",
   "execution_count": 21,
   "id": "9b11bc74",
   "metadata": {},
   "outputs": [
    {
     "data": {
      "text/plain": [
       "[<div class=\"css-9cehu5\">흡연구역</div>, <div class=\"css-9cehu5\">객실금연</div>]"
      ]
     },
     "execution_count": 21,
     "metadata": {},
     "output_type": "execute_result"
    }
   ],
   "source": [
    "tag = sub_lis.select('ul.css-17yp1q4 > div.css-t9n8kv > div.css-9cehu5')\n",
    "tag"
   ]
  },
  {
   "cell_type": "code",
   "execution_count": 22,
   "id": "a5977b55",
   "metadata": {},
   "outputs": [
    {
     "data": {
      "text/plain": [
       "[]"
      ]
     },
     "execution_count": 22,
     "metadata": {},
     "output_type": "execute_result"
    }
   ],
   "source": [
    "re = soup.find_all('div',attrs={'class':'css-1wnvjz2'}) \n",
    "re"
   ]
  },
  {
   "cell_type": "code",
   "execution_count": 23,
   "id": "d5fc2e76",
   "metadata": {},
   "outputs": [],
   "source": [
    "driver.find_element(by=By.XPATH ,value='//*[@id=\"__next\"]/div/div/main/article/div[1]/div[1]/div[5]/div/span').click()\n",
    "soup = BeautifulSoup(driver.page_source,'html.parser')"
   ]
  },
  {
   "cell_type": "code",
   "execution_count": 24,
   "id": "3cd7b919",
   "metadata": {},
   "outputs": [
    {
     "data": {
      "text/plain": [
       "'서울특별시 중구 퇴계로20길 47 2층050350592660'"
      ]
     },
     "execution_count": 24,
     "metadata": {},
     "output_type": "execute_result"
    }
   ],
   "source": [
    "gps = soup.find('div',attrs={'class':'css-1yjxi0j'}).text\n",
    "gps"
   ]
  },
  {
   "cell_type": "code",
   "execution_count": 25,
   "id": "59dcd45d",
   "metadata": {},
   "outputs": [
    {
     "name": "stderr",
     "output_type": "stream",
     "text": [
      " 58%|███████████████████████████████████████████████▌                                  | 18/31 [04:43<03:23, 15.67s/it]"
     ]
    },
    {
     "name": "stdout",
     "output_type": "stream",
     "text": [
      "null\n"
     ]
    },
    {
     "name": "stderr",
     "output_type": "stream",
     "text": [
      "\r",
      " 61%|██████████████████████████████████████████████████▎                               | 19/31 [04:54<02:51, 14.33s/it]"
     ]
    },
    {
     "name": "stdout",
     "output_type": "stream",
     "text": [
      "null\n"
     ]
    },
    {
     "name": "stderr",
     "output_type": "stream",
     "text": [
      "\r",
      " 65%|████████████████████████████████████████████████████▉                             | 20/31 [05:05<02:27, 13.43s/it]"
     ]
    },
    {
     "name": "stdout",
     "output_type": "stream",
     "text": [
      "null\n"
     ]
    },
    {
     "name": "stderr",
     "output_type": "stream",
     "text": [
      "\r",
      " 68%|███████████████████████████████████████████████████████▌                          | 21/31 [05:17<02:09, 12.91s/it]"
     ]
    },
    {
     "name": "stdout",
     "output_type": "stream",
     "text": [
      "null\n"
     ]
    },
    {
     "name": "stderr",
     "output_type": "stream",
     "text": [
      "\r",
      " 71%|██████████████████████████████████████████████████████████▏                       | 22/31 [05:28<01:51, 12.42s/it]"
     ]
    },
    {
     "name": "stdout",
     "output_type": "stream",
     "text": [
      "null\n"
     ]
    },
    {
     "name": "stderr",
     "output_type": "stream",
     "text": [
      "\r",
      " 74%|████████████████████████████████████████████████████████████▊                     | 23/31 [05:39<01:36, 12.02s/it]"
     ]
    },
    {
     "name": "stdout",
     "output_type": "stream",
     "text": [
      "null\n"
     ]
    },
    {
     "name": "stderr",
     "output_type": "stream",
     "text": [
      "\r",
      " 77%|███████████████████████████████████████████████████████████████▍                  | 24/31 [05:51<01:22, 11.84s/it]"
     ]
    },
    {
     "name": "stdout",
     "output_type": "stream",
     "text": [
      "null\n"
     ]
    },
    {
     "name": "stderr",
     "output_type": "stream",
     "text": [
      "\r",
      " 81%|██████████████████████████████████████████████████████████████████▏               | 25/31 [06:02<01:09, 11.66s/it]"
     ]
    },
    {
     "name": "stdout",
     "output_type": "stream",
     "text": [
      "null\n"
     ]
    },
    {
     "name": "stderr",
     "output_type": "stream",
     "text": [
      "\r",
      " 84%|████████████████████████████████████████████████████████████████████▊             | 26/31 [06:13<00:57, 11.55s/it]"
     ]
    },
    {
     "name": "stdout",
     "output_type": "stream",
     "text": [
      "null\n"
     ]
    },
    {
     "name": "stderr",
     "output_type": "stream",
     "text": [
      "\r",
      " 87%|███████████████████████████████████████████████████████████████████████▍          | 27/31 [06:24<00:45, 11.42s/it]"
     ]
    },
    {
     "name": "stdout",
     "output_type": "stream",
     "text": [
      "null\n"
     ]
    },
    {
     "name": "stderr",
     "output_type": "stream",
     "text": [
      "\r",
      " 90%|██████████████████████████████████████████████████████████████████████████        | 28/31 [06:40<00:38, 12.71s/it]"
     ]
    },
    {
     "name": "stdout",
     "output_type": "stream",
     "text": [
      "null\n"
     ]
    },
    {
     "name": "stderr",
     "output_type": "stream",
     "text": [
      "\r",
      " 94%|████████████████████████████████████████████████████████████████████████████▋     | 29/31 [06:56<00:27, 13.60s/it]"
     ]
    },
    {
     "name": "stdout",
     "output_type": "stream",
     "text": [
      "null\n"
     ]
    },
    {
     "name": "stderr",
     "output_type": "stream",
     "text": [
      "\r",
      " 97%|███████████████████████████████████████████████████████████████████████████████▎  | 30/31 [07:07<00:12, 12.86s/it]"
     ]
    },
    {
     "name": "stdout",
     "output_type": "stream",
     "text": [
      "null\n"
     ]
    },
    {
     "name": "stderr",
     "output_type": "stream",
     "text": [
      "100%|██████████████████████████████████████████████████████████████████████████████████| 31/31 [07:22<00:00, 14.29s/it]\n"
     ]
    }
   ],
   "source": [
    "num = random.randrange(2,3)\n",
    "lines=[]\n",
    "\n",
    "base = 'https://www.yanolja.com'\n",
    "url = base + '/pension/r-900270?advert=AREA&topAdvertiseMore=1'\n",
    "driver = webdriver.Chrome()\n",
    "driver.get(url)  #페이지열기\n",
    "\n",
    "last_height = driver.execute_script(\"return document.body.scrollHeight\")\n",
    "while True:\n",
    "    # 끝까지 스크롤 다운\n",
    "    driver.execute_script(\"window.scrollTo(0, document.body.scrollHeight);\")\n",
    "\n",
    "    # 2초 대기\n",
    "    time.sleep(2)\n",
    "\n",
    "    # 스크롤 다운 후 스크롤 높이 다시 가져옴\n",
    "    new_height = driver.execute_script(\"return document.body.scrollHeight\")\n",
    "    if new_height == last_height:\n",
    "        break\n",
    "    last_height = new_height\n",
    "    \n",
    "soup = BeautifulSoup(driver.page_source,'html.parser')\n",
    "lis = soup.find_all('div',attrs={'class':'PlaceListItemText_container__fUIgA text-unit'})\n",
    "time.sleep(10)\n",
    "for li in tqdm(lis):\n",
    "    atag = []\n",
    "    ganswer_list=[]\n",
    "    banswer_list=[]\n",
    "    price = li.find('span',attrs={'class':'PlacePriceInfo_salePrice__28VZD'}).text.replace('원','').replace(',','')\n",
    "    href = li.find('a')['href']\n",
    "    sub_url = base+href\n",
    "    driver.get(sub_url)\n",
    "    time.sleep(num)\n",
    "    soup = BeautifulSoup(driver.page_source,'html.parser')\n",
    "#     lis = sub_soup.find('div',attrs={'class':'css-gs34ha'})\n",
    "    try:\n",
    "        cnt = int(soup.find('span',attrs={'class':'css-id2b0n'}).text.replace('(','').replace(')','').replace(',',''))\n",
    "    except:\n",
    "        cnt = 0\n",
    "    title = soup.find('div',attrs={'class':'property-title'}).text #건물이름\n",
    "    try:\n",
    "        grad = soup.find('span',attrs={'css-1m0vwjv'}).text #평점\n",
    "    except:\n",
    "        print('null')    \n",
    "    dist = soup.find('span',attrs={'css-1tv2ofu'}).text #역과의 거리\n",
    "    tags = soup.select('ul.css-17yp1q4 > div.css-t9n8kv > div.css-9cehu5')# 테그\n",
    "    for tag in tags:\n",
    "        tag = tag.text\n",
    "        atag.append(tag)\n",
    "            \n",
    "    driver.find_element(By.CSS_SELECTOR ,value='#__next > div > div > main > article > div:nth-child(2) > div > div.css-1urbzj6 > div > button:nth-child(4)').click()\n",
    "    time.sleep(num)\n",
    "    soup = BeautifulSoup(driver.page_source,'html.parser')\n",
    "    room_num = soup.find('div',attrs={'class':'description'}).text.replace('개','') # 총객실수\n",
    "    try:\n",
    "        if cnt >= 200:        \n",
    "            driver.find_element(By.CSS_SELECTOR ,value='#__next > div > div > main > article > div:nth-child(2) > div > div.css-1urbzj6 > div > button:nth-child(5)').click()\n",
    "            time.sleep(1)\n",
    "            driver.find_element(By.XPATH ,value='//*[@id=\"__next\"]/div/div/main/article/div[2]/div/div[2]/div/div[2]/div/div[2]/div[1]').click()\n",
    "            soup = BeautifulSoup(driver.page_source,'html.parser') \n",
    "            driver.find_element(By.CSS_SELECTOR ,value='#BOTTOM_SHEET > div.css-gqqlqe > li:nth-child(2)').click()\n",
    "            time.sleep(1)\n",
    "            i = 0\n",
    "            last_height = driver.execute_script(\"return document.body.scrollHeight\")\n",
    "            while i<5:\n",
    "                i=i+1\n",
    "                # 끝까지 스크롤 다운\n",
    "                driver.execute_script(\"window.scrollTo(0, document.body.scrollHeight);\")\n",
    "                time.sleep(1)\n",
    "                # 스크롤 다운 후 스크롤 높이 다시 가져옴\n",
    "                new_height = driver.execute_script(\"return document.body.scrollHeight\")\n",
    "                if new_height == last_height:\n",
    "                    break\n",
    "                last_height = new_height\n",
    "            soup = BeautifulSoup(driver.page_source,'html.parser')    \n",
    "            gdivs = soup.find_all('div',attrs={'class':'css-1wnvjz2'}) #후기\n",
    "            for gdiv in gdivs:\n",
    "                gdiv=gdiv.text\n",
    "                ganswer_list.append(gdiv)\n",
    "                \n",
    "            driver.get(sub_url)    \n",
    "            time.sleep(1)\n",
    "            driver.find_element(By.CSS_SELECTOR ,value='#__next > div > div > main > article > div:nth-child(2) > div > div.css-1urbzj6 > div > button:nth-child(5)').click()\n",
    "            time.sleep(1)\n",
    "            #후기에서 별점 낮은순=====================  \n",
    "            driver.find_element(By.XPATH ,value='//*[@id=\"__next\"]/div/div/main/article/div[2]/div/div[2]/div/div[2]/div/div[2]/div[1]').click()\n",
    "            time.sleep(1)\n",
    "            soup = BeautifulSoup(driver.page_source,'html.parser')     \n",
    "            driver.find_element(By.XPATH ,value='//*[@id=\"BOTTOM_SHEET\"]/div[2]/li[3]').click()\n",
    "            time.sleep(1)\n",
    "            #페이지다운 5번시작=====================        \n",
    "            i = 0\n",
    "            last_height = driver.execute_script(\"return document.body.scrollHeight\")\n",
    "            while i<5:\n",
    "                i=i+1\n",
    "                # 끝까지 스크롤 다운\n",
    "                driver.execute_script(\"window.scrollTo(0, document.body.scrollHeight);\")\n",
    "                # 1초 대기\n",
    "                time.sleep(1)\n",
    "                # 스크롤 다운 후 스크롤 높이 다시 가져옴\n",
    "                new_height = driver.execute_script(\"return document.body.scrollHeight\")\n",
    "                if new_height == last_height:\n",
    "                    break\n",
    "                last_height = new_height\n",
    "            #페이지다운 5번끝=====================        \n",
    "            #100개의 후기정보를 받아와 추가시작=====================        \n",
    "            soup = BeautifulSoup(driver.page_source,'html.parser')    \n",
    "            bdivs = soup.find_all('div',attrs={'class':'css-1wnvjz2'}) #후기 \n",
    "            for bdiv in bdivs:\n",
    "                bdiv=bdiv.text\n",
    "                banswer_list.append(bdiv)\n",
    "            #100개의 후기정보를 받아와 추가끝=====================        \n",
    "            #후기 별점 낮은순 끝=====================                \n",
    "        elif cnt<200:\n",
    "            driver.find_element(By.CSS_SELECTOR ,value='#__next > div > div > main > article > div:nth-child(2) > div > div.css-1urbzj6 > div > button:nth-child(5)').click()\n",
    "            time.sleep(1)\n",
    "            driver.find_element(By.XPATH ,value='//*[@id=\"__next\"]/div/div/main/article/div[2]/div/div[2]/div/div[2]/div/div[2]/div[1]').click()\n",
    "            time.sleep(1)\n",
    "            soup = BeautifulSoup(driver.page_source,'html.parser') \n",
    "            driver.find_element(By.CSS_SELECTOR ,value='#BOTTOM_SHEET > div.css-gqqlqe > li:nth-child(2)').click()\n",
    "            time.sleep(1)\n",
    "            last_height = driver.execute_script(\"return document.body.scrollHeight\")\n",
    "            while True:\n",
    "                driver.execute_script(\"window.scrollTo(0, document.body.scrollHeight);\")\n",
    "                time.sleep(1)\n",
    "                new_height = driver.execute_script(\"return document.body.scrollHeight\")\n",
    "                if new_height == last_height:\n",
    "                    break\n",
    "                last_height = new_height\n",
    "            soup = BeautifulSoup(driver.page_source,'html.parser')    \n",
    "            gdivs = soup.find_all('div',attrs={'class':'css-1wnvjz2'}) #후기\n",
    "            for gdiv in gdivs:\n",
    "                gdiv=gdiv.text\n",
    "                ganswer_list.append(gdiv) \n",
    "    except:\n",
    "        ganswer = 'None'\n",
    "        banswer = 'None'\n",
    "        \n",
    "    driver.get(sub_url)    \n",
    "    time.sleep(num)  \n",
    "    try:\n",
    "        driver.find_element(By.CSS_SELECTOR ,value='#property-sticky-header__portal > div > button:nth-child(2)').click()\n",
    "    except:\n",
    "        driver.find_element(By.CSS_SELECTOR ,value='#__next > div > div > main > article > div:nth-child(2) > div > div.css-1urbzj6 > div > button:nth-child(2)').click()\n",
    "        \n",
    "        time.sleep(1)\n",
    "        soup = BeautifulSoup(driver.page_source,'html.parser')\n",
    "        gps = soup.find('div',attrs={'class':'css-o8j33g'}).select('div')[0].text #위치\n",
    "        \n",
    "    lines.append([title,grad,price,dist,atag,ganswer_list,banswer_list,gps,room_num,cnt])\n",
    "    time.sleep(num)"
   ]
  },
  {
   "cell_type": "code",
   "execution_count": 26,
   "id": "9789eb48",
   "metadata": {},
   "outputs": [],
   "source": [
    "df = pd.DataFrame(lines, columns=['이름', '평점', '가격','도보시간','인기시설 및 서비스','별점 높은순 후기','별점 낮은순 후기','위치','와이파이 가능여부 및 기타','후기 갯수'])"
   ]
  },
  {
   "cell_type": "code",
   "execution_count": 27,
   "id": "dea6580b",
   "metadata": {},
   "outputs": [
    {
     "data": {
      "text/html": [
       "<div>\n",
       "<style scoped>\n",
       "    .dataframe tbody tr th:only-of-type {\n",
       "        vertical-align: middle;\n",
       "    }\n",
       "\n",
       "    .dataframe tbody tr th {\n",
       "        vertical-align: top;\n",
       "    }\n",
       "\n",
       "    .dataframe thead th {\n",
       "        text-align: right;\n",
       "    }\n",
       "</style>\n",
       "<table border=\"1\" class=\"dataframe\">\n",
       "  <thead>\n",
       "    <tr style=\"text-align: right;\">\n",
       "      <th></th>\n",
       "      <th>이름</th>\n",
       "      <th>평점</th>\n",
       "      <th>가격</th>\n",
       "      <th>도보시간</th>\n",
       "      <th>인기시설 및 서비스</th>\n",
       "      <th>별점 높은순 후기</th>\n",
       "      <th>별점 낮은순 후기</th>\n",
       "      <th>위치</th>\n",
       "      <th>와이파이 가능여부 및 기타</th>\n",
       "      <th>후기 갯수</th>\n",
       "    </tr>\n",
       "  </thead>\n",
       "  <tbody>\n",
       "    <tr>\n",
       "      <th>0</th>\n",
       "      <td>서울 명동루프탑호스텔</td>\n",
       "      <td>4.4</td>\n",
       "      <td>예약마감</td>\n",
       "      <td>숙소 위치보기</td>\n",
       "      <td>[흡연구역, 객실금연]</td>\n",
       "      <td>[너무 즐겁게 잘놀다 왔어요, 아이들과 즐거운 추억만들었어요.방이너무 따듯하고좋았어...</td>\n",
       "      <td>[]</td>\n",
       "      <td>서울특별시 중구 퇴계로20길 47 2층</td>\n",
       "      <td>객실금연흡연구역 *전 객실 금연구역입니다.(건물 옥상 흡연가능)</td>\n",
       "      <td>11</td>\n",
       "    </tr>\n",
       "    <tr>\n",
       "      <th>1</th>\n",
       "      <td>서울 아산숙소힐하우스펜션</td>\n",
       "      <td>4.6</td>\n",
       "      <td>예약마감</td>\n",
       "      <td>숙소 위치보기</td>\n",
       "      <td>[와이파이]</td>\n",
       "      <td>[일단 1인실이 있는게 가장 마음에 들었습니다. 방도 깔끔하고 화장실도 청결했고 1...</td>\n",
       "      <td>[]</td>\n",
       "      <td>서울특별시 송파구 토성로 21 3층</td>\n",
       "      <td>IPTV/WiFi</td>\n",
       "      <td>28</td>\n",
       "    </tr>\n",
       "    <tr>\n",
       "      <th>2</th>\n",
       "      <td>서울 신촌위고인호스텔</td>\n",
       "      <td>4.7</td>\n",
       "      <td>예약마감</td>\n",
       "      <td>숙소 위치보기</td>\n",
       "      <td>[와이파이, 커피숍]</td>\n",
       "      <td>[편하게 쉬다가 갑니다~~감사합니다~~^^, 신촌세브란스 병원 진료때문에 예약했는데...</td>\n",
       "      <td>[]</td>\n",
       "      <td>서울특별시 서대문구 신촌로 141 위고인호스텔 빌딩</td>\n",
       "      <td>IPTV/WiFi카페</td>\n",
       "      <td>25</td>\n",
       "    </tr>\n",
       "    <tr>\n",
       "      <th>3</th>\n",
       "      <td>명동 더로드펜션</td>\n",
       "      <td>5.0</td>\n",
       "      <td>70000</td>\n",
       "      <td>숙소 위치보기</td>\n",
       "      <td>[주차가능, 무료영화(OTT), 와이파이]</td>\n",
       "      <td>[시설도 너무 좋았어요! 자주 이용하겠습니다!, 침구가 넓고 깔끔해서 좋았습니다!!]</td>\n",
       "      <td>[]</td>\n",
       "      <td>서울특별시 중구 소공로6길 13-8</td>\n",
       "      <td>IPTV/WiFi● 객실에서 데이터 걱정 없이 빠르고 편리하게 인터넷을 즐겨보세요!...</td>\n",
       "      <td>2</td>\n",
       "    </tr>\n",
       "    <tr>\n",
       "      <th>4</th>\n",
       "      <td>서울 남산스토리나인호스텔</td>\n",
       "      <td>5.0</td>\n",
       "      <td>104000</td>\n",
       "      <td>숙소 위치보기</td>\n",
       "      <td>[주차가능, 와이파이, 복층구조, 독채객실, 이벤트가능]</td>\n",
       "      <td>[좋았어요 호텔들보다 맘에들었네요 직원분들도 친절하셨고 그냥 원룸에서 자취하는 느낌...</td>\n",
       "      <td>[]</td>\n",
       "      <td>서울특별시 중구 퇴계로8길 93</td>\n",
       "      <td>복층독채객실IPTV/WiFi이벤트가능주차가능</td>\n",
       "      <td>5</td>\n",
       "    </tr>\n",
       "    <tr>\n",
       "      <th>5</th>\n",
       "      <td>종로 락고재서울북촌한옥마을펜션</td>\n",
       "      <td>5.0</td>\n",
       "      <td>390000</td>\n",
       "      <td>숙소 위치보기</td>\n",
       "      <td>[주차가능, 조식운영, 와이파이, 독채객실]</td>\n",
       "      <td>[한옥의 고풍스러움을 느낄 수 있고  편안한 하루 보낼 수 있었어요! 조식도 맛있었...</td>\n",
       "      <td>[]</td>\n",
       "      <td>서울특별시 종로구 계동길 49-23</td>\n",
       "      <td>독채객실IPTV/WiFi조식서비스주차가능</td>\n",
       "      <td>10</td>\n",
       "    </tr>\n",
       "    <tr>\n",
       "      <th>6</th>\n",
       "      <td>서울 오요호스텔동대문1</td>\n",
       "      <td>3.0</td>\n",
       "      <td>예약마감</td>\n",
       "      <td>숙소 위치보기</td>\n",
       "      <td>[게임, 와이파이, 객실금연, 수화물보관]</td>\n",
       "      <td>[루프탑이 좋았고 여럿이서 서울서 놀때 가기 딱 좋은 것 같습니다, 방이랑 화장실 ...</td>\n",
       "      <td>[]</td>\n",
       "      <td>서울특별시 종로구 대학로2길 25-2 2.3.4층(효제동)</td>\n",
       "      <td>IPTV/WiFi● 펜션에 Wi-Fi가 설치되어 있어 인터넷 사용이 가능합니다.객실...</td>\n",
       "      <td>3</td>\n",
       "    </tr>\n",
       "    <tr>\n",
       "      <th>7</th>\n",
       "      <td>서울 오요호스텔명동3</td>\n",
       "      <td>4.0</td>\n",
       "      <td>예약마감</td>\n",
       "      <td>숙소 위치보기</td>\n",
       "      <td>[조식운영, 와이파이, 공용주방]</td>\n",
       "      <td>[화장실이 깨끗하고 침대도 깔끔해서 좋았어요.근데 창가 쪽 턱이 청소가 안되어있어서...</td>\n",
       "      <td>[]</td>\n",
       "      <td>서울특별시 중구 명동10길 35-20</td>\n",
       "      <td>IPTV/WiFi● 객실에서 데이터 걱정 없이 빠르고 편리하게 인터넷을 즐겨보세요!...</td>\n",
       "      <td>1</td>\n",
       "    </tr>\n",
       "    <tr>\n",
       "      <th>8</th>\n",
       "      <td>영등포 캡슐M펜션</td>\n",
       "      <td>1.0</td>\n",
       "      <td>65000</td>\n",
       "      <td>숙소 위치보기</td>\n",
       "      <td>[바베큐, 와이파이, 파티가능, 커피숍]</td>\n",
       "      <td>[후기가 하나도 없어서 걱정했는데 생각보다 괜찮았어요. 캡슐에 잠금 장치 있고 안에...</td>\n",
       "      <td>[]</td>\n",
       "      <td>서울특별시 영등포구 경인로100길 1-10</td>\n",
       "      <td>IPTV/WiFi● 게스트 하우스에 Wi-Fi가 설치되어 있어 인터넷 사용이 가능합...</td>\n",
       "      <td>2</td>\n",
       "    </tr>\n",
       "    <tr>\n",
       "      <th>9</th>\n",
       "      <td>서울 홍대필로소퍼호스텔</td>\n",
       "      <td>3.6</td>\n",
       "      <td>예약마감</td>\n",
       "      <td>숙소 위치보기</td>\n",
       "      <td>[와이파이, 상비약]</td>\n",
       "      <td>[후기보고 취소해야되나 했는데 방음빼곤 다 좋았어요방음때문인지 귀마개 있긴한데 뭐 ...</td>\n",
       "      <td>[]</td>\n",
       "      <td>서울특별시 마포구 동교로 217</td>\n",
       "      <td>IPTV/WiFi상비약</td>\n",
       "      <td>5</td>\n",
       "    </tr>\n",
       "    <tr>\n",
       "      <th>10</th>\n",
       "      <td>서울 오요호스텔명동1</td>\n",
       "      <td>3.0</td>\n",
       "      <td>예약마감</td>\n",
       "      <td>숙소 위치보기</td>\n",
       "      <td>[와이파이]</td>\n",
       "      <td>[위치는 좋았으나 방음 ㅎ 1도 안됩니다 옆방대화소리 그대로 다 들려요]</td>\n",
       "      <td>[]</td>\n",
       "      <td>서울특별시 중구 명동8길 21-7 3~4층(명동2가)</td>\n",
       "      <td>IPTV/WiFi</td>\n",
       "      <td>1</td>\n",
       "    </tr>\n",
       "    <tr>\n",
       "      <th>11</th>\n",
       "      <td>서울 아트래블홈게스트하우스</td>\n",
       "      <td>5.0</td>\n",
       "      <td>예약마감</td>\n",
       "      <td>숙소 위치보기</td>\n",
       "      <td>[와이파이]</td>\n",
       "      <td>[화장실 냄새가 좀 그랬어요…ㅠ 그리고 연박으로 묵었는데 마지막 날은 갑자기 들어오...</td>\n",
       "      <td>[]</td>\n",
       "      <td>서울특별시 중구 명동8나길 18 인송빌딩 6층 아트래블홈</td>\n",
       "      <td>IPTV/WiFi</td>\n",
       "      <td>6</td>\n",
       "    </tr>\n",
       "    <tr>\n",
       "      <th>12</th>\n",
       "      <td>서울 벙크게스트하우스</td>\n",
       "      <td>4.4</td>\n",
       "      <td>예약마감</td>\n",
       "      <td>숙소 위치보기</td>\n",
       "      <td>[조식운영, 와이파이, 이벤트가능]</td>\n",
       "      <td>[위치가 너무 편했고 사람님의 친철함덕에 잘 쉬고왔어요!! 오랜만에 해외간 기분이드...</td>\n",
       "      <td>[]</td>\n",
       "      <td>서울특별시 마포구 와우산로29라길 19-1</td>\n",
       "      <td>IPTV/WiFi조식서비스이벤트가능</td>\n",
       "      <td>9</td>\n",
       "    </tr>\n",
       "    <tr>\n",
       "      <th>13</th>\n",
       "      <td>서울 인사동알게스트하우스</td>\n",
       "      <td>4.8</td>\n",
       "      <td>60000</td>\n",
       "      <td>숙소 위치보기</td>\n",
       "      <td>[와이파이]</td>\n",
       "      <td>[사장님너무친절하시고따뜻방이라 너무좋앗습니다, 깨끗하고 자취방 같이 아늑합니다. 모...</td>\n",
       "      <td>[]</td>\n",
       "      <td>서울특별시 종로구 수표로28길 12-3</td>\n",
       "      <td>IPTV/WiFi</td>\n",
       "      <td>4</td>\n",
       "    </tr>\n",
       "    <tr>\n",
       "      <th>14</th>\n",
       "      <td>서울 룩스게스트하우스</td>\n",
       "      <td>3.6</td>\n",
       "      <td>예약마감</td>\n",
       "      <td>숙소 위치보기</td>\n",
       "      <td>[와이파이]</td>\n",
       "      <td>[수건 많음, 화장실은 살짝 냄새남, 잠 자기에는 편했음, 이불이 푹신했음, 가성비...</td>\n",
       "      <td>[]</td>\n",
       "      <td>서울특별시 마포구 와우산로 156 5층</td>\n",
       "      <td>IPTV/WiFi</td>\n",
       "      <td>13</td>\n",
       "    </tr>\n",
       "    <tr>\n",
       "      <th>15</th>\n",
       "      <td>서울 Bottlehouse펜션</td>\n",
       "      <td>4.0</td>\n",
       "      <td>예약마감</td>\n",
       "      <td>숙소 위치보기</td>\n",
       "      <td>[와이파이, 독채객실]</td>\n",
       "      <td>[좋았어요!!!, 🌷숙소는 역근처 건물 3층에 위치하고 있어요. 찾아오기 어렵지 않...</td>\n",
       "      <td>[]</td>\n",
       "      <td>서울특별시 구로구 경인로25길 16 301호</td>\n",
       "      <td>독채객실IPTV/WiFi</td>\n",
       "      <td>3</td>\n",
       "    </tr>\n",
       "    <tr>\n",
       "      <th>16</th>\n",
       "      <td>서울 종로준오호텔펜션</td>\n",
       "      <td>5.0</td>\n",
       "      <td>90000</td>\n",
       "      <td>숙소 위치보기</td>\n",
       "      <td>[와이파이, 상비약]</td>\n",
       "      <td>[숙소 깔끔하고 인테리어도 분위기 있어요! 특히 화장실 청소 잘되있습니다! 사장님도...</td>\n",
       "      <td>[]</td>\n",
       "      <td>서울특별시 종로구 인사동16길 6</td>\n",
       "      <td>IPTV/WiFi상비약</td>\n",
       "      <td>1</td>\n",
       "    </tr>\n",
       "    <tr>\n",
       "      <th>17</th>\n",
       "      <td>서울 홍대하얀집몽하우스펜션</td>\n",
       "      <td>1.0</td>\n",
       "      <td>119000</td>\n",
       "      <td>숙소 위치보기</td>\n",
       "      <td>[와이파이, 상비약]</td>\n",
       "      <td>[독립된 화장실이 있어서 9만원 정도에 방을 잡았습니다. 늦은 시간에 예약했다지만,...</td>\n",
       "      <td>[]</td>\n",
       "      <td>서울특별시 마포구 와우산로 162-8</td>\n",
       "      <td>IPTV/WiFi상비약</td>\n",
       "      <td>1</td>\n",
       "    </tr>\n",
       "    <tr>\n",
       "      <th>18</th>\n",
       "      <td>서울 홈즈남산펜션</td>\n",
       "      <td>1.0</td>\n",
       "      <td>135000</td>\n",
       "      <td>숙소 위치보기</td>\n",
       "      <td>[조식운영, 와이파이, 커피숍]</td>\n",
       "      <td>[]</td>\n",
       "      <td>[]</td>\n",
       "      <td>서울특별시 중구 충무로 3</td>\n",
       "      <td>IPTV/WiFi카페조식서비스</td>\n",
       "      <td>0</td>\n",
       "    </tr>\n",
       "    <tr>\n",
       "      <th>19</th>\n",
       "      <td>삼각지 하우재 게스트하우스</td>\n",
       "      <td>1.0</td>\n",
       "      <td>예약마감</td>\n",
       "      <td>숙소 위치보기</td>\n",
       "      <td>[패밀리, 객실금연, 식사가능]</td>\n",
       "      <td>[]</td>\n",
       "      <td>[]</td>\n",
       "      <td>서울특별시 용산구 한강대로62나길 11</td>\n",
       "      <td>객실금연식사가능패밀리</td>\n",
       "      <td>0</td>\n",
       "    </tr>\n",
       "    <tr>\n",
       "      <th>20</th>\n",
       "      <td>영등포 캡슐마중게스트하우스</td>\n",
       "      <td>1.0</td>\n",
       "      <td>65000</td>\n",
       "      <td>숙소 위치보기</td>\n",
       "      <td>[바베큐, 와이파이, 객실금연, 픽업가능, 커피숍, 세미나실]</td>\n",
       "      <td>[]</td>\n",
       "      <td>[]</td>\n",
       "      <td>서울특별시 영등포구 경인로100길 1-10</td>\n",
       "      <td>IPTV/WiFi객실금연세미나실바비큐장카페픽업가능</td>\n",
       "      <td>0</td>\n",
       "    </tr>\n",
       "    <tr>\n",
       "      <th>21</th>\n",
       "      <td>회기 24게스트하우스 경희대점</td>\n",
       "      <td>1.0</td>\n",
       "      <td>50000</td>\n",
       "      <td>숙소 위치보기</td>\n",
       "      <td>[와이파이, 객실금연, 식사가능]</td>\n",
       "      <td>[]</td>\n",
       "      <td>[]</td>\n",
       "      <td>서울특별시 동대문구 회기로29길 18</td>\n",
       "      <td>IPTV/WiFi객실금연식사가능</td>\n",
       "      <td>0</td>\n",
       "    </tr>\n",
       "    <tr>\n",
       "      <th>22</th>\n",
       "      <td>종로 인우하우스펜션</td>\n",
       "      <td>1.0</td>\n",
       "      <td>예약마감</td>\n",
       "      <td>숙소 위치보기</td>\n",
       "      <td>[조식운영]</td>\n",
       "      <td>[]</td>\n",
       "      <td>[]</td>\n",
       "      <td>서울특별시 종로구 계동6길 9</td>\n",
       "      <td>조식서비스</td>\n",
       "      <td>0</td>\n",
       "    </tr>\n",
       "    <tr>\n",
       "      <th>23</th>\n",
       "      <td>명동 마마게스트하우스</td>\n",
       "      <td>1.0</td>\n",
       "      <td>85000</td>\n",
       "      <td>숙소 위치보기</td>\n",
       "      <td>[애견동반, 주차가능, 개별바베큐, 와이파이, 커플룸, 객실금연, 픽업가능]</td>\n",
       "      <td>[]</td>\n",
       "      <td>[]</td>\n",
       "      <td>서울특별시 중구 소파로4길 34-1</td>\n",
       "      <td>별바비큐IPTV/WiFi커플룸객실금연반려동물주차가능픽업가능</td>\n",
       "      <td>0</td>\n",
       "    </tr>\n",
       "    <tr>\n",
       "      <th>24</th>\n",
       "      <td>신사 류게스트하우스</td>\n",
       "      <td>1.0</td>\n",
       "      <td>예약마감</td>\n",
       "      <td>숙소 위치보기</td>\n",
       "      <td>[애견동반, 조식운영, 와이파이, 패밀리, 객실금연, 식사가능]</td>\n",
       "      <td>[]</td>\n",
       "      <td>[]</td>\n",
       "      <td>서울특별시 강남구 논현로159길 22-2</td>\n",
       "      <td>IPTV/WiFi객실금연반려동물조식서비스식사가능패밀리</td>\n",
       "      <td>0</td>\n",
       "    </tr>\n",
       "    <tr>\n",
       "      <th>25</th>\n",
       "      <td>서울 오요호스텔명동2</td>\n",
       "      <td>1.0</td>\n",
       "      <td>예약마감</td>\n",
       "      <td>숙소 위치보기</td>\n",
       "      <td>[객실금연]</td>\n",
       "      <td>[]</td>\n",
       "      <td>[]</td>\n",
       "      <td>서울특별시 중구 명동8가길 52</td>\n",
       "      <td>객실금연펜션즐기기* 프로젝터 이용가능* 주차 불가능</td>\n",
       "      <td>0</td>\n",
       "    </tr>\n",
       "    <tr>\n",
       "      <th>26</th>\n",
       "      <td>서울 북촌마루한옥게스트하우스</td>\n",
       "      <td>1.0</td>\n",
       "      <td>120000</td>\n",
       "      <td>숙소 위치보기</td>\n",
       "      <td>[와이파이]</td>\n",
       "      <td>[]</td>\n",
       "      <td>[]</td>\n",
       "      <td>서울특별시 종로구 창덕궁길 152</td>\n",
       "      <td>IPTV/WiFi</td>\n",
       "      <td>0</td>\n",
       "    </tr>\n",
       "    <tr>\n",
       "      <th>27</th>\n",
       "      <td>서울 빙고호스텔(INSADONG)</td>\n",
       "      <td>1.0</td>\n",
       "      <td>예약마감</td>\n",
       "      <td>숙소 위치보기</td>\n",
       "      <td>[조식운영, 와이파이]</td>\n",
       "      <td>[접근성 좋아요]</td>\n",
       "      <td>[]</td>\n",
       "      <td>서울특별시 종로구 종로 63-13</td>\n",
       "      <td>IPTV/WiFi조식서비스</td>\n",
       "      <td>0</td>\n",
       "    </tr>\n",
       "    <tr>\n",
       "      <th>28</th>\n",
       "      <td>서울 달빛동대문게스트하우스</td>\n",
       "      <td>1.0</td>\n",
       "      <td>예약마감</td>\n",
       "      <td>숙소 위치보기</td>\n",
       "      <td>[조식운영, 객실금연]</td>\n",
       "      <td>[잘쉬었어요, 잠만 자고 나와서 시설 이용은 못해봤지만 보드게임도 있고 공동거실도 ...</td>\n",
       "      <td>[]</td>\n",
       "      <td>서울특별시 종로구 종로54길 9-10</td>\n",
       "      <td>객실금연조식서비스</td>\n",
       "      <td>0</td>\n",
       "    </tr>\n",
       "    <tr>\n",
       "      <th>29</th>\n",
       "      <td>서울 종로모꼬지게스트하우스</td>\n",
       "      <td>1.0</td>\n",
       "      <td>예약마감</td>\n",
       "      <td>숙소 위치보기</td>\n",
       "      <td>[주차가능, 조식운영, 와이파이]</td>\n",
       "      <td>[]</td>\n",
       "      <td>[]</td>\n",
       "      <td>서울특별시 종로구 혜화로16길 13-6</td>\n",
       "      <td>IPTV/WiFi조식서비스주차가능</td>\n",
       "      <td>0</td>\n",
       "    </tr>\n",
       "    <tr>\n",
       "      <th>30</th>\n",
       "      <td>서울 혜화1938펜션</td>\n",
       "      <td>1.0</td>\n",
       "      <td>예약마감</td>\n",
       "      <td>숙소 위치보기</td>\n",
       "      <td>[주차가능, 와이파이, 독채객실, 세미나실]</td>\n",
       "      <td>[기대이상으로 너무 예뻤던 곳고향이 같은 실장님을 만나 더 반가웠어용👏]</td>\n",
       "      <td>[]</td>\n",
       "      <td>서울특별시 종로구 성균관로16길 7</td>\n",
       "      <td>독채객실IPTV/WiFi세미나실주차가능</td>\n",
       "      <td>0</td>\n",
       "    </tr>\n",
       "  </tbody>\n",
       "</table>\n",
       "</div>"
      ],
      "text/plain": [
       "                    이름   평점      가격     도보시간  \\\n",
       "0          서울 명동루프탑호스텔  4.4    예약마감  숙소 위치보기   \n",
       "1        서울 아산숙소힐하우스펜션  4.6    예약마감  숙소 위치보기   \n",
       "2          서울 신촌위고인호스텔  4.7    예약마감  숙소 위치보기   \n",
       "3             명동 더로드펜션  5.0   70000  숙소 위치보기   \n",
       "4        서울 남산스토리나인호스텔  5.0  104000  숙소 위치보기   \n",
       "5     종로 락고재서울북촌한옥마을펜션  5.0  390000  숙소 위치보기   \n",
       "6         서울 오요호스텔동대문1  3.0    예약마감  숙소 위치보기   \n",
       "7          서울 오요호스텔명동3  4.0    예약마감  숙소 위치보기   \n",
       "8            영등포 캡슐M펜션  1.0   65000  숙소 위치보기   \n",
       "9         서울 홍대필로소퍼호스텔  3.6    예약마감  숙소 위치보기   \n",
       "10         서울 오요호스텔명동1  3.0    예약마감  숙소 위치보기   \n",
       "11      서울 아트래블홈게스트하우스  5.0    예약마감  숙소 위치보기   \n",
       "12         서울 벙크게스트하우스  4.4    예약마감  숙소 위치보기   \n",
       "13       서울 인사동알게스트하우스  4.8   60000  숙소 위치보기   \n",
       "14         서울 룩스게스트하우스  3.6    예약마감  숙소 위치보기   \n",
       "15    서울 Bottlehouse펜션  4.0    예약마감  숙소 위치보기   \n",
       "16         서울 종로준오호텔펜션  5.0   90000  숙소 위치보기   \n",
       "17      서울 홍대하얀집몽하우스펜션  1.0  119000  숙소 위치보기   \n",
       "18           서울 홈즈남산펜션  1.0  135000  숙소 위치보기   \n",
       "19      삼각지 하우재 게스트하우스  1.0    예약마감  숙소 위치보기   \n",
       "20      영등포 캡슐마중게스트하우스  1.0   65000  숙소 위치보기   \n",
       "21    회기 24게스트하우스 경희대점  1.0   50000  숙소 위치보기   \n",
       "22          종로 인우하우스펜션  1.0    예약마감  숙소 위치보기   \n",
       "23         명동 마마게스트하우스  1.0   85000  숙소 위치보기   \n",
       "24          신사 류게스트하우스  1.0    예약마감  숙소 위치보기   \n",
       "25         서울 오요호스텔명동2  1.0    예약마감  숙소 위치보기   \n",
       "26     서울 북촌마루한옥게스트하우스  1.0  120000  숙소 위치보기   \n",
       "27  서울 빙고호스텔(INSADONG)  1.0    예약마감  숙소 위치보기   \n",
       "28      서울 달빛동대문게스트하우스  1.0    예약마감  숙소 위치보기   \n",
       "29      서울 종로모꼬지게스트하우스  1.0    예약마감  숙소 위치보기   \n",
       "30         서울 혜화1938펜션  1.0    예약마감  숙소 위치보기   \n",
       "\n",
       "                                    인기시설 및 서비스  \\\n",
       "0                                 [흡연구역, 객실금연]   \n",
       "1                                       [와이파이]   \n",
       "2                                  [와이파이, 커피숍]   \n",
       "3                      [주차가능, 무료영화(OTT), 와이파이]   \n",
       "4              [주차가능, 와이파이, 복층구조, 독채객실, 이벤트가능]   \n",
       "5                     [주차가능, 조식운영, 와이파이, 독채객실]   \n",
       "6                      [게임, 와이파이, 객실금연, 수화물보관]   \n",
       "7                           [조식운영, 와이파이, 공용주방]   \n",
       "8                       [바베큐, 와이파이, 파티가능, 커피숍]   \n",
       "9                                  [와이파이, 상비약]   \n",
       "10                                      [와이파이]   \n",
       "11                                      [와이파이]   \n",
       "12                         [조식운영, 와이파이, 이벤트가능]   \n",
       "13                                      [와이파이]   \n",
       "14                                      [와이파이]   \n",
       "15                                [와이파이, 독채객실]   \n",
       "16                                 [와이파이, 상비약]   \n",
       "17                                 [와이파이, 상비약]   \n",
       "18                           [조식운영, 와이파이, 커피숍]   \n",
       "19                           [패밀리, 객실금연, 식사가능]   \n",
       "20          [바베큐, 와이파이, 객실금연, 픽업가능, 커피숍, 세미나실]   \n",
       "21                          [와이파이, 객실금연, 식사가능]   \n",
       "22                                      [조식운영]   \n",
       "23  [애견동반, 주차가능, 개별바베큐, 와이파이, 커플룸, 객실금연, 픽업가능]   \n",
       "24         [애견동반, 조식운영, 와이파이, 패밀리, 객실금연, 식사가능]   \n",
       "25                                      [객실금연]   \n",
       "26                                      [와이파이]   \n",
       "27                                [조식운영, 와이파이]   \n",
       "28                                [조식운영, 객실금연]   \n",
       "29                          [주차가능, 조식운영, 와이파이]   \n",
       "30                    [주차가능, 와이파이, 독채객실, 세미나실]   \n",
       "\n",
       "                                            별점 높은순 후기 별점 낮은순 후기  \\\n",
       "0   [너무 즐겁게 잘놀다 왔어요, 아이들과 즐거운 추억만들었어요.방이너무 따듯하고좋았어...        []   \n",
       "1   [일단 1인실이 있는게 가장 마음에 들었습니다. 방도 깔끔하고 화장실도 청결했고 1...        []   \n",
       "2   [편하게 쉬다가 갑니다~~감사합니다~~^^, 신촌세브란스 병원 진료때문에 예약했는데...        []   \n",
       "3     [시설도 너무 좋았어요! 자주 이용하겠습니다!, 침구가 넓고 깔끔해서 좋았습니다!!]        []   \n",
       "4   [좋았어요 호텔들보다 맘에들었네요 직원분들도 친절하셨고 그냥 원룸에서 자취하는 느낌...        []   \n",
       "5   [한옥의 고풍스러움을 느낄 수 있고  편안한 하루 보낼 수 있었어요! 조식도 맛있었...        []   \n",
       "6   [루프탑이 좋았고 여럿이서 서울서 놀때 가기 딱 좋은 것 같습니다, 방이랑 화장실 ...        []   \n",
       "7   [화장실이 깨끗하고 침대도 깔끔해서 좋았어요.근데 창가 쪽 턱이 청소가 안되어있어서...        []   \n",
       "8   [후기가 하나도 없어서 걱정했는데 생각보다 괜찮았어요. 캡슐에 잠금 장치 있고 안에...        []   \n",
       "9   [후기보고 취소해야되나 했는데 방음빼곤 다 좋았어요방음때문인지 귀마개 있긴한데 뭐 ...        []   \n",
       "10           [위치는 좋았으나 방음 ㅎ 1도 안됩니다 옆방대화소리 그대로 다 들려요]        []   \n",
       "11  [화장실 냄새가 좀 그랬어요…ㅠ 그리고 연박으로 묵었는데 마지막 날은 갑자기 들어오...        []   \n",
       "12  [위치가 너무 편했고 사람님의 친철함덕에 잘 쉬고왔어요!! 오랜만에 해외간 기분이드...        []   \n",
       "13  [사장님너무친절하시고따뜻방이라 너무좋앗습니다, 깨끗하고 자취방 같이 아늑합니다. 모...        []   \n",
       "14  [수건 많음, 화장실은 살짝 냄새남, 잠 자기에는 편했음, 이불이 푹신했음, 가성비...        []   \n",
       "15  [좋았어요!!!, 🌷숙소는 역근처 건물 3층에 위치하고 있어요. 찾아오기 어렵지 않...        []   \n",
       "16  [숙소 깔끔하고 인테리어도 분위기 있어요! 특히 화장실 청소 잘되있습니다! 사장님도...        []   \n",
       "17  [독립된 화장실이 있어서 9만원 정도에 방을 잡았습니다. 늦은 시간에 예약했다지만,...        []   \n",
       "18                                                 []        []   \n",
       "19                                                 []        []   \n",
       "20                                                 []        []   \n",
       "21                                                 []        []   \n",
       "22                                                 []        []   \n",
       "23                                                 []        []   \n",
       "24                                                 []        []   \n",
       "25                                                 []        []   \n",
       "26                                                 []        []   \n",
       "27                                          [접근성 좋아요]        []   \n",
       "28  [잘쉬었어요, 잠만 자고 나와서 시설 이용은 못해봤지만 보드게임도 있고 공동거실도 ...        []   \n",
       "29                                                 []        []   \n",
       "30           [기대이상으로 너무 예뻤던 곳고향이 같은 실장님을 만나 더 반가웠어용👏]        []   \n",
       "\n",
       "                                  위치  \\\n",
       "0              서울특별시 중구 퇴계로20길 47 2층   \n",
       "1               서울특별시 송파구 토성로 21 3층    \n",
       "2      서울특별시 서대문구 신촌로 141 위고인호스텔 빌딩    \n",
       "3               서울특별시 중구 소공로6길 13-8    \n",
       "4                 서울특별시 중구 퇴계로8길 93    \n",
       "5               서울특별시 종로구 계동길 49-23    \n",
       "6   서울특별시 종로구 대학로2길 25-2 2.3.4층(효제동)   \n",
       "7              서울특별시 중구 명동10길 35-20    \n",
       "8           서울특별시 영등포구 경인로100길 1-10    \n",
       "9                 서울특별시 마포구 동교로 217    \n",
       "10     서울특별시 중구 명동8길 21-7 3~4층(명동2가)   \n",
       "11  서울특별시 중구 명동8나길 18 인송빌딩 6층 아트래블홈    \n",
       "12          서울특별시 마포구 와우산로29라길 19-1    \n",
       "13             서울특별시 종로구 수표로28길 12-3   \n",
       "14             서울특별시 마포구 와우산로 156 5층   \n",
       "15          서울특별시 구로구 경인로25길 16 301호   \n",
       "16               서울특별시 종로구 인사동16길 6    \n",
       "17             서울특별시 마포구 와우산로 162-8    \n",
       "18                    서울특별시 중구 충무로 3   \n",
       "19            서울특별시 용산구 한강대로62나길 11    \n",
       "20          서울특별시 영등포구 경인로100길 1-10    \n",
       "21             서울특별시 동대문구 회기로29길 18    \n",
       "22                 서울특별시 종로구 계동6길 9    \n",
       "23              서울특별시 중구 소파로4길 34-1    \n",
       "24           서울특별시 강남구 논현로159길 22-2    \n",
       "25                서울특별시 중구 명동8가길 52    \n",
       "26                서울특별시 종로구 창덕궁길 152   \n",
       "27               서울특별시 종로구 종로 63-13    \n",
       "28              서울특별시 종로구 종로54길 9-10   \n",
       "29            서울특별시 종로구 혜화로16길 13-6    \n",
       "30               서울특별시 종로구 성균관로16길 7   \n",
       "\n",
       "                                       와이파이 가능여부 및 기타  후기 갯수  \n",
       "0                 객실금연흡연구역 *전 객실 금연구역입니다.(건물 옥상 흡연가능)     11  \n",
       "1                                           IPTV/WiFi     28  \n",
       "2                                         IPTV/WiFi카페     25  \n",
       "3   IPTV/WiFi● 객실에서 데이터 걱정 없이 빠르고 편리하게 인터넷을 즐겨보세요!...      2  \n",
       "4                            복층독채객실IPTV/WiFi이벤트가능주차가능      5  \n",
       "5                              독채객실IPTV/WiFi조식서비스주차가능     10  \n",
       "6   IPTV/WiFi● 펜션에 Wi-Fi가 설치되어 있어 인터넷 사용이 가능합니다.객실...      3  \n",
       "7   IPTV/WiFi● 객실에서 데이터 걱정 없이 빠르고 편리하게 인터넷을 즐겨보세요!...      1  \n",
       "8   IPTV/WiFi● 게스트 하우스에 Wi-Fi가 설치되어 있어 인터넷 사용이 가능합...      2  \n",
       "9                                        IPTV/WiFi상비약      5  \n",
       "10                                          IPTV/WiFi      1  \n",
       "11                                          IPTV/WiFi      6  \n",
       "12                                IPTV/WiFi조식서비스이벤트가능      9  \n",
       "13                                          IPTV/WiFi      4  \n",
       "14                                          IPTV/WiFi     13  \n",
       "15                                      독채객실IPTV/WiFi      3  \n",
       "16                                       IPTV/WiFi상비약      1  \n",
       "17                                       IPTV/WiFi상비약      1  \n",
       "18                                   IPTV/WiFi카페조식서비스      0  \n",
       "19                                        객실금연식사가능패밀리      0  \n",
       "20                        IPTV/WiFi객실금연세미나실바비큐장카페픽업가능      0  \n",
       "21                                  IPTV/WiFi객실금연식사가능      0  \n",
       "22                                              조식서비스      0  \n",
       "23                   별바비큐IPTV/WiFi커플룸객실금연반려동물주차가능픽업가능      0  \n",
       "24                      IPTV/WiFi객실금연반려동물조식서비스식사가능패밀리      0  \n",
       "25                       객실금연펜션즐기기* 프로젝터 이용가능* 주차 불가능      0  \n",
       "26                                          IPTV/WiFi      0  \n",
       "27                                     IPTV/WiFi조식서비스      0  \n",
       "28                                          객실금연조식서비스      0  \n",
       "29                                 IPTV/WiFi조식서비스주차가능      0  \n",
       "30                              독채객실IPTV/WiFi세미나실주차가능      0  "
      ]
     },
     "execution_count": 27,
     "metadata": {},
     "output_type": "execute_result"
    }
   ],
   "source": [
    "df"
   ]
  },
  {
   "cell_type": "code",
   "execution_count": 36,
   "id": "024ba829",
   "metadata": {},
   "outputs": [],
   "source": [
    "df.to_csv('서울팬션크롤링2.csv', encoding='utf-8-sig', index=False)"
   ]
  },
  {
   "cell_type": "code",
   "execution_count": 42,
   "id": "c906693c",
   "metadata": {},
   "outputs": [
    {
     "ename": "NameError",
     "evalue": "name 'output_path' is not defined",
     "output_type": "error",
     "traceback": [
      "\u001b[1;31m---------------------------------------------------------------------------\u001b[0m",
      "\u001b[1;31mNameError\u001b[0m                                 Traceback (most recent call last)",
      "Cell \u001b[1;32mIn[42], line 1\u001b[0m\n\u001b[1;32m----> 1\u001b[0m df\u001b[38;5;241m.\u001b[39mto_csv(\u001b[43moutput_path\u001b[49m, encoding\u001b[38;5;241m=\u001b[39m\u001b[38;5;124m'\u001b[39m\u001b[38;5;124meuc-kr\u001b[39m\u001b[38;5;124m'\u001b[39m, mode\u001b[38;5;241m=\u001b[39m\u001b[38;5;124m'\u001b[39m\u001b[38;5;124ma\u001b[39m\u001b[38;5;124m'\u001b[39m, header\u001b[38;5;241m=\u001b[39m\u001b[38;5;129;01mnot\u001b[39;00m os\u001b[38;5;241m.\u001b[39mpath\u001b[38;5;241m.\u001b[39mexists(output_path))\n",
      "\u001b[1;31mNameError\u001b[0m: name 'output_path' is not defined"
     ]
    }
   ],
   "source": [
    "df.to_csv(, encoding='utf8', mode='a', header=not os.path.exists(output_path))"
   ]
  },
  {
   "cell_type": "code",
   "execution_count": null,
   "id": "695eeb32",
   "metadata": {},
   "outputs": [],
   "source": [
    "df=pd.DataFrame(lines,columns=['이름','평점','가격','도보시간','인기시설 및 서비스','후기','안후기','위치','객실수','총후기'])"
   ]
  }
 ],
 "metadata": {
  "kernelspec": {
   "display_name": "Python 3 (ipykernel)",
   "language": "python",
   "name": "python3"
  },
  "language_info": {
   "codemirror_mode": {
    "name": "ipython",
    "version": 3
   },
   "file_extension": ".py",
   "mimetype": "text/x-python",
   "name": "python",
   "nbconvert_exporter": "python",
   "pygments_lexer": "ipython3",
   "version": "3.8.7"
  }
 },
 "nbformat": 4,
 "nbformat_minor": 5
}
